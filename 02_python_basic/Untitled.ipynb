{
 "cells": [
  {
   "cell_type": "code",
   "execution_count": 41,
   "id": "24cdb529-87f1-4bbc-be3d-93df3d294049",
   "metadata": {
    "tags": []
   },
   "outputs": [],
   "source": [
    "e1,e2 = -4,13\n",
    "e3,e4 = 4,-13\n",
    "e5,e6 = -4,-13"
   ]
  },
  {
   "cell_type": "code",
   "execution_count": 43,
   "id": "728058d6-f48e-427b-85f5-7e8610e91568",
   "metadata": {
    "tags": []
   },
   "outputs": [],
   "source": [
    "n = abs(e2) // abs(e1)"
   ]
  },
  {
   "cell_type": "code",
   "execution_count": 45,
   "id": "edc9ed25-1aea-4e76-8b71-7acc01741d28",
   "metadata": {
    "tags": []
   },
   "outputs": [
    {
     "data": {
      "text/plain": [
       "1"
      ]
     },
     "execution_count": 45,
     "metadata": {},
     "output_type": "execute_result"
    }
   ],
   "source": [
    "abs(13) % abs(4)"
   ]
  },
  {
   "cell_type": "code",
   "execution_count": 52,
   "id": "b657065e-e8d1-4b0a-a0d8-0a2d7231dd12",
   "metadata": {
    "tags": []
   },
   "outputs": [],
   "source": [
    "e1,e2 = 4,-13"
   ]
  },
  {
   "cell_type": "code",
   "execution_count": 53,
   "id": "1b18c469-da22-41bd-bd7c-19f10fc8759c",
   "metadata": {
    "tags": []
   },
   "outputs": [
    {
     "name": "stdout",
     "output_type": "stream",
     "text": [
      "-3\n"
     ]
    }
   ],
   "source": [
    "if e2 * e1 < 0:\n",
    "    print(-(abs(e2) // abs(e1)))\n",
    "else:\n",
    "    print(e2 // e1)"
   ]
  },
  {
   "cell_type": "code",
   "execution_count": 54,
   "id": "553ba497-a8dc-4688-8392-01a42dc189ac",
   "metadata": {
    "tags": []
   },
   "outputs": [
    {
     "data": {
      "text/plain": [
       "3"
      ]
     },
     "execution_count": 54,
     "metadata": {},
     "output_type": "execute_result"
    }
   ],
   "source": [
    "if work == \"DIV\":\n",
    "    n = abs(e2) // abs(e1)\n",
    "    if e2 * e1 < 0:\n",
    "        dq.append(-n)\n",
    "    else:\n",
    "        dq.append(n)\n",
    "elif work == \"MOD\":\n",
    "    n = abs(e2) // abs(e1)\n",
    "    if e2 * e1 < 0:\n",
    "        dq.append(-n)\n",
    "    else:\n",
    "        dq.append(int(abs(e2)/e2*n))"
   ]
  },
  {
   "cell_type": "code",
   "execution_count": 68,
   "id": "b029d632-bfab-4c37-9679-0b27df2f31e9",
   "metadata": {
    "tags": []
   },
   "outputs": [],
   "source": [
    "e1,e2 = -4,15"
   ]
  },
  {
   "cell_type": "code",
   "execution_count": 69,
   "id": "3d616101-c68d-4b44-ae79-60a7deec4988",
   "metadata": {
    "tags": []
   },
   "outputs": [
    {
     "name": "stdout",
     "output_type": "stream",
     "text": [
      "-3\n",
      "3\n"
     ]
    }
   ],
   "source": [
    "try:\n",
    "    n = abs(e2) // abs(e1)\n",
    "    if e2 * e1 < 0:\n",
    "        print(-n)\n",
    "    else:\n",
    "        print(n)\n",
    "        \n",
    "    n = abs(e2) % abs(e1)\n",
    "    if e2<0:\n",
    "        print(-n)\n",
    "    else:\n",
    "        print(n)\n",
    "except:\n",
    "    print(\"ERROR\")"
   ]
  },
  {
   "cell_type": "code",
   "execution_count": null,
   "id": "8384bd66-d924-4d43-8e00-727f27d23b94",
   "metadata": {},
   "outputs": [],
   "source": []
  }
 ],
 "metadata": {
  "kernelspec": {
   "display_name": "Python 3 (ipykernel)",
   "language": "python",
   "name": "python3"
  },
  "language_info": {
   "codemirror_mode": {
    "name": "ipython",
    "version": 3
   },
   "file_extension": ".py",
   "mimetype": "text/x-python",
   "name": "python",
   "nbconvert_exporter": "python",
   "pygments_lexer": "ipython3",
   "version": "3.11.5"
  }
 },
 "nbformat": 4,
 "nbformat_minor": 5
}
