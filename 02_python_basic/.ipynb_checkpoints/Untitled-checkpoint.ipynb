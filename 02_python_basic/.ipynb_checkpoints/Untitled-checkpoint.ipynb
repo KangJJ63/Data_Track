{
 "cells": [
  {
   "cell_type": "code",
   "execution_count": 6,
   "id": "24cdb529-87f1-4bbc-be3d-93df3d294049",
   "metadata": {
    "tags": []
   },
   "outputs": [
    {
     "ename": "KeyboardInterrupt",
     "evalue": "",
     "output_type": "error",
     "traceback": [
      "\u001b[1;31m---------------------------------------------------------------------------\u001b[0m",
      "\u001b[1;31mKeyboardInterrupt\u001b[0m                         Traceback (most recent call last)",
      "Cell \u001b[1;32mIn[6], line 8\u001b[0m\n\u001b[0;32m      6\u001b[0m summary_work \u001b[38;5;241m=\u001b[39m {\u001b[38;5;124m\"\u001b[39m\u001b[38;5;124mADD\u001b[39m\u001b[38;5;124m\"\u001b[39m,\u001b[38;5;124m\"\u001b[39m\u001b[38;5;124mSUB\u001b[39m\u001b[38;5;124m\"\u001b[39m,\u001b[38;5;124m\"\u001b[39m\u001b[38;5;124mMUL\u001b[39m\u001b[38;5;124m\"\u001b[39m,\u001b[38;5;124m\"\u001b[39m\u001b[38;5;124mDIV\u001b[39m\u001b[38;5;124m\"\u001b[39m,\u001b[38;5;124m\"\u001b[39m\u001b[38;5;124mMOD\u001b[39m\u001b[38;5;124m\"\u001b[39m,\u001b[38;5;124m\"\u001b[39m\u001b[38;5;124mSWP\u001b[39m\u001b[38;5;124m\"\u001b[39m}\n\u001b[0;32m      7\u001b[0m \u001b[38;5;28;01mwhile\u001b[39;00m \u001b[38;5;28;01mTrue\u001b[39;00m:\n\u001b[1;32m----> 8\u001b[0m     work \u001b[38;5;241m=\u001b[39m sys\u001b[38;5;241m.\u001b[39mstdin\u001b[38;5;241m.\u001b[39mreadline()\u001b[38;5;241m.\u001b[39mstrip()\n\u001b[0;32m      9\u001b[0m     \u001b[38;5;28;01mif\u001b[39;00m work \u001b[38;5;241m==\u001b[39m \u001b[38;5;124m\"\u001b[39m\u001b[38;5;124mQUIT\u001b[39m\u001b[38;5;124m\"\u001b[39m:\n\u001b[0;32m     10\u001b[0m         \u001b[38;5;28;01mbreak\u001b[39;00m\n",
      "\u001b[1;31mKeyboardInterrupt\u001b[0m: "
     ]
    }
   ],
   "source": [
    "import sys\n",
    "from collections import deque\n",
    "\n",
    "work_flow = list()\n",
    "dq = None\n",
    "summary_work = {\"ADD\",\"SUB\",\"MUL\",\"DIV\",\"MOD\",\"SWP\"}\n",
    "while True:\n",
    "    work = sys.stdin.readline().strip()\n",
    "    if work == \"QUIT\":\n",
    "        break\n",
    "    if work == \"END\":\n",
    "        task()\n",
    "    if not work :\n",
    "        continue\n",
    "\n",
    "def task():\n",
    "    global work_flow,dq\n",
    "    cnt = int(input())\n",
    "    res_list = [deque([int(sys.stdin.readline().strip())])for _ in range(cnt)]\n",
    "    for res in res_list:\n",
    "        dq = res\n",
    "        for w in work_flow:\n",
    "            error_yn = go_stack(w)\n",
    "            if not error_yn:\n",
    "                sys.stdout.write(\"ERROR\")\n",
    "                break\n",
    "    work_flow = list()\n",
    "    dq = None\n",
    "        \n",
    "\n",
    "def go_stack(work:str):\n",
    "    global dq\n",
    "    try:\n",
    "        if work in summary_work:\n",
    "            e1,e2 = dq.pop(),dq.pop()\n",
    "            if work == \"ADD\":\n",
    "                dq.append(e2+e1)\n",
    "            elif work == \"SUB\":\n",
    "                dq.append(e2-e1)\n",
    "            elif work == \"MUL\":\n",
    "                dq.append(e2*e1)\n",
    "            elif work == \"DIV\":\n",
    "                dq.append(e2//e1)\n",
    "            elif work == \"MOD\":\n",
    "                dq.append(e2%e1)\n",
    "            elif work == \"SWP\":\n",
    "                dq.extend([e1,e2])\n",
    "        elif work == \"DUP\":\n",
    "            dq.append(dq[-1])\n",
    "        elif work == \"INV\":\n",
    "            dq[-1] = -(dq[-1])\n",
    "        elif work == \"POP\":\n",
    "            dq.pop()\n",
    "        elif \"NUM\" in work:\n",
    "            dq.append(int(work.split(\" \")[1]))\n",
    "        return True\n",
    "    except:\n",
    "        return False\n",
    "        "
   ]
  },
  {
   "cell_type": "code",
   "execution_count": null,
   "id": "1a7834e6-451b-4149-82bc-9b2af6843e51",
   "metadata": {},
   "outputs": [],
   "source": []
  }
 ],
 "metadata": {
  "kernelspec": {
   "display_name": "Python 3 (ipykernel)",
   "language": "python",
   "name": "python3"
  },
  "language_info": {
   "codemirror_mode": {
    "name": "ipython",
    "version": 3
   },
   "file_extension": ".py",
   "mimetype": "text/x-python",
   "name": "python",
   "nbconvert_exporter": "python",
   "pygments_lexer": "ipython3",
   "version": "3.11.5"
  }
 },
 "nbformat": 4,
 "nbformat_minor": 5
}
