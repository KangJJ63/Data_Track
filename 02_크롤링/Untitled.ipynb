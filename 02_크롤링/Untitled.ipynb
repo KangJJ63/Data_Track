{
 "cells": [
  {
   "cell_type": "code",
   "execution_count": 33,
   "id": "a66cc026-1b28-4524-bb63-ecc1b8eadc97",
   "metadata": {
    "tags": []
   },
   "outputs": [
    {
     "name": "stdout",
     "output_type": "stream",
     "text": [
      "b\n"
     ]
    }
   ],
   "source": [
    "if 0/1 :\n",
    "    print('a')\n",
    "else:\n",
    "    print('b')"
   ]
  },
  {
   "cell_type": "code",
   "execution_count": 34,
   "id": "22f80582-0ea0-4195-8016-4cda9809ba3b",
   "metadata": {
    "tags": []
   },
   "outputs": [
    {
     "ename": "ZeroDivisionError",
     "evalue": "division by zero",
     "output_type": "error",
     "traceback": [
      "\u001b[1;31m---------------------------------------------------------------------------\u001b[0m",
      "\u001b[1;31mZeroDivisionError\u001b[0m                         Traceback (most recent call last)",
      "Cell \u001b[1;32mIn[34], line 1\u001b[0m\n\u001b[1;32m----> 1\u001b[0m \u001b[38;5;28;01mif\u001b[39;00m \u001b[38;5;241m1\u001b[39m\u001b[38;5;241m/\u001b[39m\u001b[38;5;241m0\u001b[39m:\n\u001b[0;32m      2\u001b[0m     \u001b[38;5;28mprint\u001b[39m(\u001b[38;5;124m'\u001b[39m\u001b[38;5;124ma\u001b[39m\u001b[38;5;124m'\u001b[39m)\n\u001b[0;32m      3\u001b[0m \u001b[38;5;28;01melse\u001b[39;00m:\n",
      "\u001b[1;31mZeroDivisionError\u001b[0m: division by zero"
     ]
    }
   ],
   "source": [
    "if 1/0:\n",
    "    print('a')\n",
    "else:\n",
    "    print('b')"
   ]
  },
  {
   "cell_type": "code",
   "execution_count": 35,
   "id": "782e09eb-2a86-4e16-a1b6-75404d27b8ab",
   "metadata": {
    "tags": []
   },
   "outputs": [
    {
     "name": "stdout",
     "output_type": "stream",
     "text": [
      "a\n"
     ]
    }
   ],
   "source": [
    "if True or 1/0:\n",
    "    print('a')\n",
    "else:\n",
    "    print('b')"
   ]
  },
  {
   "cell_type": "code",
   "execution_count": 36,
   "id": "ef006335-4dd1-40b4-b640-ccc316d64110",
   "metadata": {
    "tags": []
   },
   "outputs": [
    {
     "name": "stdout",
     "output_type": "stream",
     "text": [
      "b\n"
     ]
    }
   ],
   "source": [
    "if False and 1/0:\n",
    "    print('a')\n",
    "else:\n",
    "    print('b')"
   ]
  },
  {
   "cell_type": "code",
   "execution_count": null,
   "id": "4bba766a-7f4a-458d-9aac-2ddabf13e08a",
   "metadata": {},
   "outputs": [],
   "source": []
  },
  {
   "cell_type": "code",
   "execution_count": 18,
   "id": "7a2c7e7e-854e-4562-b62b-774b557fbde9",
   "metadata": {
    "tags": []
   },
   "outputs": [],
   "source": [
    "### 첫번째 문제\n",
    "a = [[1,65,2,3,5],\n",
    "     [56,23,6,11,6],\n",
    "     [57,13,15,2,16],\n",
    "     [64,32,1,15,5]]\n",
    "\n",
    "#  a의 총합을 구하라 (for문 X)"
   ]
  },
  {
   "cell_type": "code",
   "execution_count": 55,
   "id": "a0722e6c-a83c-431f-8101-e00c47f81bf7",
   "metadata": {
    "tags": []
   },
   "outputs": [],
   "source": [
    "a = [1,2,3,4]"
   ]
  },
  {
   "cell_type": "code",
   "execution_count": 56,
   "id": "a279305f-5765-4319-a5e6-de8701e4d521",
   "metadata": {
    "tags": []
   },
   "outputs": [
    {
     "data": {
      "text/plain": [
       "10"
      ]
     },
     "execution_count": 56,
     "metadata": {},
     "output_type": "execute_result"
    }
   ],
   "source": [
    "sum(a)"
   ]
  },
  {
   "cell_type": "code",
   "execution_count": 40,
   "id": "5143fe28-90eb-4d66-9421-d416d19e2b97",
   "metadata": {
    "tags": []
   },
   "outputs": [
    {
     "data": {
      "text/plain": [
       "398"
      ]
     },
     "execution_count": 40,
     "metadata": {},
     "output_type": "execute_result"
    }
   ],
   "source": [
    "sum(map(sum,a))"
   ]
  },
  {
   "cell_type": "code",
   "execution_count": 74,
   "id": "d6f1ff99-2705-4d41-a792-d161b9f2cb8c",
   "metadata": {
    "tags": []
   },
   "outputs": [],
   "source": [
    "### 두번째 문제\n",
    "x = ['test','bug','strawberry123','strawberry','stange','sadfas']\n",
    "\n",
    "# x의 배열을 정렬하라.\n",
    "# 1 순위 : 단어 길이 짧은순 (for문 X)\n",
    "# 2 순위 : 단어 오름차순"
   ]
  },
  {
   "cell_type": "code",
   "execution_count": 95,
   "id": "37b72b1a-f6b5-479f-aa1f-f82d44084015",
   "metadata": {
    "tags": []
   },
   "outputs": [
    {
     "data": {
      "text/plain": [
       "['bug', 'sadfas', 'stange', 'strawberry', 'strawberry123', 'test']"
      ]
     },
     "execution_count": 95,
     "metadata": {},
     "output_type": "execute_result"
    }
   ],
   "source": [
    "sorted(x, key = lambda x:x)"
   ]
  }
 ],
 "metadata": {
  "kernelspec": {
   "display_name": "Python 3 (ipykernel)",
   "language": "python",
   "name": "python3"
  },
  "language_info": {
   "codemirror_mode": {
    "name": "ipython",
    "version": 3
   },
   "file_extension": ".py",
   "mimetype": "text/x-python",
   "name": "python",
   "nbconvert_exporter": "python",
   "pygments_lexer": "ipython3",
   "version": "3.11.5"
  }
 },
 "nbformat": 4,
 "nbformat_minor": 5
}
