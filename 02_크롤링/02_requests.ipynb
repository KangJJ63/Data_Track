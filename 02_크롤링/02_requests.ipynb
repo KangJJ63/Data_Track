{
 "cells": [
  {
   "cell_type": "markdown",
   "metadata": {
    "slideshow": {
     "slide_type": "slide"
    }
   },
   "source": [
    "# requests 모듈을 이용한 웹 요청\n",
    "- [Requests 홈페이지](https://requests.kennethreitz.org/en/master/)\n",
    "- **HTTP 요청을 처리하는 파이썬 패키지**\n",
    "- get/post 방식 모두를 지원하며 쿠키, 헤더정보등을 HTTP의 다양한 요청처리를 지원한다.\n",
    "- 설치\n",
    "    - `pip install requests`\n",
    "    - `conda install -c conda-forge requests`"
   ]
  },
  {
   "cell_type": "markdown",
   "metadata": {},
   "source": [
    "## Crawling을 위한 requests 코딩 패턴\n",
    "1. requests의 get()/post() 함수를 이용해 url을 넣어 서버 요청한다.\n",
    "3. 응답받은 내용을 처리.\n",
    "    - text(HTML)은 BeautifulSoup에 넣어 parsing\n",
    "    - binary 파일의 경우 파일출력을 이용해 local에 저장"
   ]
  },
  {
   "cell_type": "markdown",
   "metadata": {
    "slideshow": {
     "slide_type": "slide"
    }
   },
   "source": [
    "## 요청 함수\n",
    "- get(): GET방식 요청\n",
    "- post(): POST방식 요청"
   ]
  },
  {
   "cell_type": "markdown",
   "metadata": {
    "slideshow": {
     "slide_type": "slide"
    }
   },
   "source": [
    "### requests.get(URL)\n",
    "- **GET 방식 요청**\n",
    "- **주요 매개변수**\n",
    "    - params: 요청파라미터를 dictionary로 전달\n",
    "    - headers: HTTP 요청 header를 dictionary로 전달\n",
    "        - 'User-Agent', 'Referer' 등 헤더 설정\n",
    "    - cookies: 쿠키정보를 전달\n",
    "- **반환값(Return Value)**\n",
    "    - [Response](#Response객체): 응답결과"
   ]
  },
  {
   "cell_type": "markdown",
   "metadata": {},
   "source": [
    "### requests.post(URL)\n",
    "- **POST 방식 요청**\n",
    "- **주요 매개변수**\n",
    "    - datas : 요청파라미터를 dictionary로 전달\n",
    "    - files : 업로드할 파일을 dictionary로 전달\n",
    "        - key: 이름, value: 파일과 연결된 InputStream(TextIOWrapper)\n",
    "    - headers: HTTP 요청 header를 dictionary로 전달\n",
    "        - 'User-Agent', 'Referer' 등 헤더 설정\n",
    "    - cookies: 쿠키정보를 전달\n",
    "- **반환값(Return Value)**\n",
    "    - [Response](#Response객체): 응답결과"
   ]
  },
  {
   "cell_type": "markdown",
   "metadata": {
    "slideshow": {
     "slide_type": "subslide"
    }
   },
   "source": [
    "> ### 요청파라미터(Request Parameter)\n",
    "> - 요청파라미터란?\n",
    ">     - 서버가 일하기 위해 클라이언트로 부터 받아야하는 값들\n",
    ">     - `name=value` 형태이며 여러개일 경우 `&`로 연결해서 전송됨\n",
    "> - Get 요청시 queryString 으로 전달\n",
    ">     - querystring : URL 뒤에 붙여서 전송한다.\n",
    ">     - ex) https://search.naver.com/search.naver?sm=top_hty&fbm=1&ie=utf8&query=python\n",
    ">     - requests.get() 요청시 \n",
    ">         1. url 뒤에 querystring으로 붙여서 전송\n",
    ">         2. dictionary 에 name=value 형태로 만들어 매개변수 params에 전달\n",
    "> - Post 요청시 요청정보의 body에 넣어 전달"
   ]
  },
  {
   "cell_type": "markdown",
   "metadata": {},
   "source": [
    "> ### HTTP 요청 헤더(Request Header)\n",
    "> HTTP 요청시 웹브라우저가 client의 여러 부가적인 정보들을 Key-Value 쌍 형식으로 전달한다.\n",
    "> - accept: 클라이언트가 처리가능한 content 타입 (Mime-type 형식으로 전달)\n",
    "> - accept-language: 클라이언트가 지원하는 언어(ex: ko, en-US)\n",
    "> - host: 요청한 host \n",
    "> - user-agent: 웹브라우저 종류"
   ]
  },
  {
   "cell_type": "markdown",
   "metadata": {
    "slideshow": {
     "slide_type": "slide"
    }
   },
   "source": [
    "## Response객체 -  응답데이터\n",
    "- get()/post() 의 요청에 대한 서버의 응답 결과를 Response에 담아 반환\n",
    "    - Response의 속성을 이용해 응답결과를 조회\n",
    "- 주요 속성(Attribut)\n",
    "    - **url**\n",
    "        - 응답 받은(요청한) url \n",
    "    - **status_code**\n",
    "        - HTTP 응답 상태코드\n",
    "    - **headers**\n",
    "        - 응답 header 정보를 dictionary로 반환\n",
    "- **응답 결과 조회**\n",
    "    - **text**\n",
    "        - 응답내용(html을 str로 반환)\n",
    "    - **content**\n",
    "        - 응답내용(응답결과가 binary-image, 동영상등- 일 경우사용하며 bytes로 반환)\n",
    "    - **json()**\n",
    "        - 응답 결과가 JSON 인 경우 dictionary로 변환해서 반환"
   ]
  },
  {
   "cell_type": "markdown",
   "metadata": {},
   "source": [
    "> ### JSON(JavaScript Object Notation)\n",
    "> key-value 형태 또는 배열 형태의 text이며 이 기종간 데이터 교환에 많이 사용된다. 자바스크립트 언어에서 Object와 array를 생성하는 문법을 이용해 만듬. \n",
    "- [JSON 공식사이트](http://json.org)\n",
    ">\n",
    "> ### json 모듈\n",
    "> JSON 형식 문자열을 다루는 모듈\n",
    "> - json.loads(json문자열)\n",
    ">    - JSON 형식 문자열을 dictionary로 변환\n",
    "> - json.dumps(dictionary)\n",
    ">    - dictionary를 JSON 형식 문자열로 변환"
   ]
  },
  {
   "cell_type": "markdown",
   "metadata": {},
   "source": [
    "> ### HTTP 응답 상태코드\n",
    "> - https://developer.mozilla.org/ko/docs/Web/HTTP/Status \n",
    "- 2XX: 성공\n",
    "    - 200: OK\n",
    "- 3XX: 다른 주소로 이동 (이사)\n",
    "    - 300번대이면 자동으로 이동해 준다. 크롤링시는 볼일이 별로 없다.\n",
    "- 4XX: 클라이언트 오류 (사용자가 잘못한 것)\n",
    "  - 404: 존재하지 않는 주소\n",
    "- 5XX: 서버 오류 (서버에서 문제생긴 것)\n",
    "  - 500: 서버가 처리방법을 모르는 오류\n",
    "  - 503: 서버가 다운 등의 문제로 서비스 불가 상태"
   ]
  },
  {
   "cell_type": "code",
   "execution_count": 6,
   "metadata": {
    "tags": []
   },
   "outputs": [
    {
     "name": "stdout",
     "output_type": "stream",
     "text": [
      "<class 'requests.models.Response'>\n",
      "ok\n",
      "   <!doctype html> <html lang=\"ko\" class=\"fzoom\"> <head> <meta charset=\"utf-8\"> <meta name=\"Referrer\" content=\"origin\"> <meta http-equiv=\"X-UA-Compatible\" content=\"IE=edge\"> <meta name=\"viewport\" content=\"width=1190\"> <title>NAVER</title> <meta name=\"apple-mobile-web-app-title\" content=\"NAVER\"/> <meta name=\"robots\" content=\"index,nofollow\"/> <meta name=\"description\" content=\"네이버 메인에서 다양한 정보와 유용한 컨텐츠를 만나 보세요\"/> <meta property=\"og:title\" content=\"네이버\"> <meta property=\"og:url\" content=\"https://www.naver.com/\"> <meta property=\"og:image\" content=\"https://s.pstatic.net/static/www/mobile/edit/2016/0705/mobile_212852414260.png\"> <meta property=\"og:description\" content=\"네이버 메인에서 다양한 정보와 유용한 컨텐츠를 만나 보세요\"/> <meta name=\"twitter:card\" content=\"summary\"> <meta name=\"twitter:title\" content=\"\"> <meta name=\"twitter:url\" content=\"https://www.naver.com/\"> <meta name=\"twitter:image\" content=\"https://s.pstatic.net/static/www/mobile/edit/2016/0705/mobile_212852414260.png\"> <meta name=\"twitter:description\" c\n"
     ]
    }
   ],
   "source": [
    "import requests\n",
    "from bs4 import BeautifulSoup\n",
    "\n",
    "url = \"https://www.naver.com\"\n",
    "\n",
    "# url에 문서를 요청\n",
    "res = requests.get(url)\n",
    "print(type(res))\n",
    "\n",
    "if res.status_code == 200:\n",
    "    print(\"ok\")\n",
    "    html = res.text\n",
    "    print(html[:1000])\n",
    "else:\n",
    "    print(res.status_code,\"fail...\")"
   ]
  },
  {
   "cell_type": "code",
   "execution_count": 3,
   "metadata": {
    "tags": []
   },
   "outputs": [
    {
     "data": {
      "text/plain": [
       "200"
      ]
     },
     "execution_count": 3,
     "metadata": {},
     "output_type": "execute_result"
    }
   ],
   "source": [
    "res.status_code"
   ]
  },
  {
   "cell_type": "code",
   "execution_count": 14,
   "metadata": {
    "tags": []
   },
   "outputs": [
    {
     "name": "stdout",
     "output_type": "stream",
     "text": [
      "resp :  200\n",
      "<class 'dict'>\n",
      "{'args': {'id': 'sfsd3', 'key': 'test', 'page': '30'},\n",
      " 'headers': {'Accept': '*/*',\n",
      "             'Accept-Encoding': 'gzip, deflate, br',\n",
      "             'Host': 'httpbin.org',\n",
      "             'My-Name': 'Lee',\n",
      "             'User-Agent': 'Mozilla/5.0 (Windows NT 10.0; Win64; x64) '\n",
      "                           'AppleWebKit/537.36 (KHTML, like Gecko) '\n",
      "                           'Chrome/120.0.0.0 Safari/537.36',\n",
      "             'X-Amzn-Trace-Id': 'Root=1-659cdf37-24f2855855e1d2ac5f39f7e0'},\n",
      " 'origin': '112.220.17.226',\n",
      " 'url': 'https://httpbin.org/get?id=sfsd3&page=30&key=test'}\n"
     ]
    }
   ],
   "source": [
    "from pprint import pprint\n",
    "base_url = \"https://httpbin.org/{}\"\n",
    "url = base_url.format(\"get\")\n",
    "\n",
    "# header에 user_agent 등록\n",
    "## 개발자 도구 : 콘솔 -> navigator.userAgent\n",
    "user_agent = 'Mozilla/5.0 (Windows NT 10.0; Win64; x64) AppleWebKit/537.36 (KHTML, like Gecko) Chrome/120.0.0.0 Safari/537.36'\n",
    "header = {\n",
    "    \"user-agent\":user_agent\n",
    "    ,\"my-name\":\"Lee\"\n",
    "}\n",
    "\n",
    "#요청 파라미터 전송\n",
    "## 방법 1. URL 뒤에 값을 붙임. www.test?a=5&b=3\n",
    "## 방법 2. params 파라미터에 dictionary로 전달.\n",
    "params = {\n",
    "    \"id\":\"sfsd3\"\n",
    "    ,\"page\":30\n",
    "    ,\"key\":\"test\"\n",
    "}\n",
    "res=requests.get(url,headers=header,params = params)\n",
    "print(\"resp : \",res.status_code)\n",
    "if res.status_code == 200:\n",
    "    txt = res.json() # json형식의 응답 -> 딕셔너리로 변환해서 반환\n",
    "    print(type(txt))\n",
    "    pprint(txt)\n",
    "    # print(txt)"
   ]
  },
  {
   "cell_type": "code",
   "execution_count": null,
   "metadata": {},
   "outputs": [],
   "source": []
  },
  {
   "cell_type": "code",
   "execution_count": null,
   "metadata": {},
   "outputs": [],
   "source": []
  },
  {
   "cell_type": "code",
   "execution_count": null,
   "metadata": {},
   "outputs": [],
   "source": []
  },
  {
   "cell_type": "code",
   "execution_count": null,
   "metadata": {},
   "outputs": [],
   "source": []
  },
  {
   "cell_type": "code",
   "execution_count": null,
   "metadata": {},
   "outputs": [],
   "source": []
  },
  {
   "cell_type": "code",
   "execution_count": null,
   "metadata": {},
   "outputs": [],
   "source": []
  },
  {
   "cell_type": "markdown",
   "metadata": {},
   "source": [
    "## daum news 리스트(목록)\n",
    "- https://news.daum.net"
   ]
  },
  {
   "cell_type": "code",
   "execution_count": 126,
   "metadata": {},
   "outputs": [
    {
     "data": {
      "text/html": [
       "<div>\n",
       "<style scoped>\n",
       "    .dataframe tbody tr th:only-of-type {\n",
       "        vertical-align: middle;\n",
       "    }\n",
       "\n",
       "    .dataframe tbody tr th {\n",
       "        vertical-align: top;\n",
       "    }\n",
       "\n",
       "    .dataframe thead th {\n",
       "        text-align: right;\n",
       "    }\n",
       "</style>\n",
       "<table border=\"1\" class=\"dataframe\">\n",
       "  <thead>\n",
       "    <tr style=\"text-align: right;\">\n",
       "      <th></th>\n",
       "      <th>title</th>\n",
       "      <th>url</th>\n",
       "      <th>article</th>\n",
       "      <th>reporter</th>\n",
       "      <th>date</th>\n",
       "    </tr>\n",
       "  </thead>\n",
       "  <tbody>\n",
       "    <tr>\n",
       "      <th>0</th>\n",
       "      <td>\"수도권 다자 구도 만들건가\" \"스윙중도 2030 잡아야\"</td>\n",
       "      <td>https://v.daum.net/v/20240109163002538</td>\n",
       "      <td>[박소희, 남소연 기자]김준일 대표는 12월 20일 1차 토론회와 마찬가지로 민주당...</td>\n",
       "      <td>박소희</td>\n",
       "      <td>2024. 1. 9. 16:30</td>\n",
       "    </tr>\n",
       "    <tr>\n",
       "      <th>1</th>\n",
       "      <td>중이염 잦은 아이, 발달에 문제 생길 수도?</td>\n",
       "      <td>https://v.daum.net/v/20240109150033127</td>\n",
       "      <td>어린이들이 흔하게 걸리는 중이염에 자주 걸리면 청각과 언어발달이 느려질 수 있다는 ...</td>\n",
       "      <td>한건필</td>\n",
       "      <td>2024. 1. 9. 15:00</td>\n",
       "    </tr>\n",
       "    <tr>\n",
       "      <th>2</th>\n",
       "      <td>윤세영·윤석민 \"홀딩스·SBS 지분 '필요시' 내놓겠다\"</td>\n",
       "      <td>https://v.daum.net/v/20240109164104956</td>\n",
       "      <td>윤세영 태영그룹 창업회장과 윤석민 회장이 9일 지주사인 태영홀딩스와 태영홀딩스가 보...</td>\n",
       "      <td>김미리내</td>\n",
       "      <td>2024. 1. 9. 16:41</td>\n",
       "    </tr>\n",
       "    <tr>\n",
       "      <th>3</th>\n",
       "      <td>펫 시장은 컸는데 펫 커머스는 왜 안 될까 [인포로 본 세상]</td>\n",
       "      <td>https://v.daum.net/v/20240109154754504</td>\n",
       "      <td>\"유모차보다 개모차가 잘 팔린다\"는 우스갯소리가 나돈다. 반려동물과 함께하는 사람들...</td>\n",
       "      <td>이지원 기자</td>\n",
       "      <td>2024. 1. 9. 15:47</td>\n",
       "    </tr>\n",
       "    <tr>\n",
       "      <th>4</th>\n",
       "      <td>엔비디아·인텔·AMD, AI PC 시대 '맞춤형 반도체' 대거 공개 [CES 2024]</td>\n",
       "      <td>https://v.daum.net/v/20240109163758852</td>\n",
       "      <td>인공지능(AI) 생태계의 기틀인 반도체 업체들이 CES 2024에서 신형 그래픽처리...</td>\n",
       "      <td>라스베이거스윤민혁 특파원</td>\n",
       "      <td>2024. 1. 9. 16:37</td>\n",
       "    </tr>\n",
       "  </tbody>\n",
       "</table>\n",
       "</div>"
      ],
      "text/plain": [
       "                                              title  \\\n",
       "0                  \"수도권 다자 구도 만들건가\" \"스윙중도 2030 잡아야\"   \n",
       "1                          중이염 잦은 아이, 발달에 문제 생길 수도?   \n",
       "2                   윤세영·윤석민 \"홀딩스·SBS 지분 '필요시' 내놓겠다\"   \n",
       "3                펫 시장은 컸는데 펫 커머스는 왜 안 될까 [인포로 본 세상]   \n",
       "4  엔비디아·인텔·AMD, AI PC 시대 '맞춤형 반도체' 대거 공개 [CES 2024]   \n",
       "\n",
       "                                      url  \\\n",
       "0  https://v.daum.net/v/20240109163002538   \n",
       "1  https://v.daum.net/v/20240109150033127   \n",
       "2  https://v.daum.net/v/20240109164104956   \n",
       "3  https://v.daum.net/v/20240109154754504   \n",
       "4  https://v.daum.net/v/20240109163758852   \n",
       "\n",
       "                                             article       reporter  \\\n",
       "0  [박소희, 남소연 기자]김준일 대표는 12월 20일 1차 토론회와 마찬가지로 민주당...            박소희   \n",
       "1  어린이들이 흔하게 걸리는 중이염에 자주 걸리면 청각과 언어발달이 느려질 수 있다는 ...            한건필   \n",
       "2  윤세영 태영그룹 창업회장과 윤석민 회장이 9일 지주사인 태영홀딩스와 태영홀딩스가 보...           김미리내   \n",
       "3  \"유모차보다 개모차가 잘 팔린다\"는 우스갯소리가 나돈다. 반려동물과 함께하는 사람들...         이지원 기자   \n",
       "4  인공지능(AI) 생태계의 기틀인 반도체 업체들이 CES 2024에서 신형 그래픽처리...  라스베이거스윤민혁 특파원   \n",
       "\n",
       "                date  \n",
       "0  2024. 1. 9. 16:30  \n",
       "1  2024. 1. 9. 15:00  \n",
       "2  2024. 1. 9. 16:41  \n",
       "3  2024. 1. 9. 15:47  \n",
       "4  2024. 1. 9. 16:37  "
      ]
     },
     "metadata": {},
     "output_type": "display_data"
    }
   ],
   "source": [
    "import requests\n",
    "from bs4 import BeautifulSoup\n",
    "import pandas as pd\n",
    "from datetime import datetime\n",
    "\n",
    "url = \"https://news.daum.net\"\n",
    "user_agent = 'Mozilla/5.0 (Windows NT 10.0; Win64; x64) AppleWebKit/537.36 (KHTML, like Gecko) Chrome/120.0.0.0 Safari/537.36'\n",
    "\n",
    "\n",
    "# 1. 요청\n",
    "resp = requests.get(url,headers = {\"user-agent\":user_agent})\n",
    "if resp.status_code == 200:\n",
    "    soup = BeautifulSoup(resp.text,\"lxml\")\n",
    "    # print(soup.prettify())\n",
    "    tag_list = soup.select(\"body > div.container-doc > main > section > div > div.content-article > div.box_g.box_news_issue > ul > li > div > div > strong > a\")\n",
    "    link_list = list()\n",
    "    title_list = list()\n",
    "    article_list = list()\n",
    "    reporter_list = list()\n",
    "    insert_date_list= list()\n",
    "    \n",
    "    for tag in tag_list:\n",
    "        link = tag.get(\"href\")\n",
    "        title = tag.get_text().strip()\n",
    "        \n",
    "        sub_resp = requests.get(link)\n",
    "        \n",
    "        sub_soup = BeautifulSoup(sub_resp.text,\"lxml\")\n",
    "        info = sub_soup.select(\"div.info_view > span.txt_info\")\n",
    "        \n",
    "        if len(info) < 2:\n",
    "            reporter = None\n",
    "            insert_date = re.sub(r\"입력\",\"\",info[0].get_text().strip())\n",
    "        else:\n",
    "            reporter = re.sub(r\"[^ 가-힣]\",\"\",info[0].get_text().strip())\n",
    "            insert_date = re.sub(r\"입력\",\"\",info[1].get_text().strip())\n",
    "        \n",
    "        reporter_list.append(reporter)\n",
    "        insert_date_list.append(insert_date.strip())\n",
    "        \n",
    "        article = sub_soup.select(\"div.article_view p\")\n",
    "        arti = \"\"\n",
    "        for a in article:\n",
    "            arti = arti + a.get_text().strip()\n",
    "        article_list.append(arti)\n",
    "        \n",
    "        link_list.append(tag.get(\"href\"))\n",
    "        title_list.append(tag.get_text().strip())\n",
    "\n",
    "    df = pd.DataFrame({'title':title_list\n",
    "                       ,'url':link_list\n",
    "                       ,'article':article_list\n",
    "                       ,'reporter':reporter_list\n",
    "                       ,'date': insert_date_list\n",
    "                      })\n",
    "    display(df.head())    \n",
    "    df.to_csv(f'daum_news_{datetime.now().strftime(\"%Y-%m-%d\")}.csv',encoding=\"utf-8\",index=False)"
   ]
  },
  {
   "cell_type": "code",
   "execution_count": 137,
   "metadata": {
    "tags": []
   },
   "outputs": [
    {
     "name": "stdout",
     "output_type": "stream",
     "text": [
      "제목 : [단독]\"세제 혜택 국가전략기술, 시행령 아닌 국회가 법으로 정한다\"\n",
      "국회가 그간 정부와 공유했던 '국가전략기술' 분야 지정 권한을 사실상 가져왔다. 정부 단독 판단으로 국가전략기술 분야를 지정해 해당 분야 투자 기업의 세금을 깎아주는 것은 문제라는 판단에서다. 한편으론 여야 갈등으로 제때 국가전략기술 분야 지정이 이뤄지지 않을 수 있다는 우려도 나온다.\n",
      "9일 국회에 따르면 '조세특례제한법(조특법) 시행령'에 따라 이미 국가전략기술 분야로 지정돼 있던 바이오의약품을 '법률(조특법)'상 국가전략기술 분야로 재차 직접 명시하는 내용의 조특법 개정이 지난해 말 이뤄졌다.\n",
      "국가전략기술은 '국가안보 차원의 전략적 중요성이 인정되고 국민경제 전반에 중대한 영향을 미치는 기술'이다. 정부는 기업이 국가전략기술 분야 시설·R&D(연구개발)에 투자할 경우 세금을 깎아준다.\n",
      "정부는 지난해 7월 조특법 시행령을 개정해 기존 6개 분야 국가전략기술(△반도체 △이차전지 △백신 △디스플레이 △수소 △미래형이동수단)에 바이오의약품을 추가한 바 있다. 그런데도 국회가 굳이 바이오의약품을 시행령이 아닌 법률에 다시 명시한 것은 국가전략기술 분야 지정 '권한'을 의식했기 때문으로 풀이된다.\n",
      "실제 국회는 조특법을 개정하면서 \"기획재정부는 시행령 개정을 통해 국가전략기술 분야를 추가하려는 경우 사전에 국회 기획재정위원회에 보고한다\"는 내용의 '부대의견'을 달았다. 사실상 국회 승인 없인 정부 마음대로 시행령을 고치지 못하도록 한 것이다.\n",
      "지난해 초까지만 해도 국가전략기술 분야 지정 권한은 정부에게 있었다. 당시 조특법은 국가전략기술을 '대통령령(시행령)으로 정하는 기술'이라고 규정했다.\n",
      "그러나 지난해 4월 개정 시행된 조특법에 따라 정부와 국회가 모두 국가전략기술 분야 지정 권한을 갖게 됐다. \n",
      "당시 개정된 조특법은 국가전략기술을 '반도체, 이차전지, 백신, 디스플레이, 수소, 미래형 이동수단 및 그 밖에 대통령령으로 정하는 분야와 관련된 기술'로 규정했다. 6개 분야 국가전략기술(현재는 바이오의약품이 추가돼 국가전략기술 분야는 총 7개)을 직접 법률에 명시하는 한편 시행령을 통한 정부의 지정 권한을 보장한 것이다. \n",
      "하지만 앞으로 국가전략기술 분야 지정은 국회가 주도할 것으로 보인다. 해당 제도가 기업 세금을 대폭 깎아주는 '특혜' 성격이 있는 만큼 국회 논의를 거쳐 신중하게 지원 분야 결정이 이뤄질 것이란 기대가 나온다. 반면 정치적 이유로 여야 간 합의가 이뤄지지 않을 경우 국가전략기술 지정이 지연돼 제도의 본래 취지를 달성하기 어려울 것이란 우려도 있다.\n",
      "세종=유선일 기자 jjsy83@mt.co.kr\n"
     ]
    }
   ],
   "source": [
    "url = \"https://v.daum.net/v/20240109152002015\"\n",
    "res_news = requests.get(url,headers={\"user-Agent\":user_agent})\n",
    "if res_news.status_code == 200:\n",
    "    soup = BeautifulSoup(res_news.text,\"lxml\")\n",
    "    title = soup.select_one(\"#mArticle > div.head_view > h3\").get_text()\n",
    "    print(\"제목 :\",title)\n",
    "    p_tag_list = soup.select(\"#mArticle > div.news_view.fs_type1 > div.article_view > section > p\")\n",
    "    # print(len(p_tag_list))\n",
    "    content_list= []\n",
    "    for p_tag in p_tag_list:\n",
    "        # p_tag.get_text()\n",
    "        content_list.append(p_tag.get_text())\n",
    "    news = '\\n'.join(content_list)"
   ]
  },
  {
   "cell_type": "markdown",
   "metadata": {},
   "source": [
    "# 함수"
   ]
  },
  {
   "cell_type": "code",
   "execution_count": 145,
   "metadata": {
    "tags": []
   },
   "outputs": [],
   "source": [
    "import requests\n",
    "from bs4 import BeautifulSoup\n",
    "import pandas as pd\n",
    "from datetime import datetime\n",
    "\n",
    "user_agent = 'Mozilla/5.0 (Windows NT 10.0; Win64; x64) AppleWebKit/537.36 (KHTML, like Gecko) Chrome/120.0.0.0 Safari/537.36'\n",
    "\n",
    "def get_news_list():\n",
    "    url = \"https://news.daum.net\" \n",
    "# 1. 요청\n",
    "    resp = requests.get(url,headers = {\"user-agent\":user_agent})\n",
    "    if resp.status_code == 200:\n",
    "        soup = BeautifulSoup(resp.text,\"lxml\")\n",
    "        # print(soup.prettify())\n",
    "        tag_list = soup.select(\"body > div.container-doc > main > section > div > div.content-article > div.box_g.box_news_issue > ul > li > div > div > strong > a\")\n",
    "        link_list = list()\n",
    "        title_list = list()\n",
    "        article_list = list()\n",
    "        reporter_list = list()\n",
    "        insert_date_list= list()\n",
    "\n",
    "        for tag in tag_list:\n",
    "            link = tag.get(\"href\")\n",
    "            title = tag.get_text().strip()\n",
    "\n",
    "            sub_resp = requests.get(link)\n",
    "\n",
    "            sub_soup = BeautifulSoup(sub_resp.text,\"lxml\")\n",
    "            info = sub_soup.select(\"div.info_view > span.txt_info\")\n",
    "\n",
    "            if len(info) < 2:\n",
    "                reporter = None\n",
    "                insert_date = re.sub(r\"입력\",\"\",info[0].get_text().strip())\n",
    "            else:\n",
    "                reporter = re.sub(r\"[^ 가-힣]\",\"\",info[0].get_text().strip())\n",
    "                insert_date = re.sub(r\"입력\",\"\",info[1].get_text().strip())\n",
    "\n",
    "            reporter_list.append(reporter)\n",
    "            insert_date_list.append(insert_date.strip())\n",
    "\n",
    "            article = sub_soup.select(\"div.article_view p\")\n",
    "            arti = \"\"\n",
    "            for a in article:\n",
    "                arti = arti + a.get_text().strip()\n",
    "            article_list.append(arti)\n",
    "\n",
    "            link_list.append(tag.get(\"href\"))\n",
    "            title_list.append(tag.get_text().strip())\n",
    "\n",
    "        df = pd.DataFrame({'title':title_list\n",
    "                           ,'url':link_list\n",
    "                           ,'article':article_list\n",
    "                           ,'reporter':reporter_list\n",
    "                           ,'date': insert_date_list\n",
    "                          })\n",
    "        return df"
   ]
  },
  {
   "cell_type": "code",
   "execution_count": 146,
   "metadata": {
    "tags": []
   },
   "outputs": [
    {
     "data": {
      "text/html": [
       "<div>\n",
       "<style scoped>\n",
       "    .dataframe tbody tr th:only-of-type {\n",
       "        vertical-align: middle;\n",
       "    }\n",
       "\n",
       "    .dataframe tbody tr th {\n",
       "        vertical-align: top;\n",
       "    }\n",
       "\n",
       "    .dataframe thead th {\n",
       "        text-align: right;\n",
       "    }\n",
       "</style>\n",
       "<table border=\"1\" class=\"dataframe\">\n",
       "  <thead>\n",
       "    <tr style=\"text-align: right;\">\n",
       "      <th></th>\n",
       "      <th>title</th>\n",
       "      <th>url</th>\n",
       "      <th>article</th>\n",
       "      <th>reporter</th>\n",
       "      <th>date</th>\n",
       "    </tr>\n",
       "  </thead>\n",
       "  <tbody>\n",
       "    <tr>\n",
       "      <th>0</th>\n",
       "      <td>태영건설 주요 채권단, 10일 추가 자구안 논의</td>\n",
       "      <td>https://v.daum.net/v/20240109171659369</td>\n",
       "      <td>[아이뉴스24 이효정 기자] 산업은행이 10일 주요 채권단을 소집해 태영 측의 추가...</td>\n",
       "      <td>이효정</td>\n",
       "      <td>2024. 1. 9. 17:16</td>\n",
       "    </tr>\n",
       "    <tr>\n",
       "      <th>1</th>\n",
       "      <td>태백·영월·정선·강원남부 대설주의보</td>\n",
       "      <td>https://v.daum.net/v/20240109171910455</td>\n",
       "      <td>기상청은 9일 오후 5시를 기해 태백·영월·정선군평지·강원남부산지에 대설주의보를 발...</td>\n",
       "      <td>이채윤</td>\n",
       "      <td>2024. 1. 9. 17:19</td>\n",
       "    </tr>\n",
       "    <tr>\n",
       "      <th>2</th>\n",
       "      <td>[충북·세종 날씨] 내일 흐리고 눈·비... 예상적설량 최대 15Cm</td>\n",
       "      <td>https://v.daum.net/v/20240109162323297</td>\n",
       "      <td>충북과 세종 오늘은 대체로 흐리고 낮부터 눈 또는 비가 내렸습니다. 낮 최고 기온은...</td>\n",
       "      <td>최병천</td>\n",
       "      <td>2024. 1. 9. 16:23</td>\n",
       "    </tr>\n",
       "    <tr>\n",
       "      <th>3</th>\n",
       "      <td>[인터뷰 전문] 천하람 \"'제3지대' 지역구는 모여서, 비례는 별개로 치르는 것도 ...</td>\n",
       "      <td>https://v.daum.net/v/20240109155143738</td>\n",
       "      <td></td>\n",
       "      <td>신혜원 기자</td>\n",
       "      <td>2024. 1. 9. 15:51</td>\n",
       "    </tr>\n",
       "    <tr>\n",
       "      <th>4</th>\n",
       "      <td>[단독] 檢, 김만배-신학림 한 자리서 조우형에 ‘尹 커피’ 관련 전화 의심</td>\n",
       "      <td>https://v.daum.net/v/20240109172102543</td>\n",
       "      <td>‘대선 개입 여론조작’ 의혹을 수사하는 검찰이 대장동 자금책 조우형씨로부터 “김만배...</td>\n",
       "      <td>곽진웅</td>\n",
       "      <td>2024. 1. 9. 17:21</td>\n",
       "    </tr>\n",
       "    <tr>\n",
       "      <th>5</th>\n",
       "      <td>우크라, 러 '파상 공습'에 대공미사일 동나</td>\n",
       "      <td>https://v.daum.net/v/20240109171221205</td>\n",
       "      <td>(이스탄불=연합뉴스) 김동호 특파원 = 우크라이나군이 최근 잇따르는 러시아군의 대규...</td>\n",
       "      <td>김동호</td>\n",
       "      <td>2024. 1. 9. 17:12</td>\n",
       "    </tr>\n",
       "    <tr>\n",
       "      <th>6</th>\n",
       "      <td>이재명, '이낙연 탈당' 앞두고 내일 퇴원 결정…\"상태 호전\"</td>\n",
       "      <td>https://v.daum.net/v/20240109161501902</td>\n",
       "      <td>더불어민주당 이재명 대표가 흉기 피습 8일 만인 오는 10일 퇴원한다.민주당 관계자...</td>\n",
       "      <td>노컷뉴스 김기용 기자</td>\n",
       "      <td>2024. 1. 9. 16:15</td>\n",
       "    </tr>\n",
       "    <tr>\n",
       "      <th>7</th>\n",
       "      <td>단양군 응급의학과 의사 채용 불발에 연봉 4억2천만원 '껑충'</td>\n",
       "      <td>https://v.daum.net/v/20240109171421267</td>\n",
       "      <td>(단양=연합뉴스) 권정상 기자 = 충북 단양군이 오는 7월 정식 개원을 앞둔 보건의...</td>\n",
       "      <td>권정상</td>\n",
       "      <td>2024. 1. 9. 17:14</td>\n",
       "    </tr>\n",
       "    <tr>\n",
       "      <th>8</th>\n",
       "      <td>새해 외국인 관심주는 LGD·KT·KT&amp;G</td>\n",
       "      <td>https://v.daum.net/v/20240109171808422</td>\n",
       "      <td>올 들어 첫 5거래일 동안 외국인투자자가 연속해서 순매수한 종목은 LG디스플레이와 ...</td>\n",
       "      <td>최희석 기자</td>\n",
       "      <td>2024. 1. 9. 17:18</td>\n",
       "    </tr>\n",
       "    <tr>\n",
       "      <th>9</th>\n",
       "      <td>日증시 33년만에 최고…거품경제 시절 주가 회복</td>\n",
       "      <td>https://v.daum.net/v/20240109171804413</td>\n",
       "      <td>일본 증시 대표 주가지수인 닛케이225평균주가(닛케이지수)가 33년10개월 만에 최...</td>\n",
       "      <td>이승훈 특파원</td>\n",
       "      <td>2024. 1. 9. 17:18</td>\n",
       "    </tr>\n",
       "    <tr>\n",
       "      <th>10</th>\n",
       "      <td>11살 김주애가 북한의 미래?…전문가들도 엇갈려</td>\n",
       "      <td>https://v.daum.net/v/20240109164329048</td>\n",
       "      <td>올해 11살이 된 김주애가 북한의 차기 최고지도자가 될지를 두고 전문가들 사이에서도...</td>\n",
       "      <td>문제원</td>\n",
       "      <td>2024. 1. 9. 16:43</td>\n",
       "    </tr>\n",
       "    <tr>\n",
       "      <th>11</th>\n",
       "      <td>[집잇슈]취득세 빼줄 테니 세 든 빌라 올해 사라고?</td>\n",
       "      <td>https://v.daum.net/v/20240109171703377</td>\n",
       "      <td>정부가 또 빌라 지원책을 내놨다. 세 들어 있는 빌라를 사면 취득세를 깎아주고 등록...</td>\n",
       "      <td>채신화</td>\n",
       "      <td>2024. 1. 9. 17:17</td>\n",
       "    </tr>\n",
       "    <tr>\n",
       "      <th>12</th>\n",
       "      <td>야당, 이태원 특별법 본회의 단독 처리…국민의힘 표결 불참</td>\n",
       "      <td>https://v.daum.net/v/20240109170240757</td>\n",
       "      <td></td>\n",
       "      <td>김천 기자</td>\n",
       "      <td>2024. 1. 9. 17:02</td>\n",
       "    </tr>\n",
       "    <tr>\n",
       "      <th>13</th>\n",
       "      <td>신작 흥행 없는 K게임 반기매출액 10조 붕괴</td>\n",
       "      <td>https://v.daum.net/v/20240109170604918</td>\n",
       "      <td>'K게임'이 극심한 성장통을 앓고 있다. 내수 시장을 대상으로 한 다중접속역할수행게...</td>\n",
       "      <td>황순민 기자</td>\n",
       "      <td>2024. 1. 9. 17:06</td>\n",
       "    </tr>\n",
       "    <tr>\n",
       "      <th>14</th>\n",
       "      <td>[영상] 챗GPT 폭스바겐 탄다···어떤 모델 적용될까 [CES 2024]</td>\n",
       "      <td>https://v.daum.net/v/20240109171606337</td>\n",
       "      <td>생성형 인공지능 챗GPT가 폭스바겐에 탑재된다.CES 2024 개막 하루 전인 8일...</td>\n",
       "      <td>강신우 기자</td>\n",
       "      <td>2024. 1. 9. 17:16</td>\n",
       "    </tr>\n",
       "    <tr>\n",
       "      <th>15</th>\n",
       "      <td>`기관 줄다리기`에 흉물된 서울 도심 폐교…불안한 주민들</td>\n",
       "      <td>https://v.daum.net/v/20240109170450865</td>\n",
       "      <td>[이데일리 김형환 기자] 학령인구 감소의 여파로 늘어나는 서울 도심 내 폐교가 흉물...</td>\n",
       "      <td>김형환</td>\n",
       "      <td>2024. 1. 9. 17:04</td>\n",
       "    </tr>\n",
       "    <tr>\n",
       "      <th>16</th>\n",
       "      <td>\"같이 사냐 부부냐?\" 성희롱 논란‥女비서 폭로에 현근택 \"사과\"</td>\n",
       "      <td>https://v.daum.net/v/20240109170425852</td>\n",
       "      <td>이번 총선에서 경기도 성남시 중원구에 더불어민주당 예비후보로 등록한 현근택 변호사가...</td>\n",
       "      <td>이동경</td>\n",
       "      <td>2024. 1. 9. 17:04</td>\n",
       "    </tr>\n",
       "    <tr>\n",
       "      <th>17</th>\n",
       "      <td>한덕수 \"부동산 프로젝트파이낸싱 위기 집중 관리할 것\"</td>\n",
       "      <td>https://v.daum.net/v/20240109171316232</td>\n",
       "      <td>한덕수 국무총리는 \"부동산 프로젝트파이낸싱 위기를 집중 관리해 나가겠다\"고 말했습니...</td>\n",
       "      <td>이용주</td>\n",
       "      <td>2024. 1. 9. 17:13</td>\n",
       "    </tr>\n",
       "    <tr>\n",
       "      <th>18</th>\n",
       "      <td>\"사실혼 배우자·입양자 유족 인정 가능\"‥제주 4·3사건 특별법 개정안 통과</td>\n",
       "      <td>https://v.daum.net/v/20240109171316233</td>\n",
       "      <td>제주 4·3 사건으로 숨지거나 행방불명된 희생자와 사실혼 관계에 있던 배우자와 그 ...</td>\n",
       "      <td>변윤재</td>\n",
       "      <td>2024. 1. 9. 17:13</td>\n",
       "    </tr>\n",
       "    <tr>\n",
       "      <th>19</th>\n",
       "      <td>서울 2.7cm‥밤사이 충청·강원 큰눈</td>\n",
       "      <td>https://v.daum.net/v/20240109170405830</td>\n",
       "      <td>[5시뉴스]◀ 앵커 ▶오늘 하루 서울에 3cm 가까운 눈이 쌓였는데 밤사이에는 전국...</td>\n",
       "      <td>최아리 캐스터</td>\n",
       "      <td>2024. 1. 9. 17:04</td>\n",
       "    </tr>\n",
       "  </tbody>\n",
       "</table>\n",
       "</div>"
      ],
      "text/plain": [
       "                                                title  \\\n",
       "0                          태영건설 주요 채권단, 10일 추가 자구안 논의   \n",
       "1                                 태백·영월·정선·강원남부 대설주의보   \n",
       "2              [충북·세종 날씨] 내일 흐리고 눈·비... 예상적설량 최대 15Cm   \n",
       "3   [인터뷰 전문] 천하람 \"'제3지대' 지역구는 모여서, 비례는 별개로 치르는 것도 ...   \n",
       "4          [단독] 檢, 김만배-신학림 한 자리서 조우형에 ‘尹 커피’ 관련 전화 의심   \n",
       "5                            우크라, 러 '파상 공습'에 대공미사일 동나   \n",
       "6                  이재명, '이낙연 탈당' 앞두고 내일 퇴원 결정…\"상태 호전\"   \n",
       "7                  단양군 응급의학과 의사 채용 불발에 연봉 4억2천만원 '껑충'   \n",
       "8                             새해 외국인 관심주는 LGD·KT·KT&G   \n",
       "9                          日증시 33년만에 최고…거품경제 시절 주가 회복   \n",
       "10                         11살 김주애가 북한의 미래?…전문가들도 엇갈려   \n",
       "11                      [집잇슈]취득세 빼줄 테니 세 든 빌라 올해 사라고?   \n",
       "12                   야당, 이태원 특별법 본회의 단독 처리…국민의힘 표결 불참   \n",
       "13                          신작 흥행 없는 K게임 반기매출액 10조 붕괴   \n",
       "14          [영상] 챗GPT 폭스바겐 탄다···어떤 모델 적용될까 [CES 2024]   \n",
       "15                    `기관 줄다리기`에 흉물된 서울 도심 폐교…불안한 주민들   \n",
       "16               \"같이 사냐 부부냐?\" 성희롱 논란‥女비서 폭로에 현근택 \"사과\"   \n",
       "17                     한덕수 \"부동산 프로젝트파이낸싱 위기 집중 관리할 것\"   \n",
       "18         \"사실혼 배우자·입양자 유족 인정 가능\"‥제주 4·3사건 특별법 개정안 통과   \n",
       "19                              서울 2.7cm‥밤사이 충청·강원 큰눈   \n",
       "\n",
       "                                       url  \\\n",
       "0   https://v.daum.net/v/20240109171659369   \n",
       "1   https://v.daum.net/v/20240109171910455   \n",
       "2   https://v.daum.net/v/20240109162323297   \n",
       "3   https://v.daum.net/v/20240109155143738   \n",
       "4   https://v.daum.net/v/20240109172102543   \n",
       "5   https://v.daum.net/v/20240109171221205   \n",
       "6   https://v.daum.net/v/20240109161501902   \n",
       "7   https://v.daum.net/v/20240109171421267   \n",
       "8   https://v.daum.net/v/20240109171808422   \n",
       "9   https://v.daum.net/v/20240109171804413   \n",
       "10  https://v.daum.net/v/20240109164329048   \n",
       "11  https://v.daum.net/v/20240109171703377   \n",
       "12  https://v.daum.net/v/20240109170240757   \n",
       "13  https://v.daum.net/v/20240109170604918   \n",
       "14  https://v.daum.net/v/20240109171606337   \n",
       "15  https://v.daum.net/v/20240109170450865   \n",
       "16  https://v.daum.net/v/20240109170425852   \n",
       "17  https://v.daum.net/v/20240109171316232   \n",
       "18  https://v.daum.net/v/20240109171316233   \n",
       "19  https://v.daum.net/v/20240109170405830   \n",
       "\n",
       "                                              article     reporter  \\\n",
       "0   [아이뉴스24 이효정 기자] 산업은행이 10일 주요 채권단을 소집해 태영 측의 추가...          이효정   \n",
       "1   기상청은 9일 오후 5시를 기해 태백·영월·정선군평지·강원남부산지에 대설주의보를 발...          이채윤   \n",
       "2   충북과 세종 오늘은 대체로 흐리고 낮부터 눈 또는 비가 내렸습니다. 낮 최고 기온은...          최병천   \n",
       "3                                                           신혜원 기자   \n",
       "4   ‘대선 개입 여론조작’ 의혹을 수사하는 검찰이 대장동 자금책 조우형씨로부터 “김만배...          곽진웅   \n",
       "5   (이스탄불=연합뉴스) 김동호 특파원 = 우크라이나군이 최근 잇따르는 러시아군의 대규...          김동호   \n",
       "6   더불어민주당 이재명 대표가 흉기 피습 8일 만인 오는 10일 퇴원한다.민주당 관계자...  노컷뉴스 김기용 기자   \n",
       "7   (단양=연합뉴스) 권정상 기자 = 충북 단양군이 오는 7월 정식 개원을 앞둔 보건의...          권정상   \n",
       "8   올 들어 첫 5거래일 동안 외국인투자자가 연속해서 순매수한 종목은 LG디스플레이와 ...       최희석 기자   \n",
       "9   일본 증시 대표 주가지수인 닛케이225평균주가(닛케이지수)가 33년10개월 만에 최...      이승훈 특파원   \n",
       "10  올해 11살이 된 김주애가 북한의 차기 최고지도자가 될지를 두고 전문가들 사이에서도...          문제원   \n",
       "11  정부가 또 빌라 지원책을 내놨다. 세 들어 있는 빌라를 사면 취득세를 깎아주고 등록...          채신화   \n",
       "12                                                           김천 기자   \n",
       "13  'K게임'이 극심한 성장통을 앓고 있다. 내수 시장을 대상으로 한 다중접속역할수행게...       황순민 기자   \n",
       "14  생성형 인공지능 챗GPT가 폭스바겐에 탑재된다.CES 2024 개막 하루 전인 8일...       강신우 기자   \n",
       "15  [이데일리 김형환 기자] 학령인구 감소의 여파로 늘어나는 서울 도심 내 폐교가 흉물...          김형환   \n",
       "16  이번 총선에서 경기도 성남시 중원구에 더불어민주당 예비후보로 등록한 현근택 변호사가...         이동경    \n",
       "17  한덕수 국무총리는 \"부동산 프로젝트파이낸싱 위기를 집중 관리해 나가겠다\"고 말했습니...         이용주    \n",
       "18  제주 4·3 사건으로 숨지거나 행방불명된 희생자와 사실혼 관계에 있던 배우자와 그 ...         변윤재    \n",
       "19  [5시뉴스]◀ 앵커 ▶오늘 하루 서울에 3cm 가까운 눈이 쌓였는데 밤사이에는 전국...      최아리 캐스터   \n",
       "\n",
       "                 date  \n",
       "0   2024. 1. 9. 17:16  \n",
       "1   2024. 1. 9. 17:19  \n",
       "2   2024. 1. 9. 16:23  \n",
       "3   2024. 1. 9. 15:51  \n",
       "4   2024. 1. 9. 17:21  \n",
       "5   2024. 1. 9. 17:12  \n",
       "6   2024. 1. 9. 16:15  \n",
       "7   2024. 1. 9. 17:14  \n",
       "8   2024. 1. 9. 17:18  \n",
       "9   2024. 1. 9. 17:18  \n",
       "10  2024. 1. 9. 16:43  \n",
       "11  2024. 1. 9. 17:17  \n",
       "12  2024. 1. 9. 17:02  \n",
       "13  2024. 1. 9. 17:06  \n",
       "14  2024. 1. 9. 17:16  \n",
       "15  2024. 1. 9. 17:04  \n",
       "16  2024. 1. 9. 17:04  \n",
       "17  2024. 1. 9. 17:13  \n",
       "18  2024. 1. 9. 17:13  \n",
       "19  2024. 1. 9. 17:04  "
      ]
     },
     "execution_count": 146,
     "metadata": {},
     "output_type": "execute_result"
    }
   ],
   "source": [
    "get_news_list()"
   ]
  },
  {
   "cell_type": "code",
   "execution_count": 147,
   "metadata": {
    "tags": []
   },
   "outputs": [],
   "source": [
    "import requests\n",
    "from bs4 import BeautifulSoup\n",
    "import pandas as pd\n",
    "from datetime import datetime\n",
    "user_agent = \"Mozilla/5.0 (Windows NT 10.0; Win64; x64) AppleWebKit/537.36 (KHTML, like Gecko) Chrome/120.0.0.0 Safari/537.36\"\n",
    "def get_news_list():\n",
    "    url = \"https://news.daum.net\"\n",
    "    # 1. 요청\n",
    "    res = requests.get(url, headers={\"User-Agent\":user_agent})\n",
    "    if res.status_code == 200:\n",
    "        soup = BeautifulSoup(res.text, 'lxml')\n",
    "    #     print(soup.prettify())\n",
    "        tag_list = soup.select(\"body > div.container-doc > main > section > div > div.content-article > div.box_g.box_news_issue > ul > li > div > div > strong > a\")\n",
    "        print(len(tag_list))\n",
    "        link_list = [] # 링크들 저장할 리스트\n",
    "        title_list = []# 제목들 저장할 리스트\n",
    "        for tag in tag_list:\n",
    "    #         print(tag.get(\"href\"), tag.get_text())\n",
    "            link_list.append(tag.get(\"href\"))\n",
    "            title_list.append(tag.get_text().strip())\n",
    "        df = pd.DataFrame({\n",
    "            \"제목\":title_list,\n",
    "            \"URL\":link_list\n",
    "        })\n",
    "        return df\n",
    "def get_news(url):\n",
    "    res_news = requests.get(url, headers={\"User-Agent\":user_agent})\n",
    "    if res_news.status_code == 200:\n",
    "        soup = BeautifulSoup(res_news.text, \"lxml\")\n",
    "#         title = soup.select_one(\"#mArticle > div.head_view > h3\").get_text()\n",
    "#         print(\"제목:\", title)\n",
    "        p_tag_list = soup.select(\"#mArticle > div.news_view.fs_type1 > div.article_view > section > p\")\n",
    "        content_list = []\n",
    "        for p_tag in p_tag_list:\n",
    "            content_list.append(p_tag.get_text())\n",
    "    #     [p_tag.get_text() for p_tag in p_tag_list]\n",
    "        news = \"\\n\".join(content_list)\n",
    "        return news"
   ]
  },
  {
   "cell_type": "code",
   "execution_count": 165,
   "metadata": {
    "tags": []
   },
   "outputs": [
    {
     "name": "stdout",
     "output_type": "stream",
     "text": [
      "20\n"
     ]
    }
   ],
   "source": [
    "df = get_news_list()\n",
    "# artivle_list = list()\n",
    "# for news_url in df[\"URL\"]:\n",
    "#     article_list.append(get_news(news_url))\n",
    "article_list = [get_news(news_url) for news_url in df[\"URL\"]]\n",
    "df[\"내용\"] = article_list\n",
    "df.to_csv(f'daum_news_{datetime.now().strftime(\"%Y-%m-%d\")}.csv',encoding=\"utf-8\",index=False)"
   ]
  },
  {
   "cell_type": "code",
   "execution_count": 166,
   "metadata": {
    "tags": []
   },
   "outputs": [
    {
     "data": {
      "text/plain": [
       "['.ipynb_checkpoints',\n",
       " '01_데이터수집 개요_BeautifulSoup_.ipynb',\n",
       " '02_requests.ipynb',\n",
       " '03_Selenium.ipynb',\n",
       " 'daum_news_2024-01-09.csv',\n",
       " 'df.csv',\n",
       " 'example.html',\n",
       " 'HTML_CSS.pdf',\n",
       " 'untitled.txt']"
      ]
     },
     "execution_count": 166,
     "metadata": {},
     "output_type": "execute_result"
    }
   ],
   "source": [
    "import os\n",
    "for file in os.listdir() if file.endswith('ipynb')]\n",
    "    "
   ]
  },
  {
   "cell_type": "code",
   "execution_count": null,
   "metadata": {},
   "outputs": [],
   "source": []
  },
  {
   "cell_type": "markdown",
   "metadata": {},
   "source": [
    "## 이미지 다운로드"
   ]
  },
  {
   "cell_type": "code",
   "execution_count": 4,
   "metadata": {},
   "outputs": [
    {
     "name": "stdout",
     "output_type": "stream",
     "text": [
      "<class 'bytes'>\n"
     ]
    }
   ],
   "source": [
    "import requests\n",
    "\n",
    "img_url = \"https://encrypted-tbn0.gstatic.com/images?q=tbn:ANd9GcTh2ii7B8VWWNk1dPQTbv07e0Q26dUV1oIO-Q&usqp=CAU\"\n",
    "res = requests.get(img_url)\n",
    "if res.status_code ==200:\n",
    "    print(type(res.content))\n",
    "    # 바이너리 파일 -> res.content\n",
    "    with open(\"down_image.jpg\",\"wb\") as fw:\n",
    "        fw.write(res.content)\n",
    "else:\n",
    "    print(res.status_code)"
   ]
  },
  {
   "cell_type": "code",
   "execution_count": null,
   "metadata": {},
   "outputs": [],
   "source": []
  }
 ],
 "metadata": {
  "kernelspec": {
   "display_name": "Python 3 (ipykernel)",
   "language": "python",
   "name": "python3"
  },
  "language_info": {
   "codemirror_mode": {
    "name": "ipython",
    "version": 3
   },
   "file_extension": ".py",
   "mimetype": "text/x-python",
   "name": "python",
   "nbconvert_exporter": "python",
   "pygments_lexer": "ipython3",
   "version": "3.11.5"
  },
  "toc": {
   "base_numbering": 1,
   "nav_menu": {},
   "number_sections": true,
   "sideBar": false,
   "skip_h1_title": false,
   "title_cell": "Table of Contents",
   "title_sidebar": "Contents",
   "toc_cell": false,
   "toc_position": {},
   "toc_section_display": false,
   "toc_window_display": false
  },
  "varInspector": {
   "cols": {
    "lenName": 16,
    "lenType": 16,
    "lenVar": 40
   },
   "kernels_config": {
    "python": {
     "delete_cmd_postfix": "",
     "delete_cmd_prefix": "del ",
     "library": "var_list.py",
     "varRefreshCmd": "print(var_dic_list())"
    },
    "r": {
     "delete_cmd_postfix": ") ",
     "delete_cmd_prefix": "rm(",
     "library": "var_list.r",
     "varRefreshCmd": "cat(var_dic_list()) "
    }
   },
   "types_to_exclude": [
    "module",
    "function",
    "builtin_function_or_method",
    "instance",
    "_Feature"
   ],
   "window_display": false
  }
 },
 "nbformat": 4,
 "nbformat_minor": 4
}
