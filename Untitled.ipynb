{
 "cells": [
  {
   "cell_type": "code",
   "execution_count": 64,
   "id": "319c42f3-d27d-4b94-bb83-535102b7014c",
   "metadata": {
    "tags": []
   },
   "outputs": [],
   "source": [
    "from itertools import combinations"
   ]
  },
  {
   "cell_type": "code",
   "execution_count": 87,
   "id": "641ceabd-cc0b-4c60-b5f5-267609f5eaae",
   "metadata": {
    "tags": []
   },
   "outputs": [],
   "source": [
    "item_dict = {\"headgear\" : 1\n",
    "             ,\"eyewear\" : 1\n",
    "             ,\"test1\" : 1\n",
    "             ,\"test2\" : 1\n",
    "            }"
   ]
  },
  {
   "cell_type": "code",
   "execution_count": 88,
   "id": "c80f7fbe-1cb1-46fd-8057-9d50459e2f6b",
   "metadata": {
    "tags": []
   },
   "outputs": [],
   "source": [
    "category = list(item_dict.keys())"
   ]
  },
  {
   "cell_type": "code",
   "execution_count": 89,
   "id": "2bba1277-d513-4397-8b30-b71cb6cba4e0",
   "metadata": {
    "tags": []
   },
   "outputs": [],
   "source": [
    "comb_list = list()\n",
    "total = 0\n",
    "for i in range(1,len(category)+1):\n",
    "    comb_list.extend(list(combinations(category,i)))\n",
    "\n",
    "for comb in comb_list:\n",
    "    temp = 1\n",
    "    for c in comb:\n",
    "        temp *= item_dict[c]\n",
    "    total += temp"
   ]
  },
  {
   "cell_type": "code",
   "execution_count": 90,
   "id": "33e322b7-147c-4f5a-bf01-27a4cbaa15ec",
   "metadata": {
    "tags": []
   },
   "outputs": [
    {
     "name": "stdout",
     "output_type": "stream",
     "text": [
      "15\n"
     ]
    }
   ],
   "source": []
  },
  {
   "cell_type": "code",
   "execution_count": null,
   "id": "83920174-8040-4a02-b824-b8a0ca69851c",
   "metadata": {},
   "outputs": [],
   "source": [
    "from collections import defaultdict\n",
    "import sys\n",
    "cnt = int(input())\n",
    "for _ in range(cnt):\n",
    "    n = int(input())\n",
    "    item_dict = defaultdict(list)\n",
    "    comb_list = list()\n",
    "    total = 0\n",
    "    \n",
    "    for _ in range(n):\n",
    "        val,key = sys.stdin.readline().strip().split()\n",
    "        item_dict[key].append(val)\n",
    "    \n",
    "    item_key_list = list(item_dict.keys())\n",
    "    for i in range(len(item_key_list)):\n",
    "        for j in range(len(item_key_list)-i):\n",
    "            comb_list.append(item_key_list[j:i+j+1])\n",
    "            \n",
    "    for comb in comb_list:\n",
    "        temp = 1\n",
    "        for c in comb:\n",
    "            temp *= len(item_dict[c])\n",
    "        total += temp\n",
    "    sys.stdout.write(f\"{total}\\n\")"
   ]
  },
  {
   "cell_type": "code",
   "execution_count": null,
   "id": "e8880c96-9000-4cd2-9938-bb17fb30554e",
   "metadata": {},
   "outputs": [],
   "source": []
  },
  {
   "cell_type": "code",
   "execution_count": null,
   "id": "c097b61c-1a5f-4b05-b4e6-5a6711198857",
   "metadata": {},
   "outputs": [],
   "source": []
  },
  {
   "cell_type": "code",
   "execution_count": null,
   "id": "a0d01b89-93a1-458d-b735-d1d365f50661",
   "metadata": {},
   "outputs": [],
   "source": []
  },
  {
   "cell_type": "code",
   "execution_count": null,
   "id": "6d009a13-7d5b-4140-bf33-e3ee2e0744af",
   "metadata": {},
   "outputs": [],
   "source": []
  },
  {
   "cell_type": "code",
   "execution_count": null,
   "id": "263017b8-82b2-47f1-ae21-54583cc04a0f",
   "metadata": {},
   "outputs": [],
   "source": []
  },
  {
   "cell_type": "code",
   "execution_count": null,
   "id": "2968ccab-8e4f-484e-ac15-32b1b9394497",
   "metadata": {},
   "outputs": [],
   "source": []
  },
  {
   "cell_type": "markdown",
   "id": "d199b104-70df-4fad-bf37-089aeadb9f41",
   "metadata": {
    "tags": []
   },
   "source": [
    "1. key 조합\n",
    "2. for문\n",
    "\n",
    "2,1"
   ]
  }
 ],
 "metadata": {
  "kernelspec": {
   "display_name": "Python 3 (ipykernel)",
   "language": "python",
   "name": "python3"
  },
  "language_info": {
   "codemirror_mode": {
    "name": "ipython",
    "version": 3
   },
   "file_extension": ".py",
   "mimetype": "text/x-python",
   "name": "python",
   "nbconvert_exporter": "python",
   "pygments_lexer": "ipython3",
   "version": "3.11.5"
  }
 },
 "nbformat": 4,
 "nbformat_minor": 5
}
