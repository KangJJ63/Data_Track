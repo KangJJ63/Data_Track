{
 "cells": [
  {
   "cell_type": "markdown",
   "id": "a2f58681",
   "metadata": {},
   "source": [
    "# pymysql\n",
    "- 파이썬에서 MySQL, MariaDB DBMS와 연동하는 다양한 함수를 제공하는 모듈\n",
    "- Python [DB API 2.0](http://www.python.org/dev/peps/pep-0249) 표준을 따른다.\n",
    "- https://github.com/PyMySQL/PyMySQL/\n",
    "- https://pymysql.readthedocs.io/en/latest/"
   ]
  },
  {
   "cell_type": "markdown",
   "id": "43cccb80",
   "metadata": {},
   "source": [
    "# 설치\n",
    "- 조건\n",
    "    - python version 3.6 이상\n",
    "    - mysql version 5.6 이상\n",
    "- 설치\n",
    "    - `pip install pymysql`\n",
    "    - `conda install -c conda-forge pymysql`"
   ]
  },
  {
   "cell_type": "code",
   "execution_count": 1,
   "id": "16ddb3ec",
   "metadata": {
    "tags": []
   },
   "outputs": [
    {
     "name": "stdout",
     "output_type": "stream",
     "text": [
      "Collecting pymysql\n",
      "  Downloading PyMySQL-1.1.0-py3-none-any.whl.metadata (4.4 kB)\n",
      "Downloading PyMySQL-1.1.0-py3-none-any.whl (44 kB)\n",
      "   ---------------------------------------- 0.0/44.8 kB ? eta -:--:--\n",
      "   ------------------ --------------------- 20.5/44.8 kB 640.0 kB/s eta 0:00:01\n",
      "   ---------------------------------------- 44.8/44.8 kB 1.1 MB/s eta 0:00:00\n",
      "Installing collected packages: pymysql\n",
      "Successfully installed pymysql-1.1.0\n"
     ]
    }
   ],
   "source": [
    "!pip install pymysql"
   ]
  },
  {
   "cell_type": "markdown",
   "id": "7572463d",
   "metadata": {},
   "source": [
    "# 기본 작성 절차\n",
    "\n",
    "1. Database 연결\n",
    "    ```python\n",
    "       connection =  pymysql.connect(host=\"DBMS 서버 ip\", \n",
    "                                     port=\"port번호\", \n",
    "                                     user=\"계정명\", \n",
    "                                     password=\"비밀번호\", \n",
    "                                     db=\"연결할데이터베이스이름\", \n",
    "                                     charset='utf8')\n",
    "    ```\n",
    "    - port 번호 기본값: 3306\n",
    "2. Connection을 이용해 Cursor 생성\n",
    "    - Cursor: 연결된 Database에 sql문을 전송하고 select결과 조회 기능을 제공하는 객체\n",
    "    ```python\n",
    "        cursor = connection.cursor()\n",
    "    ```\n",
    "3. Cusror를 이용해 SQL문 전송\n",
    "    ```python\n",
    "        cursor.execute(\"sql문\")\n",
    "    ```\n",
    "4. 연결 닫기\n",
    "    - cursor, connection 연결을 닫는다.\n",
    "    - with문을 이용할 수 있다. \n",
    "    ```python\n",
    "    cursor.close()\n",
    "    connection.close()\n",
    "    ```"
   ]
  },
  {
   "cell_type": "markdown",
   "id": "3262b127",
   "metadata": {},
   "source": [
    "# 예제\n",
    "\n",
    "## 테이블 생성"
   ]
  },
  {
   "cell_type": "code",
   "execution_count": 6,
   "id": "03092b9e",
   "metadata": {
    "tags": []
   },
   "outputs": [],
   "source": [
    "CREATE_SQL = \"\"\"\n",
    "create table member (\n",
    " id   int  auto_increment  primary key,\n",
    " name varchar(30)  not null,\n",
    " email varchar(100) not null unique,\n",
    " tall  decimal(5,2), \n",
    " birthday date,\n",
    " created_at datetime\n",
    ")\n",
    "\"\"\""
   ]
  },
  {
   "cell_type": "code",
   "execution_count": 8,
   "id": "9b2c4499",
   "metadata": {
    "tags": []
   },
   "outputs": [
    {
     "name": "stdout",
     "output_type": "stream",
     "text": [
      "<class 'pymysql.connections.Connection'>\n",
      "<class 'pymysql.cursors.Cursor'>\n",
      "cnt: 0\n"
     ]
    }
   ],
   "source": [
    "import pymysql\n",
    "## 1. DB와 연결\n",
    "conn = pymysql.connect(host=\"127.0.0.1\",  ## DB서버 ip\n",
    "                       port=3306,         ## 연결할 DBMS port 번호\n",
    "                       user=\"scott\",      # username\n",
    "                       password=\"tiger\",  # password\n",
    "                       db='testdb'        # 연결할 database이름.\n",
    "                      )\n",
    "print(type(conn))\n",
    "\n",
    "## 2. Connection 객체를 이용해 Cursor(SQL작업을 관리)를 생성.\n",
    "cursor = conn.cursor()\n",
    "print(type(cursor))\n",
    "\n",
    "## 3. SQL 문을 실행 - cursor의 execute()메소드 이용\n",
    "cnt = cursor.execute(CREATE_SQL)\n",
    "print(\"cnt:\", cnt)  # sql 적용을 받은 데이터수를 반환.\n",
    "\n",
    "## Database와 연결 닫기 (반드시 해야함.) ==> cursor close, conn close\n",
    "cursor.close()\n",
    "conn.close()   "
   ]
  },
  {
   "cell_type": "markdown",
   "id": "59b4e786",
   "metadata": {},
   "source": [
    "## DML\n",
    "### insert"
   ]
  },
  {
   "cell_type": "code",
   "execution_count": 9,
   "id": "61deab37",
   "metadata": {
    "tags": []
   },
   "outputs": [
    {
     "name": "stdout",
     "output_type": "stream",
     "text": [
      "insert 개수: 1\n"
     ]
    }
   ],
   "source": [
    "# sql문 -> mysql 기준.\n",
    "insertSQL = \"insert into member (name, email, tall, birthday, created_at) \\\n",
    "values ('이순신', 'lee1@a.com', 180.23, '1990-10-02', now())\"\n",
    "\n",
    "# 1. DB 연결\n",
    "with pymysql.connect(host=\"127.0.0.1\", port=3306, \n",
    "                     user='scott',password='tiger', \n",
    "                     db=\"testdb\") as conn:\n",
    "    # 2. Cursor 생성\n",
    "    with conn.cursor() as cursor:\n",
    "        # 3. sql문 실행 \n",
    "        cnt = cursor.execute(insertSQL)\n",
    "        print('insert 개수:', cnt)\n",
    "        conn.commit()   \n",
    "        ### pymysql 은 수동 commit이 default임. 그래서 insert/update/delete\n",
    "        #### 후에는 commit을 해야 연결된 DB에 적용된다.\n",
    "    \n",
    "\n",
    "# 4. 연결닫기 -> Cursor/DB ==> with block 나오면서 자동으로 끊긴다."
   ]
  },
  {
   "cell_type": "markdown",
   "id": "c1d9de83",
   "metadata": {
    "ExecuteTime": {
     "end_time": "2022-04-19T06:23:30.323879Z",
     "start_time": "2022-04-19T06:23:30.304888Z"
    }
   },
   "source": [
    "### Parameterized Query\n",
    "- Parameterized Query\n",
    "    - SQL 문에서 컬럼 값이 들어가는 자리에 값대신 `%s` placeholder를 사용한뒤 execute()에서 placeholder에 넣을 값을 list나 tuple로 제공한다.\n",
    "    - query문을 쉽게 작성할 수 있는 장점이 있다.        "
   ]
  },
  {
   "cell_type": "code",
   "execution_count": 10,
   "id": "5c060325",
   "metadata": {
    "tags": []
   },
   "outputs": [],
   "source": [
    "sql = \"insert into member (name, email, tall, birthday, created_at) \\\n",
    "values (%s, %s, %s, %s, %s)\""
   ]
  },
  {
   "cell_type": "code",
   "execution_count": 11,
   "id": "934b0da7",
   "metadata": {
    "tags": []
   },
   "outputs": [],
   "source": [
    "import datetime\n",
    "with pymysql.connect(host=\"127.0.0.1\", port=3306, \n",
    "                     user='scott', password='tiger', db='testdb') as conn:\n",
    "    with conn.cursor() as cursor:\n",
    "        cnt = cursor.execute(sql, (\"강감찬\", \"k@a.com\", 190.2, \n",
    "                                   datetime.date(2000, 1, 2), \n",
    "                                   datetime.datetime.now()))\n",
    "        conn.commit()"
   ]
  },
  {
   "cell_type": "markdown",
   "id": "37335b7b",
   "metadata": {},
   "source": [
    "### Parameterized Query를 이용해 여러개 행 insert\n",
    "\n",
    "#### for문 사용"
   ]
  },
  {
   "cell_type": "code",
   "execution_count": 12,
   "id": "0fc2331b",
   "metadata": {
    "tags": []
   },
   "outputs": [],
   "source": [
    "from datetime import date, datetime\n",
    "\n",
    "datas = [\n",
    "    ['name1', 'abc1@abc.com', 165, date(2000,1,12), datetime.now()],\n",
    "    ['name2', 'def1@abc.com', 175, date(1995,12,20), datetime.now()],\n",
    "    ['name3', 'ghi1@abc.com', 185, date(1988, 7, 21), datetime.now()]\n",
    "]"
   ]
  },
  {
   "cell_type": "code",
   "execution_count": 13,
   "id": "cd598d70",
   "metadata": {
    "tags": []
   },
   "outputs": [
    {
     "name": "stdout",
     "output_type": "stream",
     "text": [
      "3 행 추가\n"
     ]
    }
   ],
   "source": [
    "sql = \"insert into member (name, email, tall, birthday, created_at) \\\n",
    "values (%s, %s, %s, %s, %s)\"\n",
    "with pymysql.connect(host=\"127.0.0.1\", port=3306, \n",
    "                     user='scott', password='tiger', db='testdb') as conn:\n",
    "    with conn.cursor() as cursor:\n",
    "        \n",
    "        \n",
    "        cnt = 0\n",
    "        for data in datas:\n",
    "            i = cursor.execute(sql, data)\n",
    "            cnt += i\n",
    "        conn.commit()\n",
    "        \n",
    "print(f\"{cnt} 행 추가\")"
   ]
  },
  {
   "cell_type": "markdown",
   "id": "7322f3bb",
   "metadata": {},
   "source": [
    "#### executemany() 사용\n",
    "- insert할 값들을 가진 리스트를 넣어 한번에 여러 행을 insert한다."
   ]
  },
  {
   "cell_type": "code",
   "execution_count": 14,
   "id": "f72beeb1",
   "metadata": {
    "tags": []
   },
   "outputs": [],
   "source": [
    "datas = [\n",
    "    ['이름1', 'abc2@a.com', 165, date(2000,1,12), datetime.now()],\n",
    "    ['이름2', 'def2@a.com', 175, date(1995,12,20), datetime.now()],\n",
    "    ['이름1', 'ghi2@a.com', 185, date(1988, 7, 21), datetime.now()]\n",
    "]"
   ]
  },
  {
   "cell_type": "code",
   "execution_count": 15,
   "id": "2792bae6",
   "metadata": {
    "tags": []
   },
   "outputs": [
    {
     "name": "stdout",
     "output_type": "stream",
     "text": [
      "3\n"
     ]
    }
   ],
   "source": [
    "sql = \"insert into member (name, email, tall, birthday, created_at) \\\n",
    "values (%s, %s, %s, %s, %s)\"\n",
    "with pymysql.connect(host=\"127.0.0.1\", port=3306, \n",
    "                     user='scott', password='tiger', db='testdb') as conn:\n",
    "    with conn.cursor() as cursor:\n",
    "        cnt = cursor.executemany(sql, datas)\n",
    "        print(cnt)\n",
    "        conn.commit()"
   ]
  },
  {
   "cell_type": "code",
   "execution_count": null,
   "id": "0f66c3cb",
   "metadata": {},
   "outputs": [],
   "source": []
  },
  {
   "cell_type": "markdown",
   "id": "d78f4253",
   "metadata": {},
   "source": [
    "### update/delete\n",
    "- 코딩 절차는 insert 와 동일"
   ]
  },
  {
   "cell_type": "code",
   "execution_count": 30,
   "id": "5f056266",
   "metadata": {
    "tags": []
   },
   "outputs": [],
   "source": [
    "update_sql = \"\"\"UPDATE member\n",
    "                SET name = %s\n",
    "                    ,email = %s\n",
    "                    ,tall = %s\n",
    "                    ,birthday = %s\n",
    "                WHERE id = %s\"\"\" "
   ]
  },
  {
   "cell_type": "code",
   "execution_count": 32,
   "id": "0132f090-7813-4f55-ae10-2258606ac9fc",
   "metadata": {
    "tags": []
   },
   "outputs": [
    {
     "name": "stdout",
     "output_type": "stream",
     "text": [
      "1\n"
     ]
    }
   ],
   "source": [
    "with pymysql.connect(host=\"127.0.0.1\"\n",
    "                     ,port = 3306\n",
    "                     ,user=\"scott\"\n",
    "                     ,passwd=\"tiger\"\n",
    "                     ,db=\"testdb\") as conn:\n",
    "    with conn.cursor() as cursor:\n",
    "        cnt = cursor.execute(update_sql,(\"새이름\",\"new@a.com\",200.10,date(2000,10,10),2))\n",
    "        conn.commit()\n",
    "print(cnt)"
   ]
  },
  {
   "cell_type": "code",
   "execution_count": 34,
   "id": "919b83a4-ba58-4a4f-8476-a235e9c5bae6",
   "metadata": {
    "tags": []
   },
   "outputs": [
    {
     "name": "stdin",
     "output_type": "stream",
     "text": [
      "삭제할 ID 5\n"
     ]
    },
    {
     "name": "stdout",
     "output_type": "stream",
     "text": [
      "1\n"
     ]
    }
   ],
   "source": [
    "delete_sql = \"\"\"DELETE \n",
    "                FROM member\n",
    "                WHERE id = %s\"\"\"\n",
    "del_id = int(input(\"삭제할 ID\"))\n",
    "with pymysql.connect(host=\"127.0.0.1\"\n",
    "                     ,port = 3306\n",
    "                     ,user=\"scott\"\n",
    "                     ,passwd=\"tiger\"\n",
    "                     ,db=\"testdb\") as conn:\n",
    "    with conn.cursor() as cursor:\n",
    "        cnt = cursor.execute(delete_sql,del_id)\n",
    "        conn.commit()\n",
    "print(cnt)"
   ]
  },
  {
   "cell_type": "markdown",
   "id": "096891b8",
   "metadata": {},
   "source": [
    "## select (DQL - Data Query Language)\n",
    "- 조회결과 조회\n",
    "    - cursor.execute(\"select문\") 실행 후 cursor의 결과 조회 메소드(fetch메소드)를 이용해 결과를 받는다.\n",
    "- fetch메소드\n",
    "    - **fetchall()**\n",
    "        - 조회한 모든 행을을 반환\n",
    "    - **fetchmany(size=개수)**\n",
    "        - 지정한 size개수 만큼 반환\n",
    "    - **fetchone()**\n",
    "        - 조회결과 중 첫번째 행만 반환\n",
    "        - 주로 pk 동등 조건으로 조회한 경우 사용"
   ]
  },
  {
   "cell_type": "markdown",
   "id": "524f4cb8",
   "metadata": {},
   "source": [
    "### fetchall()"
   ]
  },
  {
   "cell_type": "code",
   "execution_count": 65,
   "id": "93a06bf2",
   "metadata": {
    "tags": []
   },
   "outputs": [
    {
     "name": "stdout",
     "output_type": "stream",
     "text": [
      "6\n",
      "((1, '이순신', 'lee1@a.com', Decimal('180.23'), datetime.date(1990, 10, 2), datetime.datetime(2024, 1, 17, 14, 6, 18)), (3, 'name1', 'abc1@abc.com', Decimal('165.00'), datetime.date(2000, 1, 12), datetime.datetime(2024, 1, 17, 14, 7, 26)), (4, 'name2', 'def1@abc.com', Decimal('175.00'), datetime.date(1995, 12, 20), datetime.datetime(2024, 1, 17, 14, 7, 26)))\n"
     ]
    }
   ],
   "source": [
    "import pymysql\n",
    "from pprint import pprint\n",
    "\n",
    "select_sql = \"\"\"SELECT *\n",
    "                FROM member\"\"\"\n",
    "select_col = \"\"\"SELECT COLUMN_NAME\n",
    "                FROM INFORMATION_SCHEMA.COLUMNS\n",
    "                WHERE TABLE_SCHEMA = 'testdb'\n",
    "                AND TABLE_NAME = 'member'\n",
    "                ORDER BY ordinal_position\"\"\";\n",
    "with pymysql.connect(host=\"127.0.0.1\"\n",
    "                     ,port = 3306\n",
    "                     ,user=\"scott\"\n",
    "                     ,passwd=\"tiger\"\n",
    "                     ,db=\"testdb\") as conn:\n",
    "    with conn.cursor() as cursor:\n",
    "        cnt = cursor.execute(select_sql)\n",
    "        # select 결과 조회\n",
    "        result1 = cursor.fetchmany(3)\n",
    "        result2 = cursor.fetchmany(3)\n",
    "        cursor.execute(select_col)\n",
    "        col_nm = [c[0] for c in cursor.fetchall()]\n",
    "print(cnt)\n",
    "print(result)"
   ]
  },
  {
   "cell_type": "code",
   "execution_count": 68,
   "id": "cebb65c0",
   "metadata": {
    "tags": []
   },
   "outputs": [
    {
     "data": {
      "text/html": [
       "<div>\n",
       "<style scoped>\n",
       "    .dataframe tbody tr th:only-of-type {\n",
       "        vertical-align: middle;\n",
       "    }\n",
       "\n",
       "    .dataframe tbody tr th {\n",
       "        vertical-align: top;\n",
       "    }\n",
       "\n",
       "    .dataframe thead th {\n",
       "        text-align: right;\n",
       "    }\n",
       "</style>\n",
       "<table border=\"1\" class=\"dataframe\">\n",
       "  <thead>\n",
       "    <tr style=\"text-align: right;\">\n",
       "      <th></th>\n",
       "      <th>id</th>\n",
       "      <th>name</th>\n",
       "      <th>email</th>\n",
       "      <th>tall</th>\n",
       "      <th>birthday</th>\n",
       "      <th>created_at</th>\n",
       "    </tr>\n",
       "  </thead>\n",
       "  <tbody>\n",
       "    <tr>\n",
       "      <th>0</th>\n",
       "      <td>6</td>\n",
       "      <td>이름1</td>\n",
       "      <td>abc2@a.com</td>\n",
       "      <td>165.00</td>\n",
       "      <td>2000-01-12</td>\n",
       "      <td>2024-01-17 14:07:38</td>\n",
       "    </tr>\n",
       "    <tr>\n",
       "      <th>1</th>\n",
       "      <td>7</td>\n",
       "      <td>이름2</td>\n",
       "      <td>def2@a.com</td>\n",
       "      <td>175.00</td>\n",
       "      <td>1995-12-20</td>\n",
       "      <td>2024-01-17 14:07:38</td>\n",
       "    </tr>\n",
       "    <tr>\n",
       "      <th>2</th>\n",
       "      <td>8</td>\n",
       "      <td>이름1</td>\n",
       "      <td>ghi2@a.com</td>\n",
       "      <td>185.00</td>\n",
       "      <td>1988-07-21</td>\n",
       "      <td>2024-01-17 14:07:38</td>\n",
       "    </tr>\n",
       "  </tbody>\n",
       "</table>\n",
       "</div>"
      ],
      "text/plain": [
       "   id name       email    tall    birthday          created_at\n",
       "0   6  이름1  abc2@a.com  165.00  2000-01-12 2024-01-17 14:07:38\n",
       "1   7  이름2  def2@a.com  175.00  1995-12-20 2024-01-17 14:07:38\n",
       "2   8  이름1  ghi2@a.com  185.00  1988-07-21 2024-01-17 14:07:38"
      ]
     },
     "execution_count": 68,
     "metadata": {},
     "output_type": "execute_result"
    }
   ],
   "source": [
    "import pandas as pd\n",
    "pd.DataFrame(result2,columns = col_nm)"
   ]
  },
  {
   "cell_type": "code",
   "execution_count": null,
   "id": "82a62b01",
   "metadata": {},
   "outputs": [],
   "source": []
  },
  {
   "cell_type": "markdown",
   "id": "b3a9867d",
   "metadata": {},
   "source": [
    "### fetchone()"
   ]
  },
  {
   "cell_type": "code",
   "execution_count": 109,
   "id": "97500b7b",
   "metadata": {
    "tags": []
   },
   "outputs": [
    {
     "name": "stdin",
     "output_type": "stream",
     "text": [
      "검색할 ID 6\n"
     ]
    }
   ],
   "source": [
    "select_sql = \"\"\"SELECT *\n",
    "                FROM member\n",
    "                WHERE id = %s\"\"\"\n",
    "id_num = int(input(\"검색할 ID\"))\n",
    "with pymysql.connect(host=\"127.0.0.1\"\n",
    "                     ,port = 3306\n",
    "                     ,user=\"scott\"\n",
    "                     ,passwd=\"tiger\"\n",
    "                     ,db=\"testdb\"\n",
    "                     ,cursorclass=pymysql.cursors.DictCursor) as conn:\n",
    "    with conn.cursor() as cursor:\n",
    "        cnt = cursor.execute(select_sql,id_num)\n",
    "        if cnt:\n",
    "            result = cursor.fetchone()\n",
    "            # display(pd.DataFrame(result))"
   ]
  },
  {
   "cell_type": "code",
   "execution_count": 116,
   "id": "869616d1-40c5-4829-a240-65d8c6450158",
   "metadata": {
    "tags": []
   },
   "outputs": [
    {
     "data": {
      "text/plain": [
       "{'id': 6,\n",
       " 'name': '이름1',\n",
       " 'email': 'abc2@a.com',\n",
       " 'tall': Decimal('165.00'),\n",
       " 'birthday': datetime.date(2000, 1, 12),\n",
       " 'created_at': datetime.datetime(2024, 1, 17, 14, 7, 38)}"
      ]
     },
     "execution_count": 116,
     "metadata": {},
     "output_type": "execute_result"
    }
   ],
   "source": [
    "result"
   ]
  },
  {
   "cell_type": "code",
   "execution_count": 118,
   "id": "4c241a56-8a10-4e61-a72f-80cdba558316",
   "metadata": {
    "tags": []
   },
   "outputs": [
    {
     "name": "stdin",
     "output_type": "stream",
     "text": [
      "검색할 ID 6\n"
     ]
    },
    {
     "data": {
      "text/html": [
       "<div>\n",
       "<style scoped>\n",
       "    .dataframe tbody tr th:only-of-type {\n",
       "        vertical-align: middle;\n",
       "    }\n",
       "\n",
       "    .dataframe tbody tr th {\n",
       "        vertical-align: top;\n",
       "    }\n",
       "\n",
       "    .dataframe thead th {\n",
       "        text-align: right;\n",
       "    }\n",
       "</style>\n",
       "<table border=\"1\" class=\"dataframe\">\n",
       "  <thead>\n",
       "    <tr style=\"text-align: right;\">\n",
       "      <th></th>\n",
       "      <th>id</th>\n",
       "      <th>name</th>\n",
       "      <th>email</th>\n",
       "      <th>tall</th>\n",
       "      <th>birthday</th>\n",
       "      <th>created_at</th>\n",
       "    </tr>\n",
       "  </thead>\n",
       "  <tbody>\n",
       "    <tr>\n",
       "      <th>0</th>\n",
       "      <td>6</td>\n",
       "      <td>이름1</td>\n",
       "      <td>abc2@a.com</td>\n",
       "      <td>165.00</td>\n",
       "      <td>2000-01-12</td>\n",
       "      <td>2024-01-17 14:07:38</td>\n",
       "    </tr>\n",
       "  </tbody>\n",
       "</table>\n",
       "</div>"
      ],
      "text/plain": [
       "  id name       email    tall    birthday          created_at\n",
       "0  6  이름1  abc2@a.com  165.00  2000-01-12 2024-01-17 14:07:38"
      ]
     },
     "metadata": {},
     "output_type": "display_data"
    }
   ],
   "source": [
    "select_sql = \"\"\"SELECT *\n",
    "                FROM member\n",
    "                WHERE id = %s\"\"\"\n",
    "select_col = \"\"\"SELECT COLUMN_NAME\n",
    "                FROM INFORMATION_SCHEMA.COLUMNS\n",
    "                WHERE TABLE_SCHEMA = 'testdb'\n",
    "                AND TABLE_NAME = 'member'\n",
    "                ORDER BY ordinal_position\"\"\";\n",
    "id_num = int(input(\"검색할 ID\"))\n",
    "with pymysql.connect(host=\"127.0.0.1\"\n",
    "                     ,port = 3306\n",
    "                     ,user=\"scott\"\n",
    "                     ,passwd=\"tiger\"\n",
    "                     ,db=\"testdb\") as conn:\n",
    "    with conn.cursor() as cursor:\n",
    "        cnt = cursor.execute(select_sql,id_num)\n",
    "        result = cursor.fetchone()\n",
    "        cursor.execute(select_col)\n",
    "        col_nm = [f[0] for f in cursor.fetchall()]\n",
    "        display(pd.DataFrame(np.array(result).reshape(1,-1),columns = col_nm))"
   ]
  },
  {
   "cell_type": "markdown",
   "id": "cc8054bc",
   "metadata": {},
   "source": [
    "### fetchmany()"
   ]
  },
  {
   "cell_type": "code",
   "execution_count": null,
   "id": "7d72f49c",
   "metadata": {},
   "outputs": [],
   "source": []
  },
  {
   "cell_type": "code",
   "execution_count": null,
   "id": "50fffed5",
   "metadata": {},
   "outputs": [],
   "source": []
  },
  {
   "cell_type": "markdown",
   "id": "fca900bd",
   "metadata": {},
   "source": [
    "### cursor 는 iterable 타입\n",
    "- for문에 select 실행한 cursor를 사용하면 조회결과를 한 행씩 조회할 수 있다."
   ]
  },
  {
   "cell_type": "code",
   "execution_count": 124,
   "id": "8332ff67",
   "metadata": {
    "tags": []
   },
   "outputs": [
    {
     "name": "stdout",
     "output_type": "stream",
     "text": [
      "3\n",
      "((6, '이름1', 'abc2@a.com', Decimal('165.00'), datetime.date(2000, 1, 12), datetime.datetime(2024, 1, 17, 14, 7, 38)), (7, '이름2', 'def2@a.com', Decimal('175.00'), datetime.date(1995, 12, 20), datetime.datetime(2024, 1, 17, 14, 7, 38)), (8, '이름1', 'ghi2@a.com', Decimal('185.00'), datetime.date(1988, 7, 21), datetime.datetime(2024, 1, 17, 14, 7, 38)))\n"
     ]
    }
   ],
   "source": [
    "select_sql = \"\"\"SELECT *\n",
    "                FROM member\n",
    "                WHERE name LIKE %s\"\"\"\n",
    "with pymysql.connect(host=\"127.0.0.1\"\n",
    "                     ,port = 3306\n",
    "                     ,user=\"scott\"\n",
    "                     ,passwd=\"tiger\"\n",
    "                     ,db=\"testdb\") as conn:\n",
    "    with conn.cursor() as cursor:\n",
    "        cnt = cursor.execute(select_sql,'%름%')\n",
    "        # result = cursor.fetchall()\n",
    "        sum_tall = 0\n",
    "        for data in cursor:\n",
    "            sum_tall += float(data[3])\n",
    "print(cnt)\n",
    "print(result)"
   ]
  },
  {
   "cell_type": "markdown",
   "id": "32433b68",
   "metadata": {},
   "source": [
    "# 함수 구현\n",
    "\n",
    "보통 테이블과 관련해서 CRUD를 처리하는 함수 또는 클래스를 정의해서 사용한다.  \n",
    "다음은 Member 테이블의 CRUD를 처리하는 함수를 작성한다.\n",
    "\n",
    "1. name, email, tall, birthday를 매개변수로 받아서 insert하는 함수. (id는 자동증가, created_at은 실행시점의 일시가 insert되도록 한다.)\n",
    "2. id, name, email, tall, birthday를 매개변수로 받아서 id의 member의 나머지 정보를 update하는 함수. (created_at은 update하지 않는다.)\n",
    "3. id를 매개변수로 받아서 그 member 를 삭제하는 함수.\n",
    "4. id를 매개변수로 받아서 그 id의 회원 정보를 조회하여 반환하는 함수.\n",
    "5. 전체 회원정보를 조회하는 함수\n",
    "\n",
    "\n",
    "- insert, update, delete 는 적용된 행의 개수를 반환한다.\n",
    "- select 처리 함수는 조회결과를 반환한다.\n"
   ]
  },
  {
   "cell_type": "code",
   "execution_count": null,
   "id": "3435607a",
   "metadata": {},
   "outputs": [],
   "source": []
  },
  {
   "cell_type": "code",
   "execution_count": null,
   "id": "abdb1650",
   "metadata": {},
   "outputs": [],
   "source": []
  }
 ],
 "metadata": {
  "kernelspec": {
   "display_name": "Python 3 (ipykernel)",
   "language": "python",
   "name": "python3"
  },
  "language_info": {
   "codemirror_mode": {
    "name": "ipython",
    "version": 3
   },
   "file_extension": ".py",
   "mimetype": "text/x-python",
   "name": "python",
   "nbconvert_exporter": "python",
   "pygments_lexer": "ipython3",
   "version": "3.11.5"
  },
  "toc": {
   "base_numbering": 1,
   "nav_menu": {},
   "number_sections": false,
   "sideBar": true,
   "skip_h1_title": false,
   "title_cell": "Table of Contents",
   "title_sidebar": "Contents",
   "toc_cell": false,
   "toc_position": {},
   "toc_section_display": true,
   "toc_window_display": false
  },
  "varInspector": {
   "cols": {
    "lenName": 16,
    "lenType": 16,
    "lenVar": 40
   },
   "kernels_config": {
    "python": {
     "delete_cmd_postfix": "",
     "delete_cmd_prefix": "del ",
     "library": "var_list.py",
     "varRefreshCmd": "print(var_dic_list())"
    },
    "r": {
     "delete_cmd_postfix": ") ",
     "delete_cmd_prefix": "rm(",
     "library": "var_list.r",
     "varRefreshCmd": "cat(var_dic_list()) "
    }
   },
   "types_to_exclude": [
    "module",
    "function",
    "builtin_function_or_method",
    "instance",
    "_Feature"
   ],
   "window_display": false
  }
 },
 "nbformat": 4,
 "nbformat_minor": 5
}
