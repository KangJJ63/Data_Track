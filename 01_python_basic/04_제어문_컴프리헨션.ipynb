{
 "cells": [
  {
   "cell_type": "markdown",
   "id": "8c49cd8e",
   "metadata": {
    "slideshow": {
     "slide_type": "slide"
    }
   },
   "source": [
    "# 제어문(Control flow statement)\n",
    "기본적으로 프로그램은 순차구조를 가진다. 즉 작성한 순서대로 실행이 된다.  \n",
    "이런 실행흐름을 다른 순서로 제어하기 위한 구문을 만드는 문법이 제어문이다.  \n",
    "제어문은 **조건문** 과 **반복문** 두가지 문법이 있다.\n",
    "- **조건문**\n",
    "    - if 문\n",
    "- **반복문**\n",
    "    - while 문\n",
    "    - for in 문"
   ]
  },
  {
   "cell_type": "markdown",
   "id": "92c502ce",
   "metadata": {
    "slideshow": {
     "slide_type": "slide"
    }
   },
   "source": [
    "# 조건문/분기문 (conditional statement)\n",
    "- 프로그램이 명령문들을 실행하는 도중 특정 순서에서 **조건에 따라 흐름의 나눠져야 하는 경우 사용한다**\n",
    "- 파이썬은 조건문으로 **if문**이 있다.\n",
    "\n",
    "![조건문](images/ch03_01.png)\n",
    "\n",
    "<center>입력 받은 a 의 값이 0인지 여부에 따라 두가지 흐름으로 분기된다.</center>\n"
   ]
  },
  {
   "cell_type": "markdown",
   "id": "2a3c1835",
   "metadata": {
    "slideshow": {
     "slide_type": "subslide"
    }
   },
   "source": [
    "## 구문\n",
    "\n",
    "- 조건이 True일 경우만 특정 구문들을 실행 하는 조건문.\n",
    "```python\n",
    "if 조건:    # 조건은 bool 표현식을 기술한다. 조건선언 다음에 : 으로 선언해서 코드블록을 구분한다.\n",
    "    명령문1  # 조건이 True이면 실행할 구문들을 코드블럭에 기술한다.\n",
    "    명령문2  # 코드 블록은 들여쓰기를 이용해 묶어준다. 보통 공백 4칸으로 들여쓰기를 한다.\n",
    "    ...\n",
    "```\n",
    "> ### 파이썬의 코드블록(code block)  \n",
    "> 코드블록이란 **여러 명령문들을 묶어놓은 것을** 말한다. 코드블록으로 묶이면 실행시 같이 다 실행되고 실행이 안되면 같이 다 실행이 안된다.    \n",
    "> 파이썬에서는 코드블록을 작성할 때 **들여쓰기를 이용해 묶어준다.**   \n",
    "> 같은 칸만큼 들여쓰기를 한 명령문들이 같은 블록으로 묶인다.\n",
    "> 들여쓰기는 관례적으로 **공백 4칸을** 사용한다. \n",
    "\n",
    "> ### pass 키워드(예약어)\n",
    "> - 빈 구현부를 만들때 사용\n",
    ">     - 제어문, 함수의 body 코드블럭은 비울 수 없다. 반드시 명령문을 한개 이상 작성해야한다. \n",
    ">     - 작성할 내용이 없을 경우 사용하는 키워드로 `pass`를 사용한다. \n",
    ">     - `...` 을 대신 사용할 수 있다."
   ]
  },
  {
   "cell_type": "markdown",
   "id": "09c79c35",
   "metadata": {
    "slideshow": {
     "slide_type": "subslide"
    }
   },
   "source": [
    "- **조건이 True일때 실행할 구문과 False일때 실행하는 조건문.**\n",
    "```python\n",
    "if 조건:     \n",
    "    명령문1_1 # 조건이 True일 경우 실행할 구문들\n",
    "    명령문1_2\n",
    "    ...\n",
    "else:\n",
    "    명령문2_1 # 조건이 False일 경우 실행할 구문들\n",
    "    명령문2_2\n",
    "    ...\n",
    "```"
   ]
  },
  {
   "cell_type": "markdown",
   "id": "621eae9a",
   "metadata": {
    "slideshow": {
     "slide_type": "subslide"
    }
   },
   "source": [
    "- **조건이 여러 개인 조건문.**\n",
    "```python\n",
    "if 조건1:\n",
    "    명령문1_1  # 조건1이 True일 경우 실행할 코드블록. \n",
    "    명령문1_2\n",
    "    ...\n",
    "elif 조건2:    # 다음 조건으로 앞의 조건들이 모드 False일 경우 비교한다.\n",
    "    명령문2_1  # 조건2가 True일 경우 실행할 코드블록.\n",
    "    명령문2_2\n",
    "    ...\n",
    "elif 조건3 :\n",
    "    명령문3_1\n",
    "    명령문3_2\n",
    "    ...\n",
    "else:         # 위의 모든 조건이 False일 경우 실행하는 코드블록. 생략 가능하다.\n",
    "    명령문4\n",
    "```"
   ]
  },
  {
   "cell_type": "code",
   "execution_count": 1,
   "id": "f8ad6731-6c56-483a-982d-67c333a1d11f",
   "metadata": {
    "tags": []
   },
   "outputs": [
    {
     "name": "stdin",
     "output_type": "stream",
     "text": [
      "Insert number :  0\n"
     ]
    },
    {
     "name": "stdout",
     "output_type": "stream",
     "text": [
      "It is Zero\n",
      "It is 0\n"
     ]
    }
   ],
   "source": [
    "num = int(input(\"Insert number : \"))\n",
    "if not num:\n",
    "    print(\"The number is Zero\")"
   ]
  },
  {
   "cell_type": "code",
   "execution_count": 2,
   "id": "9db61106-01bd-4011-b1c5-3c8df9a652ea",
   "metadata": {
    "tags": []
   },
   "outputs": [
    {
     "name": "stdin",
     "output_type": "stream",
     "text": [
      "Insert number :  3\n"
     ]
    },
    {
     "name": "stdout",
     "output_type": "stream",
     "text": [
      "THe number is not Zero\n"
     ]
    }
   ],
   "source": [
    "num = int(input(\"Insert number : \"))\n",
    "if not num:\n",
    "    print(\"The number is Zero\")\n",
    "else:\n",
    "    print(\"THe number is not Zero\")"
   ]
  },
  {
   "cell_type": "code",
   "execution_count": 6,
   "id": "bf4db825-9010-473a-8543-50eb23d2cb2e",
   "metadata": {
    "tags": []
   },
   "outputs": [
    {
     "name": "stdin",
     "output_type": "stream",
     "text": [
      "Insert number :  3\n"
     ]
    },
    {
     "name": "stdout",
     "output_type": "stream",
     "text": [
      "The number is positive number\n",
      "===> Input Value : 3\n"
     ]
    }
   ],
   "source": [
    "num = int(input(\"Insert number : \"))\n",
    "if not num:\n",
    "    print(\"The number is Zero\")\n",
    "elif num > 0:\n",
    "    print(\"The number is positive number\")\n",
    "else:\n",
    "    print(\"The number is negative number\")\n",
    "print(f\"===> Input Value : {num}\")"
   ]
  },
  {
   "cell_type": "code",
   "execution_count": 10,
   "id": "a849de9a-6fa6-4193-8366-3ac0479d6efa",
   "metadata": {
    "tags": []
   },
   "outputs": [
    {
     "name": "stdin",
     "output_type": "stream",
     "text": [
      "Insert Id :  asd\n"
     ]
    },
    {
     "name": "stdout",
     "output_type": "stream",
     "text": [
      "Length Error\n"
     ]
    }
   ],
   "source": [
    "user_id = input(\"Insert Id : \")\n",
    "if len(user_id) < 5:\n",
    "    print(\"Length Error\")\n",
    "else:\n",
    "    print(\"Success register\")"
   ]
  },
  {
   "cell_type": "markdown",
   "id": "2149b728",
   "metadata": {
    "slideshow": {
     "slide_type": "slide"
    }
   },
   "source": [
    "# 반복문 (Loop statement)\n",
    "\n",
    "특정 구문들을 반복해서 실행할 때 사용한다. 동일한 코드를 여러번 반복하거나 값이 일정하게 변하는 코드를 반복할 경우 사용한다.  \n",
    "단순 반복을 처리하는 **while문**과 iterable객체가 제공하는 값들을 반복 조회하는 **for in문** 두가지 문법이 있다.\n",
    "\n",
    "![반복문](images/ch03_02.png)\n",
    "<center>count의 값이 limit의 값보다 크거나 같을때 까지 count의 값을 1증가 후 출력하는 구문을 반복한다. </center>"
   ]
  },
  {
   "cell_type": "markdown",
   "id": "b4740a36",
   "metadata": {
    "slideshow": {
     "slide_type": "subslide"
    }
   },
   "source": [
    "## while문\n",
    "- 조건이 True인 동안 구문을 반복해서 실행한다.\n",
    "\n",
    "### 구문\n",
    "```python\n",
    "while 조건:       # 조건은 bool 표현식을 기술한다. 조건선언 다음에 : 으로 선언해서 코드블록을 구분한다\n",
    "    반복할 구문1  # 반복할 구문을 코드블록으로 작성한다.  \n",
    "    반복할 구문2\n",
    "    ...\n",
    "```"
   ]
  },
  {
   "cell_type": "code",
   "execution_count": 16,
   "id": "6b11bde6",
   "metadata": {
    "slideshow": {
     "slide_type": "fragment"
    },
    "tags": []
   },
   "outputs": [
    {
     "name": "stdin",
     "output_type": "stream",
     "text": [
      " 3\n"
     ]
    },
    {
     "name": "stdout",
     "output_type": "stream",
     "text": [
      "##### for 문 #####\n",
      "1번째 반복\n",
      "2번째 반복\n",
      "3번째 반복\n",
      "\n",
      "##### while 문 #####\n",
      "1번째 반복\n",
      "2번째 반복\n",
      "3번째 반복\n"
     ]
    }
   ],
   "source": [
    "limit = int(input())\n",
    "\n",
    "# 방법 1\n",
    "print(f\"{'#'*5} for 문 {'#'*5}\")\n",
    "for i in range(limit):\n",
    "    print(f\"{i+1}번째 반복\")\n",
    "    \n",
    "# 방법2\n",
    "print(f\"\\n{'#'*5} while 문 {'#'*5}\")\n",
    "cnt = 0\n",
    "while cnt < limit:\n",
    "    print(f\"{cnt+1}번째 반복\")\n",
    "    cnt += 1\n",
    "    "
   ]
  },
  {
   "cell_type": "markdown",
   "id": "04f12e55",
   "metadata": {
    "slideshow": {
     "slide_type": "subslide"
    }
   },
   "source": [
    "## for  in 문\n",
    "- Iterable 객체를 순환조회하는 구문\n",
    "    - for in문은 Iterable 타입의 객체가 가지고 있는 값들을 하나씩 처리하는 구문을 작성할 때 사용한다.\n",
    "\n",
    "> - **Iterable**\n",
    ">    - 반복가능한 객체. 반복문(for in)을 이용해 일련의 값들을 반복적으로 각각 제공하는 객체를 말한다. \n",
    ">    - 대표적으로 List, Tuple, Dictionary, Set, 문자열 등이 있다.\n",
    "\n",
    "### 구문\n",
    "```python\n",
    "for 변수 in Iterable: # for in 선언후 : 으로 선언부와 구현부를 나눈다.\n",
    "    반복구문          # Iterable이 반복시 제공하는 값을 가지는 \"변수\"를 이용해 값들을 처리하는 구문을 코드블록으로 작성한다.\n",
    "    반복구문\n",
    "```"
   ]
  },
  {
   "cell_type": "code",
   "execution_count": 17,
   "id": "da0ce0f6",
   "metadata": {
    "slideshow": {
     "slide_type": "fragment"
    },
    "tags": []
   },
   "outputs": [
    {
     "name": "stdout",
     "output_type": "stream",
     "text": [
      "11\n",
      "12\n",
      "13\n"
     ]
    }
   ],
   "source": [
    "li = [1,2,3]\n",
    "for var in li:\n",
    "    print(var+10)"
   ]
  },
  {
   "cell_type": "code",
   "execution_count": 18,
   "id": "868cd718-63df-4e50-acb1-04a8c99e780f",
   "metadata": {
    "tags": []
   },
   "outputs": [
    {
     "name": "stdout",
     "output_type": "stream",
     "text": [
      "[11, 12, 13]\n"
     ]
    }
   ],
   "source": [
    "result = [var + 10 for var in li]\n",
    "print(result)"
   ]
  },
  {
   "cell_type": "code",
   "execution_count": 21,
   "id": "049d6e86-7ad6-46ce-8651-b4471f605264",
   "metadata": {
    "tags": []
   },
   "outputs": [
    {
     "name": "stdout",
     "output_type": "stream",
     "text": [
      "-30\n",
      "2\n",
      "5\n",
      "10\n",
      "-1\n"
     ]
    }
   ],
   "source": [
    "s = {10,2,5,-1,-30}\n",
    "for t in s:\n",
    "    print(t)"
   ]
  },
  {
   "cell_type": "code",
   "execution_count": 22,
   "id": "35d5e6f4-19b7-40fe-905f-58373d47a487",
   "metadata": {
    "tags": []
   },
   "outputs": [
    {
     "name": "stdout",
     "output_type": "stream",
     "text": [
      "{2, 10, 5}\n"
     ]
    }
   ],
   "source": [
    "print(set(filter(lambda x : x > 0,s)))"
   ]
  },
  {
   "cell_type": "code",
   "execution_count": 23,
   "id": "68800bca-3603-40fc-98e5-f46422e06bde",
   "metadata": {
    "tags": []
   },
   "outputs": [
    {
     "name": "stdout",
     "output_type": "stream",
     "text": [
      "key : a / var : 100\n",
      "key : b / var : 200\n",
      "key : c / var : 300\n"
     ]
    }
   ],
   "source": [
    "my_dict = {'a':100\n",
    "           ,'b':200\n",
    "           ,'c':300}\n",
    "for k,v in my_dict.items():\n",
    "    print(f\"key : {k} / var : {v}\")"
   ]
  },
  {
   "cell_type": "code",
   "execution_count": 26,
   "id": "a407ffcc-1d06-4a2d-b7a9-0d5777caac5f",
   "metadata": {
    "tags": []
   },
   "outputs": [
    {
     "name": "stdout",
     "output_type": "stream",
     "text": [
      "1\n",
      "4\n",
      "9\n",
      "100\n",
      "400\n",
      "900\n",
      "10000\n",
      "40000\n",
      "90000\n"
     ]
    }
   ],
   "source": [
    "lst = [[1,2,3]\n",
    "       ,[10,20,30]\n",
    "       ,[100,200,300]]\n",
    "for l in lst:\n",
    "    for v in l:\n",
    "        print(v **2 )"
   ]
  },
  {
   "cell_type": "code",
   "execution_count": 29,
   "id": "f396fdb3-0394-4698-a41f-f4e458996f94",
   "metadata": {
    "tags": []
   },
   "outputs": [
    {
     "name": "stdout",
     "output_type": "stream",
     "text": [
      "1 2 3\n",
      "6\n",
      "10 20 30\n",
      "60\n",
      "100 200 300\n",
      "600\n"
     ]
    }
   ],
   "source": [
    "for v1,v2,v3 in lst:\n",
    "    print(v1,v2,v3)\n",
    "    print(v1+v2+v3)"
   ]
  },
  {
   "cell_type": "markdown",
   "id": "1f30cd6f",
   "metadata": {
    "slideshow": {
     "slide_type": "subslide"
    }
   },
   "source": [
    "## continue와 break를 이용한 반복문 제어\n",
    "- **continue**\n",
    "    - 실행 블록에서 continue가 실행되면 현재 반복을 중단하고 다음 반복을 진행한다.\n",
    "    - 특정 조건에서 처리를 멈추고 다음 처리를 반복할 때 사용한다.\n",
    "- **break**\n",
    "    - 반복문 실행을 중단한다.\n",
    "    - 특정 조건에서 반복문을 중간에 중지할때 사용한다.\n",
    "- continue와 break는 특정 조건에서 실행되야 하는 경우가 대부분이므로 if문 안에 작성한다.    "
   ]
  },
  {
   "cell_type": "code",
   "execution_count": 30,
   "id": "8d2f068e-331f-40fb-acb0-98b948a2638b",
   "metadata": {
    "tags": []
   },
   "outputs": [
    {
     "name": "stdout",
     "output_type": "stream",
     "text": [
      "1\n",
      "11\n"
     ]
    }
   ],
   "source": [
    "lst = [1,10,5,-10,2,-70]\n",
    "for v in lst:\n",
    "    print(v)\n",
    "    print(v+10)\n",
    "    break\n",
    "    print(v+100)"
   ]
  },
  {
   "cell_type": "code",
   "execution_count": 50,
   "id": "e36dd854-1643-4d30-9173-72d481992a15",
   "metadata": {
    "tags": []
   },
   "outputs": [
    {
     "name": "stdout",
     "output_type": "stream",
     "text": [
      "64\n"
     ]
    }
   ],
   "source": [
    "import random\n",
    "random.seed = 30\n",
    "print(random.randint(10,100))\n"
   ]
  },
  {
   "cell_type": "code",
   "execution_count": 110,
   "id": "35a630f9-0653-4e73-9fce-6fadfbcc5c53",
   "metadata": {
    "tags": []
   },
   "outputs": [
    {
     "name": "stdout",
     "output_type": "stream",
     "text": [
      "66 => 44 => 56 => 7 => 36 => 88 => 83 => 92 => 62 => 71 => 89 => 3 => 87 => 79 => -23 => -53 => -40 => -82 => 15 => 32 => 1 => 66 => -90 => -53 => -17 => 80 => -91 => 0\n"
     ]
    }
   ],
   "source": [
    "result = list()\n",
    "while True:\n",
    "    num = random.randint(-100,100)\n",
    "    result.append(num)\n",
    "    if not num:\n",
    "        break\n",
    "    \n",
    "print(*result,sep=' => ')"
   ]
  },
  {
   "cell_type": "code",
   "execution_count": 111,
   "id": "0ca0d332-8ac4-4e23-8467-8313285ef190",
   "metadata": {
    "tags": []
   },
   "outputs": [
    {
     "name": "stdout",
     "output_type": "stream",
     "text": [
      "[65, 5, 97, 71, 90, 42, 60, 88, 68, 49, 57, 19, 85]\n"
     ]
    }
   ],
   "source": [
    "result = list()\n",
    "while True:\n",
    "    num = random.randint(-100,100)\n",
    "    if not num:\n",
    "        break\n",
    "    if 0<num:\n",
    "        result.append(num)\n",
    "print(result)    "
   ]
  },
  {
   "cell_type": "code",
   "execution_count": 121,
   "id": "2ba893b3-7436-4170-85e7-c520770bb3a0",
   "metadata": {
    "tags": []
   },
   "outputs": [
    {
     "name": "stdout",
     "output_type": "stream",
     "text": [
      "True\n"
     ]
    }
   ],
   "source": [
    "result = False\n",
    "for l in lst:\n",
    "    if l == 5:\n",
    "        result = True\n",
    "        break\n",
    "print(result)"
   ]
  },
  {
   "cell_type": "code",
   "execution_count": 124,
   "id": "1fede194-c86c-4446-8945-9b0809569d78",
   "metadata": {
    "tags": []
   },
   "outputs": [
    {
     "name": "stdout",
     "output_type": "stream",
     "text": [
      "o\n"
     ]
    }
   ],
   "source": [
    "print('o' if result else 'X')"
   ]
  },
  {
   "cell_type": "markdown",
   "id": "dc6099c5",
   "metadata": {
    "slideshow": {
     "slide_type": "slide"
    }
   },
   "source": [
    "## for in 문 연관 내장 함수\n",
    "\n",
    "### range()\n",
    "- 일정한 간격의 연속된 정수를 제공하는 반복가능 객체 생성한다.\n",
    "- 구문\n",
    "    - `range([시작값], 멈춤값, [증감값])`\n",
    "        - 시작값, 멈춤값, 증감값 모두 정수만 가능하다.\n",
    "        - 시작값 > 멈춤값 이고 증감값이 음수이면 내림차순으로 값을 제공한다.\n",
    "        1. 전달값이 **1개: 멈춤값**. \n",
    "            - 0 ~ (멈춤값-1)까지 1씩 증가하는 정수를 제공\n",
    "        2. 전달값이 **2개: 시작값, 멈춤값**. \n",
    "            - 시작값 ~ (멈춤값-1) 까지 1씩 증가하는 정수 제공\n",
    "        3. 전달값이 **3개: 시작값, 멈춤값, 증감값(간격)**. \n",
    "            - 시작값 ~ (멈춤값-1)까지 증감값만큼 증가하는 정수를 제공.\n"
   ]
  },
  {
   "cell_type": "code",
   "execution_count": 135,
   "id": "0a85e640-2d88-4756-a96d-074438468f15",
   "metadata": {
    "tags": []
   },
   "outputs": [
    {
     "name": "stdout",
     "output_type": "stream",
     "text": [
      "range(0, 5)\n",
      "0\t1\t2\t3\t4\n"
     ]
    }
   ],
   "source": [
    "type(range(5))\n",
    "print(range(5))\n",
    "print(*[i for i in range(5)],sep = '\\t')"
   ]
  },
  {
   "cell_type": "code",
   "execution_count": 125,
   "id": "352d937b",
   "metadata": {
    "slideshow": {
     "slide_type": "fragment"
    },
    "tags": []
   },
   "outputs": [
    {
     "name": "stdout",
     "output_type": "stream",
     "text": [
      "0\n",
      "1\n",
      "2\n",
      "3\n",
      "4\n"
     ]
    }
   ],
   "source": [
    "for i in range(5):\n",
    "    print(i)"
   ]
  },
  {
   "cell_type": "code",
   "execution_count": 137,
   "id": "a06f9e6e-6636-46b5-bdae-aee455b7261e",
   "metadata": {
    "tags": []
   },
   "outputs": [
    {
     "data": {
      "text/plain": [
       "'10, 11, 12, 13, 14'"
      ]
     },
     "execution_count": 137,
     "metadata": {},
     "output_type": "execute_result"
    }
   ],
   "source": [
    "', '.join([str(i) for i in range(10,15)])"
   ]
  },
  {
   "cell_type": "code",
   "execution_count": 138,
   "id": "929ea436-e897-4b0a-9785-5f98e5c13768",
   "metadata": {
    "tags": []
   },
   "outputs": [
    {
     "name": "stdout",
     "output_type": "stream",
     "text": [
      "0, 10, 20, 30, 40, 50, 60, 70, 80, 90, 100\n"
     ]
    }
   ],
   "source": [
    "print(*[i for i in range(0,101,10)],sep =', ')"
   ]
  },
  {
   "cell_type": "code",
   "execution_count": 141,
   "id": "6281d9be-e6bb-4f8e-b8fb-71f6447686bf",
   "metadata": {
    "tags": []
   },
   "outputs": [
    {
     "data": {
      "text/plain": [
       "[1, 2, 3, 4, 5, 6, 7, 8, 9, 10]"
      ]
     },
     "execution_count": 141,
     "metadata": {},
     "output_type": "execute_result"
    }
   ],
   "source": [
    "list(range(1,11))"
   ]
  },
  {
   "cell_type": "code",
   "execution_count": 144,
   "id": "4171e5c0-5662-428b-99ac-12e7cacd7389",
   "metadata": {
    "tags": []
   },
   "outputs": [
    {
     "name": "stdout",
     "output_type": "stream",
     "text": [
      "0, 1, 2, 3, 4, 5, 6, 7, 8, 9, 10, 11, 12, 13, 14\n"
     ]
    }
   ],
   "source": [
    "print(*list(range(15)),sep = ', ')"
   ]
  },
  {
   "cell_type": "markdown",
   "id": "5de9d74e",
   "metadata": {
    "slideshow": {
     "slide_type": "subslide"
    }
   },
   "source": [
    "## enumerate()\n",
    "\n",
    "- 구문\n",
    "    - `enumerate(Iterable,  [, start=정수])`\n",
    "        - 현재 몇번째 값을 제공하는 지(현재 몇번째 반복인지)를 나타내는 **index**와 제공하는 **원소**를 tuple로 묶어서 반환\n",
    "        - Iterable\n",
    "            - 값을 제공할 Iterable객체\n",
    "        - start: 정수\n",
    "            - index 시작 값. 생략하면 0부터 시작한다."
   ]
  },
  {
   "cell_type": "code",
   "execution_count": 147,
   "id": "33dd96c5",
   "metadata": {
    "slideshow": {
     "slide_type": "fragment"
    },
    "tags": []
   },
   "outputs": [
    {
     "name": "stdout",
     "output_type": "stream",
     "text": [
      "index : 7 , value : 1\n",
      "index : 8 , value : 10\n",
      "index : 9 , value : 5\n",
      "index : 10 , value : -10\n",
      "index : 11 , value : 2\n",
      "index : 12 , value : -70\n"
     ]
    }
   ],
   "source": [
    "print(*[f\"index : {idx} , value : {val}\" for idx,val in enumerate(lst,7)],sep = '\\n')"
   ]
  },
  {
   "cell_type": "code",
   "execution_count": 166,
   "id": "79cc61c4-30b1-4611-a60a-00e787191e15",
   "metadata": {
    "tags": []
   },
   "outputs": [
    {
     "name": "stdout",
     "output_type": "stream",
     "text": [
      "1,000\n",
      "1,000\n",
      "08\n",
      "08\n"
     ]
    }
   ],
   "source": [
    "### 천 단위로 구분\n",
    "# 방법 1.\n",
    "print(format(1000,','))\n",
    "# 방법 2 (f-string)\n",
    "print(f\"{1000:,}\")\n",
    "\n",
    "\n",
    "### 앞에 0 붙이기 ex) 01월 02월 ~ 10월, 12월\n",
    "# 방법 1.\n",
    "print(str(8).zfill(2))\n",
    "# 방법 2 (f-string) \n",
    "print(f\"{8:02}\")"
   ]
  },
  {
   "cell_type": "markdown",
   "id": "f5a5540f",
   "metadata": {
    "slideshow": {
     "slide_type": "subslide"
    }
   },
   "source": [
    "## zip()\n",
    "- 여러 개의 Iterable 객체를 받아 반복시 같은 index의 값끼리 튜플로 묶어 반환한다.\n",
    "- 구문\n",
    "    - `zip(Iterable1, Iterable2, Iterable3 [, .......])`\n",
    "        - Iterable 2개이상.전달한다.\n",
    "- 각 Iterable이 제공하는 원소의 개수가가 다를 경우 가장 적은 것의 개수에 맞춰 반복한다."
   ]
  },
  {
   "cell_type": "code",
   "execution_count": 184,
   "id": "1930b880-63e4-4b55-a5a0-685522610ab2",
   "metadata": {
    "tags": []
   },
   "outputs": [
    {
     "name": "stdout",
     "output_type": "stream",
     "text": [
      "1번째 => 이름 : 이순신, 나이 : 30, 주소 : 서울\n",
      "2번째 => 이름 : 유관순, 나이 : 40, 주소 : 인천\n",
      "3번째 => 이름 : 강감찬, 나이 : 50, 주소 : 부산\n"
     ]
    }
   ],
   "source": [
    "names = ['이순신',\n",
    "         '유관순'\n",
    "         ,'강감찬']\n",
    "ages = [30,40,50]\n",
    "addr = ['서울','인천','부산']\n",
    "\n",
    "# tuple 모양 맞춤.\n",
    "for idx,(nm,age,ad) in enumerate(zip(names,ages,addr),1):\n",
    "    print(f\"{idx}번째 => 이름 : {nm}, 나이 : {age}, 주소 : {ad}\")"
   ]
  },
  {
   "cell_type": "code",
   "execution_count": 129,
   "id": "1b99057f",
   "metadata": {
    "slideshow": {
     "slide_type": "fragment"
    },
    "tags": []
   },
   "outputs": [
    {
     "name": "stdout",
     "output_type": "stream",
     "text": [
      "1 + 10 = 11\n",
      "10 + 5 = 15\n",
      "5 + 2 = 7\n",
      "-10 + 1 = -9\n",
      "2 + -10 = -8\n",
      "-70 + -70 = -140\n"
     ]
    }
   ],
   "source": [
    "lst2 = sorted(lst,reverse=True).copy()\n",
    "for x,y in zip(lst,lst2):\n",
    "    print(f\"{x} + {y} = {x + y}\")"
   ]
  },
  {
   "cell_type": "markdown",
   "id": "2df89dae",
   "metadata": {
    "slideshow": {
     "slide_type": "subslide"
    }
   },
   "source": [
    "# 컴프리헨션(Comprehension)\n",
    "\n",
    "- 기존 Iterable의 원소들을 이용해서 새로운 자료구조(List, Dictionary, Set)를 생성하는 구문.\n",
    "    - 기존 Iterable의 **원소들을 처리한 결과**나  **특정 조건이 True인 값들을** 새로운 자료구조에 넣을때 사용.\n",
    "    - 결과를 넣을 새로운 자료구조 타입에 따라 다음 세가지가 있다.\n",
    "        - 리스트 컴프리헨션\n",
    "        - 딕셔너리  컴프리헨션\n",
    "        - 셋  컴프리헨션\n",
    "- **튜플 컴프리헨션**은 없다.\n",
    "- **딕셔너리 컴프리헨션**과 **셋 컴프리헨션**은 파이썬 3 에 새로 추가되었다."
   ]
  },
  {
   "cell_type": "code",
   "execution_count": 186,
   "id": "bbb036d5-80ac-4a04-8f1f-1e2886e9eea1",
   "metadata": {
    "tags": []
   },
   "outputs": [
    {
     "name": "stdout",
     "output_type": "stream",
     "text": [
      "[10, 20, 30, 40, 50, 60, 70, 80, 90]\n",
      "[10, 20, 30, 40, 50, 60, 70, 80, 90]\n"
     ]
    }
   ],
   "source": [
    "li = list(range(-10,10))\n",
    "### List comprehension\n",
    "## 각 원소 10 곱하기\n",
    "\n",
    "# 방법1\n",
    "print([i*10 for i in li])\n",
    "# 방법2 (map, lambda  사용)\n",
    "print(list(map(lambda x : x*10, li)))"
   ]
  },
  {
   "cell_type": "code",
   "execution_count": 189,
   "id": "4784b252-2b5b-4298-a444-0ef265dbb8ee",
   "metadata": {
    "tags": []
   },
   "outputs": [
    {
     "name": "stdout",
     "output_type": "stream",
     "text": [
      "{'key-1': 1, 'key-2': 2, 'key-3': 3, 'key-4': 4, 'key-5': 5, 'key-6': 6, 'key-7': 7, 'key-8': 8, 'key-9': 9}\n"
     ]
    }
   ],
   "source": [
    "### Dict comprehension\n",
    "print({f\"key-{idx}\":val for idx,val in enumerate(li,1)})"
   ]
  },
  {
   "cell_type": "code",
   "execution_count": 185,
   "id": "0d3b2c33-194d-4188-b86f-8d3cc2312c44",
   "metadata": {
    "tags": []
   },
   "outputs": [],
   "source": [
    "### Set comprehension"
   ]
  },
  {
   "cell_type": "code",
   "execution_count": 206,
   "id": "bc43c0ce-5f67-4c2d-aaef-8e4507a69078",
   "metadata": {
    "tags": []
   },
   "outputs": [
    {
     "data": {
      "text/plain": [
       "[-999, -4, -999, -2, -999, 0, -999, 2, -999, 4]"
      ]
     },
     "execution_count": 206,
     "metadata": {},
     "output_type": "execute_result"
    }
   ],
   "source": [
    "### For + If Comprehension \n",
    "[val for val in li if not val % 2 ] \n",
    "\n",
    "li = list(range(-5,5))\n",
    "# If - else ( else문이 있으면 for문 안에서 작성)\n",
    "[val if not val % 2 else (0 if not val else -999) for val in li ] \n"
   ]
  },
  {
   "cell_type": "code",
   "execution_count": 205,
   "id": "d36d3936-a079-4b2d-ad1e-d094ff4abaf5",
   "metadata": {
    "tags": []
   },
   "outputs": [
    {
     "data": {
      "text/plain": [
       "[[0, 1, 2, 3, 4],\n",
       " [1, 2, 3, 4, 5],\n",
       " [2, 3, 4, 5, 6],\n",
       " [3, 4, 5, 6, 7],\n",
       " [4, 5, 6, 7, 8]]"
      ]
     },
     "execution_count": 205,
     "metadata": {},
     "output_type": "execute_result"
    }
   ],
   "source": [
    "### 이중리스트 Comprehension\n",
    "[([j for j in range(i,i+5)]) for i in range(5)]"
   ]
  },
  {
   "cell_type": "code",
   "execution_count": 212,
   "id": "15364ca1-5551-498c-8825-131e1b4c2201",
   "metadata": {
    "tags": []
   },
   "outputs": [
    {
     "name": "stdout",
     "output_type": "stream",
     "text": [
      "방법1 => ['SADSF', 'DSFA', 'FISDFD', 'ASFDDD']\n",
      "방법2(map 사용) => ['SADSF', 'DSFA', 'FISDFD', 'ASFDDD']\n"
     ]
    }
   ],
   "source": [
    "li2 = ['sadSF','dsfA','fiSdfd','ASFDDd']\n",
    "## 일괄적으로 대문자로 변경\n",
    "\n",
    "# 방법 1\n",
    "print(f\"방법1 => {[s.upper() for s in li2]}\")\n",
    "\n",
    "# 방법 2\n",
    "print(f\"방법2(map 사용) => {list(map(lambda x : x.upper(),li2))}\")"
   ]
  },
  {
   "cell_type": "markdown",
   "id": "092288d7",
   "metadata": {
    "slideshow": {
     "slide_type": "skip"
    }
   },
   "source": [
    "# TODO"
   ]
  },
  {
   "cell_type": "code",
   "execution_count": 248,
   "id": "3ed47d67-b125-42c1-8530-35998ade3d56",
   "metadata": {
    "slideshow": {
     "slide_type": "skip"
    },
    "tags": []
   },
   "outputs": [
    {
     "name": "stdin",
     "output_type": "stream",
     "text": [
      " -1\n"
     ]
    },
    {
     "name": "stdout",
     "output_type": "stream",
     "text": [
      "점수를 잘못 입력하였습니다.\n"
     ]
    }
   ],
   "source": [
    "#(1) 다음 점수 구간에 맞게 학점을 출력하세요.\n",
    "# 91 ~ 100 : A학점\n",
    "# 81 ~ 90 :  B학점\n",
    "# 71 ~ 80 :  C학점\n",
    "# 61 ~ 70 :  D학점\n",
    "# 60이하   :  F학점\n",
    "\n",
    "while True:\n",
    "    score = input().strip()\n",
    "    grade = '학점'\n",
    "    if not score:\n",
    "        break\n",
    "    score = int(score)\n",
    "    \n",
    "    if score > 100 or score < 0:\n",
    "        print(\"점수를 잘못 입력하였습니다.\")\n",
    "        break\n",
    "        \n",
    "    if score > 90:\n",
    "        grade = 'A'+grade\n",
    "    elif score > 80:\n",
    "        grade = 'B' + grade\n",
    "    elif score > 70:\n",
    "        grade = 'C' + grade\n",
    "    elif score > 60:\n",
    "        grade = 'D' + grade\n",
    "    else:\n",
    "        grade = 'F' + grade\n",
    "    print(grade)"
   ]
  },
  {
   "cell_type": "code",
   "execution_count": 214,
   "id": "85107626-ea89-4ad0-a68b-60be0d35639e",
   "metadata": {
    "slideshow": {
     "slide_type": "skip"
    },
    "tags": []
   },
   "outputs": [
    {
     "name": "stdin",
     "output_type": "stream",
     "text": [
      " ㄷㅈㄹㅈㅇㄹㄴㄹ\n"
     ]
    },
    {
     "name": "stdout",
     "output_type": "stream",
     "text": [
      "사용할 수 있습니다.\n"
     ]
    }
   ],
   "source": [
    "#(2) 사용자로 부터 ID를 입력 받은 뒤 입력받은 ID가 5글자 이상이면 \"사용할 수 있습니다.\"를 5글자 미만이면 \"사용할 수 없는 ID입니다.\"를 출력하세요.\n",
    "user_id = input()\n",
    "if len(user_id) >= 5:\n",
    "    print(\"사용할 수 있습니다.\")\n",
    "else:\n",
    "    print(\"사용할 수 없는 ID입니다.\")"
   ]
  },
  {
   "cell_type": "code",
   "execution_count": 222,
   "id": "b1755508-7f28-43f9-bec0-50c5045003ba",
   "metadata": {
    "slideshow": {
     "slide_type": "skip"
    },
    "tags": []
   },
   "outputs": [
    {
     "name": "stdin",
     "output_type": "stream",
     "text": [
      " sad\n"
     ]
    },
    {
     "name": "stdout",
     "output_type": "stream",
     "text": [
      "특별시나 광역시가 아닙니다.\n"
     ]
    }
   ],
   "source": [
    "#(3) 사용자로부터 우리나라 도시명을 입력 받은 뒤 입력받은 도시명이 서울이면 \"특별시\"를 인천,부산,광주,대구,대전,울산 이면 \"광역시\"를 나머지는 \"특별시나 광역시가 아닙니다.\"를 출력하세요.\n",
    "city = input().strip()\n",
    "city_dict = {'특별시' : ['서울']\n",
    "             ,'광역시' : ['인천','부산','대구','대전','울산']}\n",
    "answer_yn = False\n",
    "for key,val in city_dict.items():\n",
    "    if city in val:\n",
    "        answer_yn = True\n",
    "        print(key)\n",
    "        break\n",
    "if not answer_yn:\n",
    "    print('특별시나 광역시가 아닙니다.')\n"
   ]
  },
  {
   "cell_type": "code",
   "execution_count": 223,
   "id": "4b88522a-9591-419f-990a-49023e8da4e4",
   "metadata": {
    "slideshow": {
     "slide_type": "skip"
    },
    "tags": []
   },
   "outputs": [
    {
     "name": "stdout",
     "output_type": "stream",
     "text": [
      "4번 답 => 89.00\n",
      "5번 답 => \n",
      "0-pass, 1-pass, 2-pass, 3-fail, 4-fail, 5-pass, 6-fail, 7-pass, 8-pass, 9-fail\n"
     ]
    }
   ],
   "source": [
    "#(4-5)\n",
    "#(4) 아래 리스트의 평균을 구하시오. \n",
    "jumsu = [100, 90, 100, 80, 70, 100, 80, 90, 95, 85]\n",
    "avg_score = sum(jumsu)/len(jumsu)\n",
    "\n",
    "print(f\"4번 답 => {avg_score:.2f}\")\n",
    "\n",
    "#(5) 위 jumsu리스트에서 평균점수이상은 pass, 미만은 fail을 index번호와 함께 출력하시오. (ex: 0-pass, 1-pass, 2-fail)\n",
    "jumsu = [f\"{idx}-pass\" if val >= avg_score else f'{idx}-fail'for idx,val in enumerate(jumsu)]\n",
    "print(\"5번 답 => \")\n",
    "print(*jumsu,sep = ', ')"
   ]
  },
  {
   "cell_type": "code",
   "execution_count": 225,
   "id": "2360be07-c665-43e5-a262-81a7e7eb8e90",
   "metadata": {
    "slideshow": {
     "slide_type": "skip"
    },
    "tags": []
   },
   "outputs": [
    {
     "name": "stdout",
     "output_type": "stream",
     "text": [
      "6번 답(방법 1) => 95\n",
      "6번 답(방법 2) => 95\n"
     ]
    }
   ],
   "source": [
    "#(6) 아래 리스트 값들 중 최대값을 조회해 출력하시오.\n",
    "jumsu = [60, 90, 80, 80, 70, 55, 80, 90, 95, 85]\n",
    "\n",
    "# 방법 1.\n",
    "print(f\"6번 답(방법 1) => {max(jumsu)}\")\n",
    "\n",
    "# 방법 2.\n",
    "max_val = 0\n",
    "for v in jumsu:\n",
    "    if v > max_val:\n",
    "        max_val = v\n",
    "print(f\"6번 답(방법 2) => {max_val}\")"
   ]
  },
  {
   "cell_type": "code",
   "execution_count": 229,
   "id": "116fa603-552a-4b3e-b30e-876b92d90030",
   "metadata": {
    "slideshow": {
     "slide_type": "skip"
    },
    "tags": []
   },
   "outputs": [
    {
     "name": "stdout",
     "output_type": "stream",
     "text": [
      "7번 답(방법 1) => ['소', '호랑이', '용', '뱀', '돼지', '호랑이']\n",
      "7번 답(방법 2) => ['소', '호랑이', '용', '뱀', '돼지', '호랑이']\n"
     ]
    }
   ],
   "source": [
    "#(7) 다음 리스트 중에서 \"쥐\"와 \"토끼\" 제외한 나머지를 출력하세요.\n",
    "str_list = [\"쥐\", \"소\", \"호랑이\", \"토끼\", \"용\", \"토끼\", \"뱀\", \"돼지\", \"호랑이\"]\n",
    "\n",
    "# 방법 1\n",
    "print(f\"7번 답(방법 1) => {list(filter(lambda x : x not in ['쥐','토끼'],str_list))}\")\n",
    "\n",
    "# 방법 2\n",
    "for st in str_list:\n",
    "    if st in ['쥐','토끼']:\n",
    "        str_list.remove(st)\n",
    "print(f\"7번 답(방법 2) => {str_list}\")"
   ]
  },
  {
   "cell_type": "code",
   "execution_count": 231,
   "id": "cf441221-c308-4016-aa42-7848ca01ef8f",
   "metadata": {
    "slideshow": {
     "slide_type": "skip"
    },
    "tags": []
   },
   "outputs": [
    {
     "name": "stdin",
     "output_type": "stream",
     "text": [
      " 4\n"
     ]
    },
    {
     "name": "stdout",
     "output_type": "stream",
     "text": [
      "4 x 1 = 4\n",
      "4 x 2 = 8\n",
      "4 x 3 = 12\n",
      "4 x 4 = 16\n",
      "4 x 5 = 20\n",
      "4 x 6 = 24\n",
      "4 x 7 = 28\n",
      "4 x 8 = 32\n",
      "4 x 9 = 36\n"
     ]
    }
   ],
   "source": [
    "#(8) 사용자로부터 정수를 입력받아 그 정수 단의 구구단을 출력하시오. \n",
    "# ex) \n",
    "# 단을 입력하시오 : 2  \n",
    "# 2 x 1 = 2\n",
    "# 2 x 2 = 4\n",
    "#..\n",
    "# 2 x 9 = 18\n",
    "\n",
    "number = int(input().strip())\n",
    "for i in range(1,10):\n",
    "    print(f\"{number} x {i} = {number*i}\")"
   ]
  },
  {
   "cell_type": "code",
   "execution_count": 233,
   "id": "a5d44806-b8a3-4a51-b350-a952304ceb4c",
   "metadata": {
    "slideshow": {
     "slide_type": "skip"
    },
    "tags": []
   },
   "outputs": [
    {
     "name": "stdout",
     "output_type": "stream",
     "text": [
      "9번 답(방법 1) => [20, 60, 140, 10, 240, 1400, 2, 70]\n",
      "9번 답(방법 2) => [20, 60, 140, 10, 240, 1400, 2, 70]\n"
     ]
    }
   ],
   "source": [
    "#컴프리헨션\n",
    "\n",
    "#(9) 다음 리스트가 가진 값에 두배(* 2)를 가지는 새로운 리스트를 만드시오. (리스트 컴프리헨션 이용)\n",
    "lst = [10, 30, 70, 5, 120, 700, 1, 35]\n",
    "\n",
    "# 방법 1\n",
    "print(f\"9번 답(방법 1) => {list(map(lambda x : x*2,lst))}\")\n",
    "\n",
    "# 방법 2\n",
    "print(f\"9번 답(방법 2) => {[l*2 for l in lst]}\")"
   ]
  },
  {
   "cell_type": "code",
   "execution_count": 236,
   "id": "56b06db8-5ec5-4391-abfb-8fbc8b8013b7",
   "metadata": {
    "slideshow": {
     "slide_type": "skip"
    },
    "tags": []
   },
   "outputs": [
    {
     "name": "stdout",
     "output_type": "stream",
     "text": [
      "10번 답(방법 1) => [(10, 100), (30, 300), (70, 700), (5, 50), (5, 50), (120, 1200), (700, 7000), (1, 10), (35, 350), (35, 350)]\n",
      "10번 답(방법 2) => [(10, 100), (30, 300), (70, 700), (5, 50), (5, 50), (120, 1200), (700, 7000), (1, 10), (35, 350), (35, 350)]\n"
     ]
    }
   ],
   "source": [
    "#(10) 다음 리스트가 가진 값에 10배의 값을 가지는 값을 (원래값, 10배값) 의 튜플 묶음으로 가지는 리스트를 만드시오 (리스트 컴프리헨션 이용)\n",
    "# Ex) [(10,100), (30,300), .., (35, 350)]\n",
    "lst = [10, 30, 70, 5, 5, 120, 700, 1, 35, 35]\n",
    "\n",
    "# 방법 1\n",
    "print(f\"10번 답(방법 1) => {list(map(lambda x: (x,x*10),lst))}\")\n",
    "# 방법 2\n",
    "print(f\"10번 답(방법 2) => {[(l,l*10) for l in lst]}\")"
   ]
  },
  {
   "cell_type": "code",
   "execution_count": 252,
   "id": "a0ef95d5-5383-4754-adb9-59d036e1ee54",
   "metadata": {
    "slideshow": {
     "slide_type": "skip"
    },
    "tags": []
   },
   "outputs": [
    {
     "name": "stdout",
     "output_type": "stream",
     "text": [
      "11번 답(방법 1) => [3, 33, 21, 33, 60, 120]\n",
      "11번 답(방법 2) => [3, 33, 21, 33, 60, 120]\n"
     ]
    }
   ],
   "source": [
    "#(11) 다음 리스트가 가진 값들 중 3의 배수만 가지는 리스트를 만드시오. (리스트 컴프리헨션 이용)\n",
    "lst2 = [ 3, 20, 33, 21, 33, 8, 11, 10, 7, 17, 60, 120, 2]\n",
    "\n",
    "# 방법 1\n",
    "print(f\"11번 답(방법 1) => {list(filter(lambda x : not x % 3,lst2))}\")\n",
    "# 방법 2\n",
    "print(f\"11번 답(방법 2) => {[l for l in lst2 if not l % 3]}\")"
   ]
  },
  {
   "cell_type": "code",
   "execution_count": 254,
   "id": "ea43868b-d8c5-4faf-bb51-14603f8a76da",
   "metadata": {
    "slideshow": {
     "slide_type": "skip"
    },
    "tags": []
   },
   "outputs": [
    {
     "name": "stdout",
     "output_type": "stream",
     "text": [
      "12번 답(방법 1) => ['a.exe', 'function.exe', 'b.exe', 'run.exe']\n",
      "12번 답(방법 2) => ['a.exe', 'function.exe', 'b.exe', 'run.exe']\n"
     ]
    }
   ],
   "source": [
    "#(12) 다음 파일이름들을 담은 리스트에서 확장자가 exe인 파일만 골라서 새로운 리스트에 담으시오.(string의 endswith()함수 이용)\n",
    "file_names=[\"test.txt\", \"a.exe\", \"jupyter.bat\", \"function.exe\", \"b.exe\", \"cat.jpg\", \"dog.png\", \"run.exe\", \"i.dll\"]\n",
    "\n",
    "# 방법 1\n",
    "print(f\"12번 답(방법 1) => {list(filter(lambda x : x.endswith('.exe'), file_names))}\")\n",
    "# 방법 2\n",
    "print(f\"12번 답(방법 2) => {[f for f in file_names if f.endswith('.exe')]}\")"
   ]
  },
  {
   "cell_type": "code",
   "execution_count": 245,
   "id": "f07e2890-7b6c-4f12-912e-ff8b11d6591f",
   "metadata": {
    "slideshow": {
     "slide_type": "skip"
    },
    "tags": []
   },
   "outputs": [
    {
     "name": "stdout",
     "output_type": "stream",
     "text": [
      "13번 답(방법 1) => ['mystroy.txt', 'jupyter.bat', 'function.exe']\n",
      "13번 답(방법 2) => ['mystroy.txt', 'jupyter.bat', 'function.exe']\n"
     ]
    }
   ],
   "source": [
    "#(13) 다음 중 10글자 이상인 파일명(확장자포함)만 가지는 리스트를 만드시오.\n",
    "file_names=[\"mystroy.txt\", \"a.exe\", \"jupyter.bat\", \"function.exe\", \"b.exe\", \"cat.jpg\", \"dog.png\", \"run.exe\", \"i.dll\"]\n",
    "\n",
    "# 방법 1\n",
    "print(f\"13번 답(방법 1) => {list(filter(lambda x:len(x) >=10,file_names))}\")\n",
    "# 방법 2\n",
    "print(f\"13번 답(방법 2) => {[f for f in file_names if len(f) >= 10]}\")"
   ]
  },
  {
   "cell_type": "code",
   "execution_count": 253,
   "id": "7b3ff038-c37c-4f1b-9aac-b41f4fcc510c",
   "metadata": {
    "slideshow": {
     "slide_type": "skip"
    },
    "tags": []
   },
   "outputs": [
    {
     "name": "stdout",
     "output_type": "stream",
     "text": [
      "14번 답(방법 1) => ['c', 'g', 'h', 'k']\n",
      "14번 답(방법 2) => ['c', 'g', 'h', 'k']\n"
     ]
    }
   ],
   "source": [
    "#(14) 다음 리스트에서 소문자만 가지는 새로운 리스트를 만드시오.\n",
    "str_list = [\"A\", \"B\", \"c\", \"D\", \"E\", \"F\", \"g\", \"h\", \"I\", \"J\", \"k\"]\n",
    "\n",
    "# 방법 1\n",
    "print(f\"14번 답(방법 1) => {list(filter(lambda x : x.islower(),str_list))}\")\n",
    "# 방법 2\n",
    "print(f\"14번 답(방법 2) => {[s for s in str_list if s.islower()]}\")"
   ]
  }
 ],
 "metadata": {
  "kernelspec": {
   "display_name": "Python 3 (ipykernel)",
   "language": "python",
   "name": "python3"
  },
  "language_info": {
   "codemirror_mode": {
    "name": "ipython",
    "version": 3
   },
   "file_extension": ".py",
   "mimetype": "text/x-python",
   "name": "python",
   "nbconvert_exporter": "python",
   "pygments_lexer": "ipython3",
   "version": "3.11.5"
  },
  "toc": {
   "base_numbering": 1,
   "nav_menu": {},
   "number_sections": true,
   "sideBar": true,
   "skip_h1_title": false,
   "title_cell": "Table of Contents",
   "title_sidebar": "Contents",
   "toc_cell": false,
   "toc_position": {},
   "toc_section_display": true,
   "toc_window_display": false
  },
  "varInspector": {
   "cols": {
    "lenName": 16,
    "lenType": 16,
    "lenVar": 40
   },
   "kernels_config": {
    "python": {
     "delete_cmd_postfix": "",
     "delete_cmd_prefix": "del ",
     "library": "var_list.py",
     "varRefreshCmd": "print(var_dic_list())"
    },
    "r": {
     "delete_cmd_postfix": ") ",
     "delete_cmd_prefix": "rm(",
     "library": "var_list.r",
     "varRefreshCmd": "cat(var_dic_list()) "
    }
   },
   "types_to_exclude": [
    "module",
    "function",
    "builtin_function_or_method",
    "instance",
    "_Feature"
   ],
   "window_display": false
  }
 },
 "nbformat": 4,
 "nbformat_minor": 5
}
