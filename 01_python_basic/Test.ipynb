{
 "cells": [
  {
   "cell_type": "markdown",
   "id": "3ea9fdc2-c61a-4c01-96d7-79e6a4e56e10",
   "metadata": {},
   "source": [
    "##### **주요 단축키**\n",
    "- shift + enter : 해당 셀 실행 후 다음 셀 이동\n",
    "- ctrl + enter : 해당 셀 실행\n",
    "- a / b : 해당 셀 이전 / 다음 새로운 셀 생성\n",
    "- dd : 해당 셀 삭제\n",
    "- ctrl + s : 저장  "
   ]
  }
 ],
 "metadata": {
  "kernelspec": {
   "display_name": "Python 3 (ipykernel)",
   "language": "python",
   "name": "python3"
  },
  "language_info": {
   "codemirror_mode": {
    "name": "ipython",
    "version": 3
   },
   "file_extension": ".py",
   "mimetype": "text/x-python",
   "name": "python",
   "nbconvert_exporter": "python",
   "pygments_lexer": "ipython3",
   "version": "3.11.5"
  }
 },
 "nbformat": 4,
 "nbformat_minor": 5
}
