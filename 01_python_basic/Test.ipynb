{
 "cells": [
  {
   "cell_type": "markdown",
   "id": "3ea9fdc2-c61a-4c01-96d7-79e6a4e56e10",
   "metadata": {},
   "source": [
    "##### **주요 단축키**\n",
    "- shift + enter : 해당 셀 실행 후 다음 셀 이동\n",
    "- ctrl + enter : 해당 셀 실행\n",
    "- a / b : 해당 셀 이전 / 다음 새로운 셀 생성\n",
    "- dd : 해당 셀 삭제\n",
    "- ctrl + s : 저장  "
   ]
  },
  {
   "cell_type": "code",
   "execution_count": 3,
   "id": "0947288f-e88b-4c7c-96f5-6b48d9cab2fd",
   "metadata": {
    "tags": []
   },
   "outputs": [
    {
     "data": {
      "text/plain": [
       "30"
      ]
     },
     "execution_count": 3,
     "metadata": {},
     "output_type": "execute_result"
    }
   ],
   "source": [
    "10 +20"
   ]
  },
  {
   "cell_type": "code",
   "execution_count": null,
   "id": "b82d23d4-f478-475f-a2a8-a9a247ca3ab3",
   "metadata": {},
   "outputs": [],
   "source": []
  },
  {
   "cell_type": "code",
   "execution_count": null,
   "id": "c01047f1-5460-4d52-82d7-f9de22ea0d00",
   "metadata": {},
   "outputs": [],
   "source": []
  }
 ],
 "metadata": {
  "kernelspec": {
   "display_name": "Python 3 (ipykernel)",
   "language": "python",
   "name": "python3"
  },
  "language_info": {
   "codemirror_mode": {
    "name": "ipython",
    "version": 3
   },
   "file_extension": ".py",
   "mimetype": "text/x-python",
   "name": "python",
   "nbconvert_exporter": "python",
   "pygments_lexer": "ipython3",
   "version": "3.11.5"
  }
 },
 "nbformat": 4,
 "nbformat_minor": 5
}
