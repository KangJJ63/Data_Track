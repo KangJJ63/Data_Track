{
 "cells": [
  {
   "cell_type": "markdown",
   "id": "da193321",
   "metadata": {
    "slideshow": {
     "slide_type": "slide"
    }
   },
   "source": [
    "# 자료구조란\n",
    "\n",
    "- **여러 개의 값들을 모아서 관리**하는 데이터 타입.\n",
    "    - 한 개의 변수는 한 개의 값 밖에는 가지지 못한다. 그러나 하나의 변수로 여러 개의 값 관리해야 할 경우가 있다. \n",
    "    - 하나의 값이 여러개의 값들로 구성된 경우 \n",
    "        - 한명의 고객 정보의 경우 이름, 나이, 주소, 전화번호 등 여러개의 값이 모여서 하나의 값이 된다. \n",
    "        - 한 반의 학생들의 이름들은 여러개의 이름들로 구성된다.\n",
    "- 파이썬은 데이터를 모으는 방식에 따라 다음과 같이 4개의 타입을 제공한다.\n",
    "    - **List:** 순서가 있으며 중복된 값들을 모으는 것을 허용하고 구성하는 값들(원소)을 변경할 수 있다.\n",
    "    - **Tuple:** 순서가 있으며 중복된 값들을 모으는 것을 허용하는데 구성하는 값들을 변경할 수 없다.\n",
    "    - **Dictionary:** key-value 형태로 값들을 저장해 관리한다.\n",
    "    - **Set:** 중복을 허용하지 않고 값들의 순서가 없다.\n",
    "- **원소, 성분, 요소, element**\n",
    "    - 자료구조의 값들을 구성하는 개별 값들을 말한다.\n",
    "    - 딕셔너리의 원소는 item, entry 라고도 한다.\n",
    "    - len(자료구조) 함수\n",
    "        - 자료구조 내의 원소의 개수를 반환한다."
   ]
  },
  {
   "cell_type": "markdown",
   "id": "84431cfd",
   "metadata": {
    "slideshow": {
     "slide_type": "slide"
    }
   },
   "source": [
    "# List (리스트)\n",
    "\n",
    "- 값들을 순서대로 모아서 관리하는 자료구조. 원소(element)들을 순번을 이용해 식별한다.\n",
    "    - 각각의 원소가 어떤 값인지를 index(순번)을 가지고 식별하기 때문에 **순서가 있고 그 순서가 매우 중요하다.** 즉 같은 값에 대해 순서가 바뀌면 안된다.\n",
    "- 각각의 원소들은 index를 이용해 식별한다.\n",
    "    - index는 문자열과 마찮가지로 양수 index와 음수 index 두개가 각 값에 생긴다.\n",
    "    - 양수 index는 앞에서부터 음수 index는 뒤에서 부터 값을 식별할 때 사용하는 것이 편리하다.\n",
    "    - **index를 가지고 각 원소값의 의미를 식별할 수 있으면 List나 Tuple을 사용한다.**\n",
    "- 중복된 값들을 저장할 수 있다.\n",
    "- 각 원소들의 데이터 타입은 달라도 상관없다.\n",
    "    - 보통은 같은 타입의 데이터를 모은다.\n",
    "- 리스트를 구성하는 **원소들을 변경할 수 있다.** (추가, 삭제, 변경이 가능)\n",
    "    - 원소 변경 여부가 List와 Tuple의 차이이다.\n",
    "\n",
    "## List 생성 구문\n",
    "```python\n",
    "[값, 값, 값, ..]\n",
    "```"
   ]
  },
  {
   "cell_type": "code",
   "execution_count": 4,
   "id": "6eef6bd9",
   "metadata": {
    "tags": []
   },
   "outputs": [],
   "source": [
    "nm_list=[\"홍길동\",\"이순신\",\"유관순\",\"강감찬\"]"
   ]
  },
  {
   "cell_type": "code",
   "execution_count": 5,
   "id": "efc59691",
   "metadata": {
    "ExecuteTime": {
     "end_time": "2022-12-18T00:22:24.071490Z",
     "start_time": "2022-12-18T00:22:23.651455Z"
    },
    "slideshow": {
     "slide_type": "fragment"
    },
    "tags": []
   },
   "outputs": [
    {
     "data": {
      "text/plain": [
       "4"
      ]
     },
     "execution_count": 5,
     "metadata": {},
     "output_type": "execute_result"
    }
   ],
   "source": [
    "len(nm_list)"
   ]
  },
  {
   "cell_type": "markdown",
   "id": "08d634bf",
   "metadata": {
    "slideshow": {
     "slide_type": "subslide"
    }
   },
   "source": [
    "## Indexing과 Slicing을 이용한 원소(element) 조회 및 변경\n",
    "\n",
    "### Indexing\n",
    "- 하나의 원소를 조회하거나 변경할 때 사용\n",
    "- 리스트\\[index\\] \n",
    "    - index의 원소를 조회\n",
    "- 리스트\\[index\\] = 값\n",
    "    - index의 원소를 변경"
   ]
  },
  {
   "cell_type": "markdown",
   "id": "ab5a40cb",
   "metadata": {
    "slideshow": {
     "slide_type": "fragment"
    }
   },
   "source": [
    "### Slicing\n",
    "- 범위로 조회하거나 그 범위의 값들을 변경한다.\n",
    "- 기본구문: **리스트\\[ 시작 index : 종료 index : 간격\\]**\n",
    "    - 시작 index ~ (종료 index – 1)\n",
    "    - 간격을 지정하면 간격만큼 index를 증/감한다. (생략 시 1이 기본 간격)\n",
    "- **0번 index 부터 조회 할 경우 시작 index는 생략가능**\n",
    "    - 리스트 \\[ : 5\\] => 0 ~ 4 까지 조회\n",
    "- **마지막 index까지 (끝까지) 조회 할 경우 종료 index는 생략 가능**\n",
    "    - 리스트\\[2 : \\] => 2번 index 에서 끝까지\n",
    "- **명시적으로 간격을 줄 경우**\n",
    "    - 리스트\\[ : : 3 \\] => 0, 3, 6, 9.. index의 값 조회\n",
    "    - 리스트\\[1 : 9 : 2\\] => 1, 3, 5, 7 index의 값 조회\n",
    "- **시작 index > 종료 index, 간격을 음수로 하면 역으로 반환한다.(Reverse)**\n",
    "    - 리스트\\[5: 1: -1\\] => 5, 4, 3, 2 index의 값 조회\n",
    "    - 리스트\\[: : -1\\]  => 마지막 index ~ 0번 index 까지 의미. Reverse 한다.\n",
    "\n",
    "#### slicing을 이용한 값 변경\n",
    "- slicing 을 이용할 경우 slicing된 원소 개수와 동일한 개수의 값들을 대입한다.\n",
    "    - `리스트[1:5] = 10,20,30,40` : index 1, 2, 3, 4의 값을 각각 10, 20, 30, 40 으로 변경"
   ]
  },
  {
   "cell_type": "code",
   "execution_count": 6,
   "id": "a758ab6d",
   "metadata": {
    "tags": []
   },
   "outputs": [
    {
     "data": {
      "text/plain": [
       "['홍길동', '이순신', '유관순', '강감찬']"
      ]
     },
     "execution_count": 6,
     "metadata": {},
     "output_type": "execute_result"
    }
   ],
   "source": [
    "nm_list"
   ]
  },
  {
   "cell_type": "code",
   "execution_count": 8,
   "id": "bf4c7398-5c2e-4d90-a7ed-8f1e4c24e429",
   "metadata": {
    "tags": []
   },
   "outputs": [
    {
     "name": "stdout",
     "output_type": "stream",
     "text": [
      "['세종대왕', '이순신', '유관순', '강감찬']\n"
     ]
    }
   ],
   "source": [
    "nm_list[0] = \"세종대왕\"\n",
    "print(nm_list)"
   ]
  },
  {
   "cell_type": "code",
   "execution_count": 22,
   "id": "f6bf41ec-ca12-4178-b547-f0baf32f3b00",
   "metadata": {
    "tags": []
   },
   "outputs": [
    {
     "name": "stdout",
     "output_type": "stream",
     "text": [
      "[1, 2, 3, 4, 5]\n"
     ]
    }
   ],
   "source": [
    "numbers = [i for i in range(10)]\n",
    "print(numbers[1:6])"
   ]
  },
  {
   "cell_type": "code",
   "execution_count": 23,
   "id": "d17a8490-c4d9-4633-a7bd-c8252175d1f9",
   "metadata": {
    "tags": []
   },
   "outputs": [
    {
     "name": "stdout",
     "output_type": "stream",
     "text": [
      "[0, 3, 6, 9]\n"
     ]
    }
   ],
   "source": [
    "print(numbers[::3])"
   ]
  },
  {
   "cell_type": "code",
   "execution_count": 30,
   "id": "87ae6c4f-aec6-41e7-a203-dc7c1a5ef663",
   "metadata": {
    "tags": []
   },
   "outputs": [
    {
     "name": "stdout",
     "output_type": "stream",
     "text": [
      "[100, 200, 300, 3, 4, 5, 6, 7, 8, 9]\n",
      "[100, 200, 300]\n"
     ]
    }
   ],
   "source": [
    "numbers[:3] = 100,200,300\n",
    "print(numbers)\n",
    "\n",
    "print(numbers[:3])"
   ]
  },
  {
   "cell_type": "markdown",
   "id": "a4f9fe12",
   "metadata": {
    "slideshow": {
     "slide_type": "slide"
    }
   },
   "source": [
    "## List 연산자\n",
    "- **리스트 + 리스트**\n",
    "    - 두 리스트의 원소들을 합친 리스트를 반환한다.\n",
    "- **리스트 * 정수**\n",
    "    - 같은 리스트의 원소들을 정수번 합친 리스트를 반환한다.   \n",
    "- **in, not in 연산자**\n",
    "    - 값 in 리스트\n",
    "        - 리스트의 원소로 값이 **있으면** True, 없으면 False 반환\n",
    "    - 값 not in 리스트\n",
    "        - 리스트의 원소로 값이 **없으면** True, 있으면 False 반환  \n",
    "- **len(리스트)**\n",
    "    - 리스트 내의 원소수를 반환.        "
   ]
  },
  {
   "cell_type": "code",
   "execution_count": 41,
   "id": "f085e817",
   "metadata": {
    "ExecuteTime": {
     "end_time": "2022-12-17T14:17:03.293505Z",
     "start_time": "2022-12-17T14:17:03.285501Z"
    },
    "slideshow": {
     "slide_type": "fragment"
    },
    "tags": []
   },
   "outputs": [
    {
     "name": "stdout",
     "output_type": "stream",
     "text": [
      "[100, 200, 300, 3, 4, 5, 6, 7, 8, 9, 100, 200, 300, 3, 4, 5, 6, 7, 8, 9]\n",
      "[200, 400, 600, 6, 8, 10, 12, 14, 16, 18]\n",
      "False\n"
     ]
    }
   ],
   "source": [
    "print(numbers*2)\n",
    "print(list(map(lambda x : x*2,numbers)))\n",
    "print(\"홍길동\" in nm_list)"
   ]
  },
  {
   "cell_type": "markdown",
   "id": "f90af754",
   "metadata": {
    "slideshow": {
     "slide_type": "slide"
    }
   },
   "source": [
    "## 중첩 리스트 (Nested List)\n",
    "- List가 원소로 List를 가지는 것을 말한다.\n",
    "    - List를 포함한 모든 자료구조 타입들도 다 값이므로 다른 자료구조의 원소로 들어갈 수 있다.    "
   ]
  },
  {
   "cell_type": "code",
   "execution_count": 45,
   "id": "4f52b717",
   "metadata": {
    "tags": []
   },
   "outputs": [
    {
     "name": "stdout",
     "output_type": "stream",
     "text": [
      "[10, 20, 30, 40]\n",
      "[15, 60, 50, 43]\n",
      "[30, 25, 7, 11, 10, 20]\n"
     ]
    }
   ],
   "source": [
    "age1 = [10,20,30,40]\n",
    "age2 = [15,60,50,43]\n",
    "age3 = [30,25,7,11,10,20]\n",
    "age_grp = [age1,age2,age3]\n",
    "print(*age_grp,sep='\\n')"
   ]
  },
  {
   "cell_type": "code",
   "execution_count": 47,
   "id": "01bede57",
   "metadata": {
    "slideshow": {
     "slide_type": "fragment"
    },
    "tags": []
   },
   "outputs": [
    {
     "data": {
      "text/plain": [
       "20"
      ]
     },
     "execution_count": 47,
     "metadata": {},
     "output_type": "execute_result"
    }
   ],
   "source": [
    "a = age_grp[0]\n",
    "a[1]"
   ]
  },
  {
   "cell_type": "code",
   "execution_count": 48,
   "id": "2dfd6c46",
   "metadata": {
    "slideshow": {
     "slide_type": "fragment"
    },
    "tags": []
   },
   "outputs": [
    {
     "data": {
      "text/plain": [
       "20"
      ]
     },
     "execution_count": 48,
     "metadata": {},
     "output_type": "execute_result"
    }
   ],
   "source": [
    "age_grp[0][1]"
   ]
  },
  {
   "cell_type": "code",
   "execution_count": 49,
   "id": "e1504744-cfcf-45f3-932c-032bfd24633e",
   "metadata": {
    "tags": []
   },
   "outputs": [
    {
     "data": {
      "text/plain": [
       "50"
      ]
     },
     "execution_count": 49,
     "metadata": {},
     "output_type": "execute_result"
    }
   ],
   "source": [
    "age_grp[1][2]"
   ]
  },
  {
   "cell_type": "code",
   "execution_count": 50,
   "id": "b2a9feb1-32a7-4dcd-a28e-183838bac8b7",
   "metadata": {
    "tags": []
   },
   "outputs": [
    {
     "data": {
      "text/plain": [
       "10"
      ]
     },
     "execution_count": 50,
     "metadata": {},
     "output_type": "execute_result"
    }
   ],
   "source": [
    "age_grp[2][4]"
   ]
  },
  {
   "cell_type": "markdown",
   "id": "826b8780",
   "metadata": {
    "slideshow": {
     "slide_type": "slide"
    }
   },
   "source": [
    "## List 주요 메소드\n",
    "|메소드|설명|\n",
    "|:-|-|\n",
    "|append(value)|value를  추가한다.|\n",
    "|extend(List)|List의 원소들을 추가한다.|\n",
    "|sort(\\[reverse=False\\])|원소들을 오름차순 정렬한다. reverse=True로 하면 내림차순정렬 한다.|\n",
    "|insert(index, 삽입할값)|지정한 index에 '삽입할값'을 삽입한다.|\n",
    "|remove(삭제할값)|'삭제할값' 값과 같은 원소를 삭제한다.|\n",
    "|index(찾을값\\[, 시작index\\])|'찾을값'의 index를 반환한다.|\n",
    "|pop(\\[index\\])|index의 값을 반환하면서 삭제한다. index 생략하면 가장 마지막 값을 반환하며 삭제한다.|\n",
    "|count(값)|'값'이 리스트의 원소로 몇개 있는지 반환한다.|\n",
    "|clear()|리스트 안의 모든 원소들을 삭제한다.|\n",
    "\n"
   ]
  },
  {
   "cell_type": "code",
   "execution_count": 53,
   "id": "9a6299eb-9c1a-43a1-95b5-3fb9b80a47ba",
   "metadata": {
    "slideshow": {
     "slide_type": "fragment"
    },
    "tags": []
   },
   "outputs": [
    {
     "name": "stdout",
     "output_type": "stream",
     "text": [
      "세종대왕 이순신 유관순 강감찬 홍길동\n"
     ]
    }
   ],
   "source": [
    "nm_list.append(\"홍길동\")\n",
    "print(*nm_list)"
   ]
  },
  {
   "cell_type": "code",
   "execution_count": 54,
   "id": "c84839a9-14bb-44be-9ef0-2723c6b70829",
   "metadata": {
    "tags": []
   },
   "outputs": [
    {
     "data": {
      "text/plain": [
       "['세종대왕', '이순신', '유관순', '강감찬', '홍길동', '김영수', '박영희', '오철기']"
      ]
     },
     "execution_count": 54,
     "metadata": {},
     "output_type": "execute_result"
    }
   ],
   "source": [
    "nm_list2 = [\"김영수\",\"박영희\",\"오철기\"]\n",
    "nm_list+nm_list2"
   ]
  },
  {
   "cell_type": "code",
   "execution_count": 55,
   "id": "0f2f3227-3222-4f8e-a0df-524166f2693c",
   "metadata": {
    "tags": []
   },
   "outputs": [],
   "source": [
    "nm_list.extend(nm_list2)"
   ]
  },
  {
   "cell_type": "code",
   "execution_count": 56,
   "id": "89238916-34be-4ac1-bd2a-86814117f2a6",
   "metadata": {
    "tags": []
   },
   "outputs": [
    {
     "name": "stdout",
     "output_type": "stream",
     "text": [
      "['세종대왕', '이순신', '유관순', '강감찬', '홍길동', '김영수', '박영희', '오철기']\n"
     ]
    }
   ],
   "source": [
    "print(nm_list)"
   ]
  },
  {
   "cell_type": "code",
   "execution_count": 57,
   "id": "bad83db9-4a56-4f21-8fed-50e4c953bf56",
   "metadata": {
    "tags": []
   },
   "outputs": [
    {
     "name": "stdout",
     "output_type": "stream",
     "text": [
      "['강감찬', '김영수', '박영희', '세종대왕', '오철기', '유관순', '이순신', '홍길동']\n"
     ]
    }
   ],
   "source": [
    "# 정렬\n",
    "nm_list.sort()\n",
    "print(nm_list)"
   ]
  },
  {
   "cell_type": "code",
   "execution_count": 58,
   "id": "954fd39f-7dbd-4251-96a4-a5a0485a57c6",
   "metadata": {
    "tags": []
   },
   "outputs": [
    {
     "name": "stdout",
     "output_type": "stream",
     "text": [
      "['홍길동', '이순신', '유관순', '오철기', '세종대왕', '박영희', '김영수', '강감찬']\n"
     ]
    }
   ],
   "source": [
    "nm_list.sort(reverse=True)\n",
    "print(nm_list)"
   ]
  },
  {
   "cell_type": "code",
   "execution_count": 60,
   "id": "9333bcf3-f5ad-4420-9d9a-35a44161850c",
   "metadata": {
    "tags": []
   },
   "outputs": [
    {
     "data": {
      "text/plain": [
       "['세종대왕', '홍길동', '이순신', '유관순', '오철기', '박영희', '김영수', '강감찬']"
      ]
     },
     "execution_count": 60,
     "metadata": {},
     "output_type": "execute_result"
    }
   ],
   "source": [
    "sorted(nm_list,key = lambda x : len(x),reverse = True)"
   ]
  },
  {
   "cell_type": "code",
   "execution_count": null,
   "id": "2b77d100-3484-4b74-827d-e465c5f8e7f1",
   "metadata": {},
   "outputs": [],
   "source": [
    "# 값 삽입\n",
    "nm_list.insert(2,\"광개토대왕\")\n",
    "\n",
    "print(nm_list)"
   ]
  },
  {
   "cell_type": "code",
   "execution_count": 66,
   "id": "1c1de3fb-bb31-4e3f-942f-c6d92890e61e",
   "metadata": {
    "tags": []
   },
   "outputs": [
    {
     "name": "stdout",
     "output_type": "stream",
     "text": [
      "['홍길동', '이순신', '광개토대왕', '유관순', '세종대왕', '박영희', '김영수', '강감찬']\n"
     ]
    }
   ],
   "source": [
    "# 값 삭제\n",
    "nm_list.remove(\"오철기\")\n",
    "print(nm_list)"
   ]
  },
  {
   "cell_type": "code",
   "execution_count": 67,
   "id": "47ef51e8-5957-460a-acff-de7609849c80",
   "metadata": {
    "tags": []
   },
   "outputs": [
    {
     "name": "stdout",
     "output_type": "stream",
     "text": [
      "['홍길동', '광개토대왕', '유관순', '세종대왕', '박영희', '김영수', '강감찬']\n"
     ]
    }
   ],
   "source": [
    "del nm_list[1]\n",
    "print(nm_list)"
   ]
  },
  {
   "cell_type": "code",
   "execution_count": 68,
   "id": "11ccf32c-2a7c-479f-856e-776d074289fb",
   "metadata": {
    "tags": []
   },
   "outputs": [
    {
     "name": "stdout",
     "output_type": "stream",
     "text": [
      "강감찬\n",
      "['홍길동', '광개토대왕', '유관순', '세종대왕', '박영희', '김영수']\n"
     ]
    }
   ],
   "source": [
    "x = nm_list.pop()\n",
    "print(x,nm_list,sep = \"\\n\")"
   ]
  },
  {
   "cell_type": "code",
   "execution_count": 69,
   "id": "eb367d8c-0709-46ad-9cd1-9d69b25a373b",
   "metadata": {
    "tags": []
   },
   "outputs": [
    {
     "name": "stdout",
     "output_type": "stream",
     "text": [
      "['홍길동', '광개토대왕', '세종대왕', '박영희', '김영수']\n"
     ]
    }
   ],
   "source": [
    "nm_list.pop(2)\n",
    "print(nm_list)"
   ]
  },
  {
   "cell_type": "markdown",
   "id": "5b28f033",
   "metadata": {
    "slideshow": {
     "slide_type": "slide"
    }
   },
   "source": [
    "# Tuple (튜플)\n",
    "- List와 같이 순서대로 원소들을 관리한다. 단 저장된 원소를 변경할 수 없다.\n",
    "- Tuple 은 각 위치(Index) 마다 정해진 의미가 있고 그 값이 한번 설정되면 바뀌지 않는 경우에 사용한다. \n",
    "    - Tuple은 값의 변경되지 않으므로 안전하다.\n",
    "    \n",
    "## Tuple 생성\n",
    "- `(value, value, value, ...)`\n",
    "- 소괄호를 생략할 수 있다.\n",
    "- 원소가 하나인 Tuple 표현식\n",
    "    - `(value,)` 또는 `value,` \n",
    "        - 값 뒤에 `,` 를 붙여준다. `,`를 붙이지 않으면 ( )가 연산자 우선순위 괄호가 된다. "
   ]
  },
  {
   "cell_type": "code",
   "execution_count": 72,
   "id": "f7f96391",
   "metadata": {
    "tags": []
   },
   "outputs": [
    {
     "name": "stdout",
     "output_type": "stream",
     "text": [
      "<class 'tuple'>\n"
     ]
    }
   ],
   "source": [
    "t1 = 1,2,3 # 소괄호 생략가능\n",
    "print(type(t1))"
   ]
  },
  {
   "cell_type": "code",
   "execution_count": 75,
   "id": "83ff6f75-aea1-48ca-b984-d1b7eb2d9747",
   "metadata": {
    "tags": []
   },
   "outputs": [
    {
     "name": "stdout",
     "output_type": "stream",
     "text": [
      "(10, 'a', False)\n"
     ]
    }
   ],
   "source": [
    "t3 = 10,\"a\",False\n",
    "print(t3)"
   ]
  },
  {
   "cell_type": "code",
   "execution_count": 76,
   "id": "f76cf6a8-399c-4086-bcf6-f8ec4b5ebb7f",
   "metadata": {
    "tags": []
   },
   "outputs": [
    {
     "data": {
      "text/plain": [
       "[10]"
      ]
     },
     "execution_count": 76,
     "metadata": {},
     "output_type": "execute_result"
    }
   ],
   "source": [
    "[10]"
   ]
  },
  {
   "cell_type": "code",
   "execution_count": 79,
   "id": "905b7f08-3060-4ebe-ae22-5cd77736a352",
   "metadata": {
    "tags": []
   },
   "outputs": [
    {
     "name": "stdout",
     "output_type": "stream",
     "text": [
      "<class 'tuple'>\n"
     ]
    }
   ],
   "source": [
    "print(type((10,)))"
   ]
  },
  {
   "cell_type": "markdown",
   "id": "16954356",
   "metadata": {
    "slideshow": {
     "slide_type": "slide"
    }
   },
   "source": [
    "## Indexing과 Slicing을 이용한 원소(element) 조회\n",
    "- 리스트와 동일하다.\n",
    "- 단 튜플은 조회만 가능하고 원소를 변경할 수 없다."
   ]
  },
  {
   "cell_type": "code",
   "execution_count": 84,
   "id": "fa92bc45",
   "metadata": {
    "tags": []
   },
   "outputs": [
    {
     "name": "stdout",
     "output_type": "stream",
     "text": [
      "(10, 20, 30, 40, 50)\n"
     ]
    }
   ],
   "source": [
    "t1 = tuple(i for i in range(10,51,10))\n",
    "print(t1)"
   ]
  },
  {
   "cell_type": "code",
   "execution_count": 85,
   "id": "6c5b9b2c",
   "metadata": {
    "slideshow": {
     "slide_type": "fragment"
    },
    "tags": []
   },
   "outputs": [
    {
     "data": {
      "text/plain": [
       "10"
      ]
     },
     "execution_count": 85,
     "metadata": {},
     "output_type": "execute_result"
    }
   ],
   "source": [
    "t1[0]"
   ]
  },
  {
   "cell_type": "code",
   "execution_count": 86,
   "id": "a227a915-044e-4272-a9f7-691d503529a4",
   "metadata": {
    "tags": []
   },
   "outputs": [
    {
     "ename": "TypeError",
     "evalue": "'tuple' object does not support item assignment",
     "output_type": "error",
     "traceback": [
      "\u001b[1;31m---------------------------------------------------------------------------\u001b[0m",
      "\u001b[1;31mTypeError\u001b[0m                                 Traceback (most recent call last)",
      "Cell \u001b[1;32mIn[86], line 1\u001b[0m\n\u001b[1;32m----> 1\u001b[0m t1[\u001b[38;5;241m0\u001b[39m] \u001b[38;5;241m=\u001b[39m \u001b[38;5;241m90\u001b[39m\n",
      "\u001b[1;31mTypeError\u001b[0m: 'tuple' object does not support item assignment"
     ]
    }
   ],
   "source": [
    "t1[0] = 90"
   ]
  },
  {
   "cell_type": "code",
   "execution_count": 87,
   "id": "85cbe7bf-1c2b-43ff-af71-cdce3b689e26",
   "metadata": {
    "tags": []
   },
   "outputs": [
    {
     "data": {
      "text/plain": [
       "(10, 20, 30)"
      ]
     },
     "execution_count": 87,
     "metadata": {},
     "output_type": "execute_result"
    }
   ],
   "source": [
    "t1[:3]"
   ]
  },
  {
   "cell_type": "code",
   "execution_count": 92,
   "id": "bb3328ae-2fa7-4d34-8655-bd60e936d247",
   "metadata": {
    "tags": []
   },
   "outputs": [],
   "source": [
    "t2 = tuple(map(lambda x : x * 10,t1))"
   ]
  },
  {
   "cell_type": "code",
   "execution_count": 94,
   "id": "e08ecc10-e5e3-46fb-ba2a-36973bdff881",
   "metadata": {
    "tags": []
   },
   "outputs": [
    {
     "name": "stdout",
     "output_type": "stream",
     "text": [
      "(10, 20, 30, 40, 50, 100, 200, 300, 400, 500)\n"
     ]
    }
   ],
   "source": [
    "t3 = t1 + t2\n",
    "print(t3)"
   ]
  },
  {
   "cell_type": "code",
   "execution_count": 96,
   "id": "d860d1d2-ebcd-4ccf-a09a-0a7798669eb1",
   "metadata": {
    "tags": []
   },
   "outputs": [
    {
     "data": {
      "text/plain": [
       "(10, 20, 30, 40, 50, 10, 20, 30, 40, 50, 10, 20, 30, 40, 50)"
      ]
     },
     "execution_count": 96,
     "metadata": {},
     "output_type": "execute_result"
    }
   ],
   "source": [
    "t1 * 3"
   ]
  },
  {
   "cell_type": "code",
   "execution_count": 97,
   "id": "2205a7d8-49b6-454b-a0b1-bcc548ab1c38",
   "metadata": {
    "tags": []
   },
   "outputs": [
    {
     "data": {
      "text/plain": [
       "True"
      ]
     },
     "execution_count": 97,
     "metadata": {},
     "output_type": "execute_result"
    }
   ],
   "source": [
    "10 in t1"
   ]
  },
  {
   "cell_type": "code",
   "execution_count": 98,
   "id": "b23ef1f6-c947-49d6-8d4a-4ec8225cecda",
   "metadata": {
    "tags": []
   },
   "outputs": [
    {
     "data": {
      "text/plain": [
       "False"
      ]
     },
     "execution_count": 98,
     "metadata": {},
     "output_type": "execute_result"
    }
   ],
   "source": [
    "1000 in t2"
   ]
  },
  {
   "cell_type": "markdown",
   "id": "135101f3",
   "metadata": {
    "slideshow": {
     "slide_type": "slide"
    }
   },
   "source": [
    "## Tuple 연산자\n",
    "- **tuple + tuple**\n",
    "    - 두 tuple의 원소들을 합친 tuple을 반환한다.\n",
    "- **tuple * 정수**\n",
    "    - 같은 tuple의 원소들을 정수번 합친 tuple를 반환한다.  \n",
    "- **in, not in 연산자**\n",
    "    - 값 in tuple\n",
    "        - tuple의 원소로 값이 **있으면** True, 없으면 False 반환\n",
    "    - 값 not in tuple\n",
    "        - tuple의 원소로 값이 **없으면** True, 있으면 False 반환    \n",
    "- **len(tuple)**\n",
    "    - tuple의 원소 개수 반환        "
   ]
  },
  {
   "cell_type": "code",
   "execution_count": null,
   "id": "c39c878c",
   "metadata": {},
   "outputs": [],
   "source": []
  },
  {
   "cell_type": "code",
   "execution_count": null,
   "id": "5903e00f",
   "metadata": {
    "slideshow": {
     "slide_type": "fragment"
    }
   },
   "outputs": [],
   "source": []
  },
  {
   "cell_type": "markdown",
   "id": "89803fdd",
   "metadata": {
    "slideshow": {
     "slide_type": "subslide"
    }
   },
   "source": [
    "## Tuple의 주요 메소드\n",
    "|메소드|설명|\n",
    "|:-|-|\n",
    "|index(찾을값 \\[, 시작index\\])|'찾을값'이 몇번 index인지 반환한다.|\n",
    "|count(값)|원소로 '값'이 몇개 있는지 반환한다.|"
   ]
  },
  {
   "cell_type": "code",
   "execution_count": 100,
   "id": "e8e4d78e",
   "metadata": {
    "tags": []
   },
   "outputs": [
    {
     "data": {
      "text/plain": [
       "0"
      ]
     },
     "execution_count": 100,
     "metadata": {},
     "output_type": "execute_result"
    }
   ],
   "source": [
    "t1.index(10)"
   ]
  },
  {
   "cell_type": "code",
   "execution_count": 101,
   "id": "93a527af",
   "metadata": {
    "slideshow": {
     "slide_type": "fragment"
    },
    "tags": []
   },
   "outputs": [
    {
     "data": {
      "text/plain": [
       "1"
      ]
     },
     "execution_count": 101,
     "metadata": {},
     "output_type": "execute_result"
    }
   ],
   "source": [
    "t1.count(10)"
   ]
  },
  {
   "cell_type": "code",
   "execution_count": 103,
   "id": "58ff3965-e665-4651-9aa8-0632219bf003",
   "metadata": {
    "tags": []
   },
   "outputs": [
    {
     "data": {
      "text/plain": [
       "1"
      ]
     },
     "execution_count": 103,
     "metadata": {},
     "output_type": "execute_result"
    }
   ],
   "source": [
    "t1.index(20,1)"
   ]
  },
  {
   "cell_type": "markdown",
   "id": "e6c196f5",
   "metadata": {
    "slideshow": {
     "slide_type": "slide"
    }
   },
   "source": [
    "# Dictionary\n",
    "- 값을 키(key)-값(value) 쌍으로 묶어서 저장하는 자료구조이다.\n",
    "    - 리스트나 튜플의 index의 역할을 하는 key를 직접 지정한다.\n",
    "    - 서로 의미가 다른 값들을 하나로 묶을 때 그 값의 의미를 key로 가질 수 있는 dictionary를 사용한다.\n",
    "        - cf) 값의 의미가 같을 경우 List나 Tuple을 사용한다.\n",
    "    - key-value 쌍으로 묶은 데이터 한개를 **item 또는 entry**라고 한다.\n",
    "    - key는 중복을 허용하지 않고 value는 중복을 허용한다.\n",
    "    \n",
    "## Dictionary 생성\n",
    "- 구문\n",
    "    1. `{ 키 : 값, 키 : 값, 키 : 값 }`\n",
    "    2. dict(key=value, key=value) 함수 이용\n",
    "    - 키(key)는 불변(Immutable)의 값들만 사용 가능하다. (숫자, 문자열, 튜플) 일반적으로 문자열을 사용한다.\n",
    "    - dict() 함수를 사용할 경우 key는 변수로 정의한다"
   ]
  },
  {
   "cell_type": "code",
   "execution_count": 106,
   "id": "18611386",
   "metadata": {
    "tags": []
   },
   "outputs": [
    {
     "name": "stdout",
     "output_type": "stream",
     "text": [
      "[10, 11, 12, 13, 14]\n",
      "{0: 10, 1: 11, 2: 12, 3: 13, 4: 14}\n"
     ]
    }
   ],
   "source": [
    "# 리스트에서 딕셔너리로 변경\n",
    "li = [i for i in range(10,15)]\n",
    "print(li)\n",
    "\n",
    "li_dict = {idx:val for idx,val in enumerate(li)}\n",
    "print(li_dict)"
   ]
  },
  {
   "cell_type": "code",
   "execution_count": 110,
   "id": "204bae3f-7e74-4d92-a6bb-1947300c5fc2",
   "metadata": {
    "tags": []
   },
   "outputs": [
    {
     "name": "stdout",
     "output_type": "stream",
     "text": [
      "dict_keys(['이름', '나이', '주소'])\n",
      "dict_values(['홍길동', 30, '서울시 서초구'])\n"
     ]
    }
   ],
   "source": [
    "cus_info = {\"이름\":\"홍길동\"\n",
    "           ,\"나이\":30\n",
    "           ,\"주소\":\"서울시 서초구\"}\n",
    "print(cus_info.keys())\n",
    "print(cus_info.values())"
   ]
  },
  {
   "cell_type": "code",
   "execution_count": 113,
   "id": "3e8b942c-91fe-46f4-83d0-eb828f849709",
   "metadata": {
    "tags": []
   },
   "outputs": [
    {
     "data": {
      "text/plain": [
       "dict"
      ]
     },
     "execution_count": 113,
     "metadata": {},
     "output_type": "execute_result"
    }
   ],
   "source": [
    "type(cus_info)"
   ]
  },
  {
   "cell_type": "code",
   "execution_count": 115,
   "id": "2d7a2bca-9848-45b1-98b0-1f6a07121fb1",
   "metadata": {
    "tags": []
   },
   "outputs": [
    {
     "name": "stdout",
     "output_type": "stream",
     "text": [
      "{'name': 'kang', 'age': 15, 'mar_yn': False}\n"
     ]
    }
   ],
   "source": [
    "cus_info2 = dict(name = \"kang\"\n",
    "                ,age = 15\n",
    "                ,mar_yn = False)\n",
    "print(cus_info2)"
   ]
  },
  {
   "cell_type": "code",
   "execution_count": 117,
   "id": "42e9f440-6399-4ae0-a77a-683dc3a37cb9",
   "metadata": {
    "tags": []
   },
   "outputs": [
    {
     "data": {
      "text/plain": [
       "(30, '서울시 서초구')"
      ]
     },
     "execution_count": 117,
     "metadata": {},
     "output_type": "execute_result"
    }
   ],
   "source": [
    "cus_info['나이'],cus_info['주소']"
   ]
  },
  {
   "cell_type": "code",
   "execution_count": 118,
   "id": "eb63550b-f265-48f2-8b52-e41d1336ad83",
   "metadata": {
    "tags": []
   },
   "outputs": [
    {
     "name": "stdout",
     "output_type": "stream",
     "text": [
      "{'이름': '홍길동', '나이': 30, '주소': '서울시 서초구', '혈액형': 'O'}\n"
     ]
    }
   ],
   "source": [
    "cus_info['혈액형'] = 'O'\n",
    "print(cus_info)"
   ]
  },
  {
   "cell_type": "code",
   "execution_count": null,
   "id": "ed54ce8d-dd77-45a3-ab14-c3b509740155",
   "metadata": {},
   "outputs": [],
   "source": []
  },
  {
   "cell_type": "code",
   "execution_count": null,
   "id": "166c5a94-b715-4613-a6a8-97868231d774",
   "metadata": {},
   "outputs": [],
   "source": []
  },
  {
   "cell_type": "markdown",
   "id": "f8c87bd3",
   "metadata": {
    "slideshow": {
     "slide_type": "subslide"
    }
   },
   "source": [
    "## Dictionary 원소 조회 및 변경\n",
    "- 조회: index에 key값을 식별자로 지정한다.\n",
    "    - dictionary\\[ key \\]\n",
    "    - 없는 키로 조회 시 KeyError 발생\n",
    "- 변경\n",
    "    - dictionary\\[ key \\] = 값\n",
    "    - 있는 key값에 값을 대입하면 변경이고 없는 key 일 경우는 새로운 item을 추가하는 것이다."
   ]
  },
  {
   "cell_type": "code",
   "execution_count": 115,
   "id": "db04e2ab-0bec-40ee-8090-814ae0982422",
   "metadata": {
    "tags": []
   },
   "outputs": [
    {
     "name": "stdout",
     "output_type": "stream",
     "text": [
      "{'name': 'kang', 'age': 15, 'mar_yn': False}\n"
     ]
    }
   ],
   "source": [
    "cus_info2 = dict(name = \"kang\"\n",
    "                ,age = 15\n",
    "                ,mar_yn = False)\n",
    "print(cus_info2)"
   ]
  },
  {
   "cell_type": "code",
   "execution_count": 117,
   "id": "15c2cb75-a16d-48f0-a2a5-dc48bd82e2c0",
   "metadata": {
    "tags": []
   },
   "outputs": [
    {
     "data": {
      "text/plain": [
       "(30, '서울시 서초구')"
      ]
     },
     "execution_count": 117,
     "metadata": {},
     "output_type": "execute_result"
    }
   ],
   "source": [
    "cus_info['나이'],cus_info['주소']"
   ]
  },
  {
   "cell_type": "code",
   "execution_count": 118,
   "id": "d350125b-5210-420a-ae49-a4fdbadd1133",
   "metadata": {
    "tags": []
   },
   "outputs": [
    {
     "name": "stdout",
     "output_type": "stream",
     "text": [
      "{'이름': '홍길동', '나이': 30, '주소': '서울시 서초구', '혈액형': 'O'}\n"
     ]
    }
   ],
   "source": [
    "cus_info['혈액형'] = 'O'\n",
    "print(cus_info)"
   ]
  },
  {
   "cell_type": "code",
   "execution_count": null,
   "id": "459db630",
   "metadata": {
    "slideshow": {
     "slide_type": "fragment"
    }
   },
   "outputs": [],
   "source": []
  },
  {
   "cell_type": "markdown",
   "id": "d5aade1e",
   "metadata": {
    "slideshow": {
     "slide_type": "slide"
    }
   },
   "source": [
    "## Dictionary 연산자\n",
    "\n",
    "- **in, not in 연산자**\n",
    "    - 값 in dictionary\n",
    "        - dictionary의 **Key**로 값이 **있으면** True, 없으면 False 반환\n",
    "    - 값 not in dictionary\n",
    "        - dictionary의 **Key**로 값이 **없으면** True, 있으면 False 반환    \n",
    "- **len(dictionary)**\n",
    "    - dictionary의 **Item의 개수** 반환        "
   ]
  },
  {
   "cell_type": "code",
   "execution_count": 119,
   "id": "71449891",
   "metadata": {
    "tags": []
   },
   "outputs": [
    {
     "name": "stdout",
     "output_type": "stream",
     "text": [
      "dict_keys(['이름', '나이', '주소', '혈액형'])\n",
      "dict_values(['홍길동', 30, '서울시 서초구', 'O'])\n",
      "dict_items([('이름', '홍길동'), ('나이', 30), ('주소', '서울시 서초구'), ('혈액형', 'O')])\n"
     ]
    }
   ],
   "source": [
    "# key 조회\n",
    "print(cus_info.keys())\n",
    "# value 조회\n",
    "print(cus_info.values())\n",
    "# key-value 조회\n",
    "print(cus_info.items())"
   ]
  },
  {
   "cell_type": "code",
   "execution_count": 121,
   "id": "d53e96bb-6143-454b-a465-d7f1d52a93b0",
   "metadata": {
    "tags": []
   },
   "outputs": [
    {
     "data": {
      "text/plain": [
       "True"
      ]
     },
     "execution_count": 121,
     "metadata": {},
     "output_type": "execute_result"
    }
   ],
   "source": [
    "'이름' in cus_info"
   ]
  },
  {
   "cell_type": "code",
   "execution_count": 131,
   "id": "4a7c9061",
   "metadata": {
    "slideshow": {
     "slide_type": "fragment"
    },
    "tags": []
   },
   "outputs": [
    {
     "name": "stdout",
     "output_type": "stream",
     "text": [
      "{'이름': '홍길동', '나이': 30, '주소': '서울시 서초구', '혈액형': 'O'}\n",
      "{'이름': '홍길동', '나이': 30, '주소': '서울시 서초구'}\n"
     ]
    }
   ],
   "source": [
    "print(cus_info)\n",
    "del cus_info['혈액형']\n",
    "print(cus_info)"
   ]
  },
  {
   "cell_type": "code",
   "execution_count": 132,
   "id": "5753e146-b9a5-443b-aa92-db0aa8dae4ed",
   "metadata": {
    "tags": []
   },
   "outputs": [
    {
     "name": "stdout",
     "output_type": "stream",
     "text": [
      "30 {'이름': '홍길동', '주소': '서울시 서초구'}\n"
     ]
    }
   ],
   "source": [
    "print(cus_info.pop('나이'),cus_info)"
   ]
  },
  {
   "cell_type": "code",
   "execution_count": 135,
   "id": "e9cc8493-8e9d-41c0-98a9-c2ca6b87de9c",
   "metadata": {
    "tags": []
   },
   "outputs": [
    {
     "name": "stdout",
     "output_type": "stream",
     "text": [
      "{}\n"
     ]
    }
   ],
   "source": [
    "cus_info.clear()\n",
    "print(cus_info)"
   ]
  },
  {
   "cell_type": "markdown",
   "id": "9f620ec1",
   "metadata": {
    "slideshow": {
     "slide_type": "slide"
    }
   },
   "source": [
    "## Dictionary 주요 메소드\n",
    "\n",
    "|메소드|설명|\n",
    "|:-|-|\n",
    "|get(key\\[, 기본값\\])|key의 item의 값을 반환한다. 단 key가 없을 경우 None또는 기본값을 반환한다.|\n",
    "|pop(key)|key의 item의 값을 반환하면서 dictionary에서 삭제한다. 없는 key일 경우 KeyError발생|\n",
    "|clear()|dictionary의 모든 item들을 삭제한다.|\n",
    "|del dict\\[key\\]|key의 item을 제거한다.|\n",
    "|items()|item의 key, value를 튜플로 묶어 모아 반환한다.|\n",
    "|keys()|key값들만 모아 반환한다.|\n",
    "|values()|value값들만 모아 반환한다.|"
   ]
  },
  {
   "cell_type": "code",
   "execution_count": 122,
   "id": "55f208b6",
   "metadata": {
    "tags": []
   },
   "outputs": [
    {
     "ename": "KeyError",
     "evalue": "'몸무게'",
     "output_type": "error",
     "traceback": [
      "\u001b[1;31m---------------------------------------------------------------------------\u001b[0m",
      "\u001b[1;31mKeyError\u001b[0m                                  Traceback (most recent call last)",
      "Cell \u001b[1;32mIn[122], line 1\u001b[0m\n\u001b[1;32m----> 1\u001b[0m cus_info[\u001b[38;5;124m\"\u001b[39m\u001b[38;5;124m몸무게\u001b[39m\u001b[38;5;124m\"\u001b[39m]\n",
      "\u001b[1;31mKeyError\u001b[0m: '몸무게'"
     ]
    }
   ],
   "source": [
    "cus_info[\"몸무게\"]"
   ]
  },
  {
   "cell_type": "code",
   "execution_count": 127,
   "id": "350e7ad5",
   "metadata": {
    "slideshow": {
     "slide_type": "fragment"
    },
    "tags": []
   },
   "outputs": [
    {
     "name": "stdout",
     "output_type": "stream",
     "text": [
      "o\n"
     ]
    }
   ],
   "source": [
    "type(cus_info.get('몸무게'))\n",
    "print('o'if cus_info.get('몸무게') is None else 'x')"
   ]
  },
  {
   "cell_type": "code",
   "execution_count": 128,
   "id": "694fb5d9-76de-41c0-9373-57164b77e559",
   "metadata": {
    "tags": []
   },
   "outputs": [
    {
     "data": {
      "text/plain": [
       "0"
      ]
     },
     "execution_count": 128,
     "metadata": {},
     "output_type": "execute_result"
    }
   ],
   "source": [
    "cus_info.get('몸무게',0) # default value 지정"
   ]
  },
  {
   "cell_type": "code",
   "execution_count": 125,
   "id": "9598a229-9afa-4c4d-8090-52018dc06120",
   "metadata": {
    "tags": []
   },
   "outputs": [
    {
     "data": {
      "text/plain": [
       "'홍길동'"
      ]
     },
     "execution_count": 125,
     "metadata": {},
     "output_type": "execute_result"
    }
   ],
   "source": [
    "cus_info.get('이름')"
   ]
  },
  {
   "cell_type": "code",
   "execution_count": 130,
   "id": "a101b25f-4b53-4d87-83f7-d177292ef6d6",
   "metadata": {
    "tags": []
   },
   "outputs": [
    {
     "data": {
      "text/plain": [
       "[('이름', '홍길동'), ('나이', 30), ('주소', '서울시 서초구'), ('혈액형', 'O')]"
      ]
     },
     "execution_count": 130,
     "metadata": {},
     "output_type": "execute_result"
    }
   ],
   "source": [
    "type(cus_info.items())\n",
    "list(cus_info.items())"
   ]
  },
  {
   "cell_type": "code",
   "execution_count": null,
   "id": "6315d84c-7126-406d-9409-3c427da9bb75",
   "metadata": {},
   "outputs": [],
   "source": []
  },
  {
   "cell_type": "markdown",
   "id": "d97869af",
   "metadata": {
    "slideshow": {
     "slide_type": "slide"
    }
   },
   "source": [
    "# Set \n",
    "\n",
    "- Set은 중복되는 값을 허용하지 않고 순서를 신경 쓰지 않는다.\n",
    "    - 원소를 식별할 수 있는 식별자가 없기 때문에 Set은 indexing과 slicing을 지원하지 않는다\n",
    "\n",
    "## Set 생성\n",
    "- 구문\n",
    "    - {값, 값, 값 }\n",
    "\n",
    "> - 빈 Dictionary 만들기\n",
    ">    - info = {}\n",
    ">    - 중괄호만 사용하면 빈 set이 아니라 빈 dictionary를 생성하는 것임.\n"
   ]
  },
  {
   "cell_type": "code",
   "execution_count": 136,
   "id": "304f16ea",
   "metadata": {
    "tags": []
   },
   "outputs": [
    {
     "name": "stdout",
     "output_type": "stream",
     "text": [
      "<class 'dict'>\n",
      "<class 'set'>\n"
     ]
    }
   ],
   "source": [
    "t = {}\n",
    "print(type(t))\n",
    "x = set()\n",
    "print(type(x))"
   ]
  },
  {
   "cell_type": "code",
   "execution_count": 139,
   "id": "5c88480a",
   "metadata": {
    "slideshow": {
     "slide_type": "fragment"
    },
    "tags": []
   },
   "outputs": [
    {
     "name": "stdout",
     "output_type": "stream",
     "text": [
      "{0, 1, 2, 3, 4, 5, 6, 7, 8, 9}\n"
     ]
    }
   ],
   "source": [
    "s2 = {i for i in range(10) for _ in range(2) }\n",
    "print(s2)"
   ]
  },
  {
   "cell_type": "code",
   "execution_count": 140,
   "id": "8519c034-f184-4eab-bcb0-f72c66d402f4",
   "metadata": {
    "tags": []
   },
   "outputs": [
    {
     "ename": "TypeError",
     "evalue": "'set' object is not subscriptable",
     "output_type": "error",
     "traceback": [
      "\u001b[1;31m---------------------------------------------------------------------------\u001b[0m",
      "\u001b[1;31mTypeError\u001b[0m                                 Traceback (most recent call last)",
      "Cell \u001b[1;32mIn[140], line 1\u001b[0m\n\u001b[1;32m----> 1\u001b[0m s2[\u001b[38;5;241m0\u001b[39m]\n",
      "\u001b[1;31mTypeError\u001b[0m: 'set' object is not subscriptable"
     ]
    }
   ],
   "source": [
    "s2[0] # 개별 원소 조회 X"
   ]
  },
  {
   "cell_type": "markdown",
   "id": "79cf0f20",
   "metadata": {
    "slideshow": {
     "slide_type": "slide"
    }
   },
   "source": [
    "## Set 연산자\n",
    "\n",
    "- **in, not in 연산자**\n",
    "    - 값 in Set\n",
    "        - Set의 원소로 값이 **있으면** True, 없으면 False 반환\n",
    "    - 값 not in Set\n",
    "        - Set의 원소로 값이 **없으면** True, 있으면 False 반환    \n",
    "- **len(Set)**\n",
    "    - Set의 **원소의 개수** 반환     \n",
    "- **[집합연산자](#Set의-집합연산-연산자-및-메소드)**"
   ]
  },
  {
   "cell_type": "code",
   "execution_count": null,
   "id": "80be18ad",
   "metadata": {
    "slideshow": {
     "slide_type": "fragment"
    }
   },
   "outputs": [],
   "source": []
  },
  {
   "cell_type": "markdown",
   "id": "080c2a17",
   "metadata": {
    "slideshow": {
     "slide_type": "slide"
    }
   },
   "source": [
    "## Set의 주요 메소드\n",
    "\n",
    "|메소드|설명|\n",
    "|-|-|\n",
    "|add(값)|집합에 값 추가|\n",
    "|update(자료구조)|자료구조내의 원소들을 모두 집합에 추가|\n",
    "|pop()|원소를 반환하고 Set에서 삭제한다.|\n",
    "|remove(값)|값을 찾아서 Set에서 삭제한다.|"
   ]
  },
  {
   "cell_type": "code",
   "execution_count": 142,
   "id": "6ec0eee0",
   "metadata": {
    "tags": []
   },
   "outputs": [
    {
     "name": "stdout",
     "output_type": "stream",
     "text": [
      "{1, 2, 3, 4}\n"
     ]
    }
   ],
   "source": [
    "s1 = {1,2,3}\n",
    "s1.add(4)\n",
    "print(s1)"
   ]
  },
  {
   "cell_type": "code",
   "execution_count": 143,
   "id": "b12f08b0",
   "metadata": {
    "slideshow": {
     "slide_type": "fragment"
    },
    "tags": []
   },
   "outputs": [
    {
     "name": "stdout",
     "output_type": "stream",
     "text": [
      "{1, 2, 3, 4}\n"
     ]
    }
   ],
   "source": [
    "s1.add(3)\n",
    "print(s1)"
   ]
  },
  {
   "cell_type": "code",
   "execution_count": 147,
   "id": "cb4d974e-c99c-4463-ac28-4078fbe380c6",
   "metadata": {
    "tags": []
   },
   "outputs": [
    {
     "name": "stdout",
     "output_type": "stream",
     "text": [
      "{1, 2, 3, 4, 10, 50, 30}\n"
     ]
    }
   ],
   "source": [
    "li = [1,10,50,30]\n",
    "s1.update(li)\n",
    "print(s1)"
   ]
  },
  {
   "cell_type": "code",
   "execution_count": 148,
   "id": "1af3cb78-692e-47d7-90b3-f6dfce1150a9",
   "metadata": {
    "tags": []
   },
   "outputs": [
    {
     "name": "stdout",
     "output_type": "stream",
     "text": [
      "{1, 2, 3, 4, 50, 30}\n"
     ]
    }
   ],
   "source": [
    "s1.remove(10)\n",
    "\n",
    "print(s1)"
   ]
  },
  {
   "cell_type": "code",
   "execution_count": 149,
   "id": "eeb2d08b-8e12-4e4c-9d74-e665d0c466d5",
   "metadata": {
    "tags": []
   },
   "outputs": [
    {
     "name": "stdout",
     "output_type": "stream",
     "text": [
      "{1, 2, 3, 4, 50, 30}\n",
      "1 / {2, 3, 4, 50, 30}\n"
     ]
    }
   ],
   "source": [
    "print(s1)\n",
    "print(s1.pop(),s1,sep=\" / \")\n"
   ]
  },
  {
   "cell_type": "markdown",
   "id": "33d115cd",
   "metadata": {
    "slideshow": {
     "slide_type": "subslide"
    }
   },
   "source": [
    "## Set의 집합연산 연산자 및 메소드\n",
    "\n",
    "- 합집합\n",
    "    - 집합A | 집합B\n",
    "    - 집합A.union(집합B)\n",
    "- 교집합\n",
    "    - 집합A & 집합B\n",
    "    - 집합A.intersection(집합B)\n",
    "- 차집합\n",
    "    - 집합A - 집합B\n",
    "    - 집합A.difference(집합B)"
   ]
  },
  {
   "cell_type": "code",
   "execution_count": 156,
   "id": "1620ca57-3166-4000-a0b6-8c54d9fbe777",
   "metadata": {
    "tags": []
   },
   "outputs": [
    {
     "data": {
      "text/plain": [
       "{1, 2, 3, 4, 5, 6}"
      ]
     },
     "execution_count": 156,
     "metadata": {},
     "output_type": "execute_result"
    }
   ],
   "source": [
    "s1 = {1,2,3,4}\n",
    "s2 = {3,4,5,6}\n",
    "\n",
    "s1 | s2"
   ]
  },
  {
   "cell_type": "code",
   "execution_count": 150,
   "id": "213728e4-c586-49bb-9690-8d308a257ee0",
   "metadata": {
    "tags": []
   },
   "outputs": [
    {
     "data": {
      "text/plain": [
       "{1, 2, 3, 4, 5, 6}"
      ]
     },
     "execution_count": 150,
     "metadata": {},
     "output_type": "execute_result"
    }
   ],
   "source": [
    "s1.union(s2)"
   ]
  },
  {
   "cell_type": "code",
   "execution_count": 157,
   "id": "333bd13a-eb28-40c7-9731-0809090c7dbc",
   "metadata": {
    "tags": []
   },
   "outputs": [
    {
     "data": {
      "text/plain": [
       "{3, 4}"
      ]
     },
     "execution_count": 157,
     "metadata": {},
     "output_type": "execute_result"
    }
   ],
   "source": [
    "s1 & s2"
   ]
  },
  {
   "cell_type": "code",
   "execution_count": 151,
   "id": "e2d43f89",
   "metadata": {
    "tags": []
   },
   "outputs": [
    {
     "data": {
      "text/plain": [
       "{3, 4}"
      ]
     },
     "execution_count": 151,
     "metadata": {},
     "output_type": "execute_result"
    }
   ],
   "source": [
    "s1.intersection(s2)"
   ]
  },
  {
   "cell_type": "code",
   "execution_count": 158,
   "id": "02ee5140-8ba7-4194-ae22-71688e2bfed3",
   "metadata": {
    "tags": []
   },
   "outputs": [
    {
     "data": {
      "text/plain": [
       "{1, 2}"
      ]
     },
     "execution_count": 158,
     "metadata": {},
     "output_type": "execute_result"
    }
   ],
   "source": [
    "s1 - s2"
   ]
  },
  {
   "cell_type": "code",
   "execution_count": 152,
   "id": "83f54c86-1c0d-461a-8f14-5ebe9f40d6f9",
   "metadata": {
    "tags": []
   },
   "outputs": [
    {
     "data": {
      "text/plain": [
       "{1, 2}"
      ]
     },
     "execution_count": 152,
     "metadata": {},
     "output_type": "execute_result"
    }
   ],
   "source": [
    "s1.difference(s2)"
   ]
  },
  {
   "cell_type": "markdown",
   "id": "17bf4f71",
   "metadata": {},
   "source": [
    "# 자료구조를 이용한 대입\n",
    "- 리스트, 튜플, 셋의 원소들을 개별 변수에 대입한다. 어느 자료구조에 적용하느냐에 따라 **리스트 대입, 튜플 대입, 셋 대입** 이라고 한다. 이중 리스트대입이나 튜플대입은 많이 사용된다.\n",
    "- 변수의 개수와 리스트 원소의 개수는 동일해야 한다."
   ]
  },
  {
   "cell_type": "code",
   "execution_count": 159,
   "id": "73b925bb",
   "metadata": {
    "tags": []
   },
   "outputs": [],
   "source": [
    "li = [10,20,30]\n",
    "a,b,c = li"
   ]
  },
  {
   "cell_type": "code",
   "execution_count": 160,
   "id": "5c5ff069-7e4d-4f71-9207-e21f8e1ca75a",
   "metadata": {
    "tags": []
   },
   "outputs": [
    {
     "name": "stdout",
     "output_type": "stream",
     "text": [
      "10 20 30\n"
     ]
    }
   ],
   "source": [
    "print(a,b,c)"
   ]
  },
  {
   "cell_type": "markdown",
   "id": "a3778f41",
   "metadata": {
    "slideshow": {
     "slide_type": "slide"
    }
   },
   "source": [
    "# 자료구조 변환 함수\n",
    "\n",
    "- **list(자료구조)**\n",
    "    - 대상 자료구조/Iterable을 List로 변환한다.\n",
    "- **tuple(자료구조)**\n",
    "    - 대상 자료구조/Iterable을 Tuple로 변환\n",
    "- **set(자료구조)**\n",
    "    - 대상 자료구조/Iterable을 Set으로 변환\n",
    "    - 다른 자료구조의 원소 중 중복을 빼고 조회할 때 set()를 이용해 Set으로 변환한다.\n",
    "- Dictionary로 변환하는 함수는 없다.\n",
    "    - dict(key=value, ..) 는 딕셔너리 생성하는 함수이다.\n",
    "- 변경 대상이 Dictionary 일 경우에는 key값들만 모아서 변환한다.\n",
    "\n",
    "> - **Iterable**\n",
    ">    - 반복가능한 객체. \n",
    ">    - 다음 값 달라는 요청받으면 값을 제공한다. 제공할 값을 다 줄 때까지 요청을 받을때 마다 순차적으로 하나씩 제공한다.\n",
    ">         - Iterable이 제공하는 값을 반복문을 이용해 조회할 경우 **for in문**을 사용한다.\n",
    ">    - 대표적으로 자료구조, 문자열 등이 있다."
   ]
  },
  {
   "cell_type": "code",
   "execution_count": 165,
   "id": "07fd6373",
   "metadata": {
    "slideshow": {
     "slide_type": "fragment"
    },
    "tags": []
   },
   "outputs": [
    {
     "name": "stdout",
     "output_type": "stream",
     "text": [
      "[4, 5, 6]\n",
      "{1, 2, 3}\n",
      "(8, 9, 7)\n",
      "['test', 'nm']\n"
     ]
    }
   ],
   "source": [
    "li = [1,2,3]\n",
    "tu = (4,5,6)\n",
    "s = {7,8,9}\n",
    "di = {'test':1\n",
    "      ,'nm':'sadfa'}\n",
    "\n",
    "print(list(tu))\n",
    "print(set(li))\n",
    "print(tuple(s))\n",
    "print(list(di))"
   ]
  },
  {
   "cell_type": "code",
   "execution_count": 166,
   "id": "85326ba7-471c-4828-aa4c-4fd5df26f836",
   "metadata": {
    "tags": []
   },
   "outputs": [
    {
     "data": {
      "text/plain": [
       "{1, 2, 3, 4}"
      ]
     },
     "execution_count": 166,
     "metadata": {},
     "output_type": "execute_result"
    }
   ],
   "source": [
    "li = [1,1,2,2,3,3,4,4]\n",
    "set(li)"
   ]
  },
  {
   "cell_type": "code",
   "execution_count": 167,
   "id": "61aaddc3-e1c5-47c6-adee-449d95922500",
   "metadata": {
    "tags": []
   },
   "outputs": [
    {
     "data": {
      "text/plain": [
       "{'a', 'd', 'e', 'f', 's', 'w'}"
      ]
     },
     "execution_count": 167,
     "metadata": {},
     "output_type": "execute_result"
    }
   ],
   "source": [
    "s = \"asdfsfsafewfsdafsdafsdfsdfsaf\"\n",
    "set(s)"
   ]
  },
  {
   "cell_type": "code",
   "execution_count": 171,
   "id": "e594ea78-3a41-4457-8ef6-43a6bf301081",
   "metadata": {
    "tags": []
   },
   "outputs": [
    {
     "data": {
      "text/plain": [
       "['kang', 15, False]"
      ]
     },
     "execution_count": 171,
     "metadata": {},
     "output_type": "execute_result"
    }
   ],
   "source": [
    "list(cus_info2.values())"
   ]
  },
  {
   "cell_type": "markdown",
   "id": "b4671a5d",
   "metadata": {
    "slideshow": {
     "slide_type": "skip"
    }
   },
   "source": [
    "# TODO"
   ]
  },
  {
   "cell_type": "code",
   "execution_count": 172,
   "id": "fe387909-8078-496b-9451-0eba1a8061a3",
   "metadata": {
    "slideshow": {
     "slide_type": "skip"
    },
    "tags": []
   },
   "outputs": [
    {
     "name": "stdout",
     "output_type": "stream",
     "text": [
      "80\n",
      "[100, 90, 100, 80, 70]\n",
      "[80, 70, 100, 80]\n",
      "[90, 80, 100, 90, 85]\n",
      "[100, 100, 70, 80, 95]\n",
      "100 90 100 80 70 100 80 90 20 85\n",
      "{100, 70, 80, 20, 85, 90}\n"
     ]
    }
   ],
   "source": [
    "# 문제 1 ~ 7\n",
    "jumsu = [100, 90, 100, 80, 70, 100, 80, 90, 95, 85] \n",
    "# 위 리스트는 학생번호 1번 ~ 10번까지 10명의 시험 점수이다. \n",
    "\n",
    "#(1)  7번의 점수를 출력하세요 \n",
    "print(jumsu[6])\n",
    "\n",
    "#(2)  1번부터 5번까지의 점수를 출력하세요.\n",
    "print(jumsu[:5])\n",
    "\n",
    "#(3)  4, 5, 6, 7번의 점수를 출력하세요.\n",
    "print(jumsu[3:7])\n",
    "\n",
    "#(4) 짝수번째 점수를 출력하세요.\n",
    "print(jumsu[1::2])\n",
    "\n",
    "#(5) 홀수번째 점수를 출력하세요.\n",
    "print(jumsu[::2])\n",
    "\n",
    "#(6) 9번의 점수를 20으로 변경하고 전체 출력하세요.\n",
    "jumsu[8] = 20\n",
    "print(*jumsu)\n",
    "\n",
    "#(7) 중복된 점수는 제거하고 하나씩만 나오도록 출력하세요.\n",
    "print(set(jumsu))"
   ]
  },
  {
   "cell_type": "code",
   "execution_count": 174,
   "id": "82481bdc-00f0-434e-9081-fa9daa53771f",
   "metadata": {
    "slideshow": {
     "slide_type": "skip"
    },
    "tags": []
   },
   "outputs": [
    {
     "name": "stdout",
     "output_type": "stream",
     "text": [
      "['복숭아', '수박', '딸기', '사과', '귤']\n",
      "['수박', '딸기', '사과', '귤']\n"
     ]
    }
   ],
   "source": [
    "# 문제 8 ~ 9\n",
    "fruits = [\"복숭아\", \"수박\", \"딸기\"]\n",
    "\n",
    "#(8) fruits 리스트에 마지막 원소로 \"사과\", \"귤\"을 추가하세요.\n",
    "fruits.append(\"사과\")\n",
    "fruits.append(\"귤\")\n",
    "print(fruits)\n",
    "#(9) fruits 리스트에서 \"복숭아\"를 제거하세요.\n",
    "fruits.remove(\"복숭아\")\n",
    "print(fruits)"
   ]
  },
  {
   "cell_type": "code",
   "execution_count": 179,
   "id": "4dc8863f-999b-43c5-99c1-d87d125f626c",
   "metadata": {
    "slideshow": {
     "slide_type": "skip"
    },
    "tags": []
   },
   "outputs": [
    {
     "name": "stdout",
     "output_type": "stream",
     "text": [
      "my dict => {'name': 'KangJJ', 'age': 30, 'email': '123@naver.com', 'hb': ['cook', 'game'], 'mar': False}\n",
      "이름 : KangJJ, 이메일 : 123@naver.com\n",
      "2\n",
      "{'name': 'KangJJ', 'age': 30, 'email': '123@naver.com', 'hb': ['cook', 'game'], 'mar': False, 'height': 100, 'weight': 100}\n",
      "456@gmail.com\n",
      "{'name': 'KangJJ', 'email': '456@gmail.com', 'hb': ['cook', 'game'], 'mar': False, 'height': 100, 'weight': 100}\n"
     ]
    }
   ],
   "source": [
    "#### 문제 10 ~ 15\n",
    "#(10)본인의 이름, 나이, email주소, 취미, 결혼유무를 사전(딕셔너리)으로 생성. \n",
    "my_dict = {'name': 'KangJJ'\n",
    "           ,'age' : 30\n",
    "           ,'email' : \"123@naver.com\"\n",
    "           ,'hb': ['cook','game']\n",
    "           ,'mar':False\n",
    "}\n",
    "print(f\"my dict => {my_dict}\")\n",
    "\n",
    "# 취미는 2개 이상의 값을 넣는다..\n",
    "\n",
    "#(11) 위 딕셔너리에서 이름과 email주소를 조회해서 출력하세요.\n",
    "print(f\"이름 : {my_dict['name']}, 이메일 : {my_dict['email']}\")\n",
    "\n",
    "#(12) 위 딕셔너리에서 취미중 두번째 취미를 조회해서 출력하세요.\n",
    "print(my_dict['email'][1])\n",
    "\n",
    "#(13) 위 딕셔너리에 몸무게와 키 항목을 추가하세요.\n",
    "my_dict['height'] = 100\n",
    "my_dict['weight'] = 100\n",
    "print(my_dict)\n",
    "\n",
    "#(14) 위 딕셔너리에서 email 주소를 다른 값으로 변경하세요.\n",
    "my_dict['email'] = '456@gmail.com'\n",
    "print(my_dict['email'])\n",
    "#(15) 위 딕셔너리에서 나이를 제거하세요.\n",
    "del my_dict['age']\n",
    "print(my_dict)"
   ]
  }
 ],
 "metadata": {
  "kernelspec": {
   "display_name": "Python 3 (ipykernel)",
   "language": "python",
   "name": "python3"
  },
  "language_info": {
   "codemirror_mode": {
    "name": "ipython",
    "version": 3
   },
   "file_extension": ".py",
   "mimetype": "text/x-python",
   "name": "python",
   "nbconvert_exporter": "python",
   "pygments_lexer": "ipython3",
   "version": "3.11.5"
  },
  "toc": {
   "base_numbering": 1,
   "nav_menu": {},
   "number_sections": true,
   "sideBar": true,
   "skip_h1_title": false,
   "title_cell": "Table of Contents",
   "title_sidebar": "Contents",
   "toc_cell": false,
   "toc_position": {
    "height": "calc(100% - 180px)",
    "left": "10px",
    "top": "150px",
    "width": "512px"
   },
   "toc_section_display": true,
   "toc_window_display": true
  },
  "varInspector": {
   "cols": {
    "lenName": 16,
    "lenType": 16,
    "lenVar": 40
   },
   "kernels_config": {
    "python": {
     "delete_cmd_postfix": "",
     "delete_cmd_prefix": "del ",
     "library": "var_list.py",
     "varRefreshCmd": "print(var_dic_list())"
    },
    "r": {
     "delete_cmd_postfix": ") ",
     "delete_cmd_prefix": "rm(",
     "library": "var_list.r",
     "varRefreshCmd": "cat(var_dic_list()) "
    }
   },
   "types_to_exclude": [
    "module",
    "function",
    "builtin_function_or_method",
    "instance",
    "_Feature"
   ],
   "window_display": false
  }
 },
 "nbformat": 4,
 "nbformat_minor": 5
}
