{
 "cells": [
  {
   "cell_type": "code",
   "execution_count": 1,
   "id": "f4a7f42a",
   "metadata": {
    "ExecuteTime": {
     "end_time": "2023-07-11T08:31:13.107604Z",
     "start_time": "2023-07-11T08:31:03.457665Z"
    },
    "executionInfo": {
     "elapsed": 4049,
     "status": "ok",
     "timestamp": 1707192730787,
     "user": {
      "displayName": "김성환",
      "userId": "02802166581970122576"
     },
     "user_tz": -540
    },
    "id": "f4a7f42a"
   },
   "outputs": [
    {
     "name": "stdout",
     "output_type": "stream",
     "text": [
      "WARNING:tensorflow:From C:\\Users\\Playdata\\AppData\\Local\\anaconda3\\envs\\ml\\lib\\site-packages\\keras\\src\\losses.py:2976: The name tf.losses.sparse_softmax_cross_entropy is deprecated. Please use tf.compat.v1.losses.sparse_softmax_cross_entropy instead.\n",
      "\n"
     ]
    }
   ],
   "source": [
    "import tensorflow as tf\n",
    "from tensorflow import keras\n",
    "from tensorflow.keras import layers, models, optimizers\n",
    "\n",
    "import numpy as np\n",
    "import matplotlib.pyplot as plt\n",
    "import random\n",
    "\n",
    "random.seed(0)\n",
    "np.random.seed(0)\n",
    "tf.random.set_seed(0)"
   ]
  },
  {
   "cell_type": "code",
   "execution_count": 5,
   "id": "50c5e566",
   "metadata": {
    "ExecuteTime": {
     "end_time": "2023-07-11T08:31:13.990576Z",
     "start_time": "2023-07-11T08:31:13.975389Z"
    },
    "executionInfo": {
     "elapsed": 21,
     "status": "ok",
     "timestamp": 1707192730788,
     "user": {
      "displayName": "김성환",
      "userId": "02802166581970122576"
     },
     "user_tz": -540
    },
    "id": "50c5e566"
   },
   "outputs": [],
   "source": [
    "def plot_result(hist, loss_min=None, loss_max=None):\n",
    "\n",
    "    plt.figure(figsize=(10, 5))\n",
    "    plt.subplot(1, 2, 1)\n",
    "    plt.plot(hist.epoch, hist.history['loss'], label=\"train\")\n",
    "    plt.plot(hist.epoch, hist.history['val_loss'], label='validation')\n",
    "    plt.title('Loss')\n",
    "    if loss_min!=None and loss_max!=None:\n",
    "        plt.ylim(loss_min, loss_max)\n",
    "\n",
    "    plt.xlabel('에폭수')\n",
    "    plt.ylabel('loss')\n",
    "    plt.legend()\n",
    "\n",
    "    plt.subplot(1, 2, 2)\n",
    "    plt.plot(hist.epoch, hist.history['accuracy'], label='train')\n",
    "    plt.plot(hist.epoch, hist.history['val_accuracy'], label='validation')\n",
    "    plt.title('Accuracy')\n",
    "    plt.xlabel('에폭수')\n",
    "    plt.ylabel('accuracy')\n",
    "    plt.legend()\n",
    "\n",
    "    plt.tight_layout()\n",
    "    plt.show()"
   ]
  },
  {
   "cell_type": "code",
   "execution_count": 6,
   "id": "b0ec5b2d",
   "metadata": {
    "ExecuteTime": {
     "end_time": "2023-07-11T08:31:15.101523Z",
     "start_time": "2023-07-11T08:31:14.641362Z"
    },
    "colab": {
     "base_uri": "https://localhost:8080/"
    },
    "executionInfo": {
     "elapsed": 793,
     "status": "ok",
     "timestamp": 1707192731562,
     "user": {
      "displayName": "김성환",
      "userId": "02802166581970122576"
     },
     "user_tz": -540
    },
    "id": "b0ec5b2d",
    "outputId": "28ed4ad6-9cc4-41c9-91d3-c7d0f2dad426"
   },
   "outputs": [
    {
     "name": "stdout",
     "output_type": "stream",
     "text": [
      "(60000, 28, 28) (10000, 28, 28) (60000, 10) (10000, 10)\n",
      "float32 float32\n"
     ]
    }
   ],
   "source": [
    "# MNIST 데이터셋 로딩\n",
    "(train_image, train_label), (test_image, test_label)  = keras.datasets.mnist.load_data()\n",
    "\n",
    "# 전처리 - X: scaling, y: one hot encoding 처리\n",
    "y_train = keras.utils.to_categorical(train_label)\n",
    "y_test = keras.utils.to_categorical(test_label)\n",
    "\n",
    "X_train = train_image.astype('float32')/255 # uint8 -> float32, min max scaling\n",
    "X_test = test_image.astype('float32')/255\n",
    "\n",
    "print(X_train.shape, X_test.shape, y_train.shape, y_test.shape)\n",
    "print(X_train.dtype, X_test.dtype)"
   ]
  },
  {
   "cell_type": "code",
   "execution_count": 7,
   "id": "4e98a908",
   "metadata": {
    "ExecuteTime": {
     "end_time": "2023-07-11T08:31:16.269477Z",
     "start_time": "2023-07-11T08:31:16.240545Z"
    },
    "executionInfo": {
     "elapsed": 5,
     "status": "ok",
     "timestamp": 1707192731562,
     "user": {
      "displayName": "김성환",
      "userId": "02802166581970122576"
     },
     "user_tz": -540
    },
    "id": "4e98a908"
   },
   "outputs": [],
   "source": [
    "# 하이퍼파리미터\n",
    "LEARNING_RATE = 0.001\n",
    "N_EPOCH = 20\n",
    "N_BATCH = 1000"
   ]
  },
  {
   "cell_type": "markdown",
   "id": "f6b71a5f",
   "metadata": {
    "id": "f6b71a5f"
   },
   "source": [
    "# 모델의 크기 변경 -> 성능 확인"
   ]
  },
  {
   "cell_type": "code",
   "execution_count": 8,
   "id": "7bfacdc2",
   "metadata": {
    "ExecuteTime": {
     "end_time": "2023-07-11T08:31:20.623957Z",
     "start_time": "2023-07-11T08:31:20.592408Z"
    },
    "executionInfo": {
     "elapsed": 4,
     "status": "ok",
     "timestamp": 1707192731562,
     "user": {
      "displayName": "김성환",
      "userId": "02802166581970122576"
     },
     "user_tz": -540
    },
    "id": "7bfacdc2"
   },
   "outputs": [],
   "source": [
    "def get_small_model():\n",
    "    model = keras.Sequential()\n",
    "    model.add(layers.Flatten(input_shape=(28,28)))\n",
    "    model.add(layers.Dense(10, activation='softmax', name='output_layer'))\n",
    "\n",
    "    model.compile(optimizer=optimizers.Adam(learning_rate=LEARNING_RATE),\n",
    "                  loss='categorical_crossentropy', metrics=['accuracy'])\n",
    "    return model"
   ]
  },
  {
   "cell_type": "code",
   "execution_count": 9,
   "id": "0c722215",
   "metadata": {
    "ExecuteTime": {
     "end_time": "2023-07-11T08:32:01.608888Z",
     "start_time": "2023-07-11T08:32:01.549420Z"
    },
    "colab": {
     "base_uri": "https://localhost:8080/"
    },
    "executionInfo": {
     "elapsed": 542,
     "status": "ok",
     "timestamp": 1707192732100,
     "user": {
      "displayName": "김성환",
      "userId": "02802166581970122576"
     },
     "user_tz": -540
    },
    "id": "0c722215",
    "outputId": "3d8588ff-f21b-4edd-9328-032cc3f3e74e"
   },
   "outputs": [
    {
     "name": "stdout",
     "output_type": "stream",
     "text": [
      "WARNING:tensorflow:From C:\\Users\\Playdata\\AppData\\Local\\anaconda3\\envs\\ml\\lib\\site-packages\\keras\\src\\backend.py:873: The name tf.get_default_graph is deprecated. Please use tf.compat.v1.get_default_graph instead.\n",
      "\n",
      "Model: \"sequential\"\n",
      "_________________________________________________________________\n",
      " Layer (type)                Output Shape              Param #   \n",
      "=================================================================\n",
      " flatten (Flatten)           (None, 784)               0         \n",
      "                                                                 \n",
      " output_layer (Dense)        (None, 10)                7850      \n",
      "                                                                 \n",
      "=================================================================\n",
      "Total params: 7850 (30.66 KB)\n",
      "Trainable params: 7850 (30.66 KB)\n",
      "Non-trainable params: 0 (0.00 Byte)\n",
      "_________________________________________________________________\n"
     ]
    }
   ],
   "source": [
    "small_model = get_small_model()\n",
    "small_model.summary()"
   ]
  },
  {
   "cell_type": "code",
   "execution_count": 10,
   "id": "f1d030fd",
   "metadata": {
    "ExecuteTime": {
     "end_time": "2023-07-11T08:32:11.892148Z",
     "start_time": "2023-07-11T08:32:03.792895Z"
    },
    "colab": {
     "base_uri": "https://localhost:8080/"
    },
    "executionInfo": {
     "elapsed": 11464,
     "status": "ok",
     "timestamp": 1707192743557,
     "user": {
      "displayName": "김성환",
      "userId": "02802166581970122576"
     },
     "user_tz": -540
    },
    "id": "f1d030fd",
    "outputId": "fc763af3-e94b-4047-b84a-b1b55272eb0e"
   },
   "outputs": [
    {
     "name": "stdout",
     "output_type": "stream",
     "text": [
      "Epoch 1/20\n",
      "WARNING:tensorflow:From C:\\Users\\Playdata\\AppData\\Local\\anaconda3\\envs\\ml\\lib\\site-packages\\keras\\src\\utils\\tf_utils.py:492: The name tf.ragged.RaggedTensorValue is deprecated. Please use tf.compat.v1.ragged.RaggedTensorValue instead.\n",
      "\n",
      "WARNING:tensorflow:From C:\\Users\\Playdata\\AppData\\Local\\anaconda3\\envs\\ml\\lib\\site-packages\\keras\\src\\engine\\base_layer_utils.py:384: The name tf.executing_eagerly_outside_functions is deprecated. Please use tf.compat.v1.executing_eagerly_outside_functions instead.\n",
      "\n",
      "45/45 [==============================] - 1s 10ms/step - loss: 1.5940 - accuracy: 0.5828 - val_loss: 1.0347 - val_accuracy: 0.8077\n",
      "Epoch 2/20\n",
      "45/45 [==============================] - 0s 4ms/step - loss: 0.8629 - accuracy: 0.8252 - val_loss: 0.6953 - val_accuracy: 0.8536\n",
      "Epoch 3/20\n",
      "45/45 [==============================] - 0s 6ms/step - loss: 0.6501 - accuracy: 0.8545 - val_loss: 0.5665 - val_accuracy: 0.8695\n",
      "Epoch 4/20\n",
      "45/45 [==============================] - 0s 4ms/step - loss: 0.5518 - accuracy: 0.8692 - val_loss: 0.4978 - val_accuracy: 0.8782\n",
      "Epoch 5/20\n",
      "45/45 [==============================] - 0s 5ms/step - loss: 0.4938 - accuracy: 0.8801 - val_loss: 0.4542 - val_accuracy: 0.8876\n",
      "Epoch 6/20\n",
      "45/45 [==============================] - 0s 5ms/step - loss: 0.4546 - accuracy: 0.8864 - val_loss: 0.4242 - val_accuracy: 0.8910\n",
      "Epoch 7/20\n",
      "45/45 [==============================] - 0s 5ms/step - loss: 0.4265 - accuracy: 0.8919 - val_loss: 0.4020 - val_accuracy: 0.8961\n",
      "Epoch 8/20\n",
      "45/45 [==============================] - 0s 5ms/step - loss: 0.4051 - accuracy: 0.8959 - val_loss: 0.3849 - val_accuracy: 0.9000\n",
      "Epoch 9/20\n",
      "45/45 [==============================] - 0s 5ms/step - loss: 0.3883 - accuracy: 0.8990 - val_loss: 0.3715 - val_accuracy: 0.9033\n",
      "Epoch 10/20\n",
      "45/45 [==============================] - 0s 4ms/step - loss: 0.3745 - accuracy: 0.9017 - val_loss: 0.3611 - val_accuracy: 0.9037\n",
      "Epoch 11/20\n",
      "45/45 [==============================] - 0s 4ms/step - loss: 0.3629 - accuracy: 0.9039 - val_loss: 0.3520 - val_accuracy: 0.9063\n",
      "Epoch 12/20\n",
      "45/45 [==============================] - 0s 5ms/step - loss: 0.3532 - accuracy: 0.9058 - val_loss: 0.3442 - val_accuracy: 0.9078\n",
      "Epoch 13/20\n",
      "45/45 [==============================] - 0s 5ms/step - loss: 0.3450 - accuracy: 0.9077 - val_loss: 0.3373 - val_accuracy: 0.9091\n",
      "Epoch 14/20\n",
      "45/45 [==============================] - 0s 5ms/step - loss: 0.3377 - accuracy: 0.9093 - val_loss: 0.3317 - val_accuracy: 0.9094\n",
      "Epoch 15/20\n",
      "45/45 [==============================] - 0s 6ms/step - loss: 0.3314 - accuracy: 0.9105 - val_loss: 0.3265 - val_accuracy: 0.9109\n",
      "Epoch 16/20\n",
      "45/45 [==============================] - 0s 6ms/step - loss: 0.3258 - accuracy: 0.9119 - val_loss: 0.3219 - val_accuracy: 0.9124\n",
      "Epoch 17/20\n",
      "45/45 [==============================] - 0s 4ms/step - loss: 0.3206 - accuracy: 0.9133 - val_loss: 0.3183 - val_accuracy: 0.9131\n",
      "Epoch 18/20\n",
      "45/45 [==============================] - 0s 5ms/step - loss: 0.3161 - accuracy: 0.9140 - val_loss: 0.3145 - val_accuracy: 0.9132\n",
      "Epoch 19/20\n",
      "45/45 [==============================] - 0s 5ms/step - loss: 0.3120 - accuracy: 0.9151 - val_loss: 0.3119 - val_accuracy: 0.9139\n",
      "Epoch 20/20\n",
      "45/45 [==============================] - 0s 5ms/step - loss: 0.3083 - accuracy: 0.9156 - val_loss: 0.3087 - val_accuracy: 0.9144\n"
     ]
    }
   ],
   "source": [
    "hist = small_model.fit(X_train, y_train, epochs=N_EPOCH, batch_size=N_BATCH, validation_split=0.25)"
   ]
  },
  {
   "cell_type": "code",
   "execution_count": 11,
   "id": "f5049ab1",
   "metadata": {
    "ExecuteTime": {
     "end_time": "2023-07-11T08:32:14.387059Z",
     "start_time": "2023-07-11T08:32:13.742294Z"
    },
    "colab": {
     "base_uri": "https://localhost:8080/",
     "height": 746
    },
    "executionInfo": {
     "elapsed": 857,
     "status": "ok",
     "timestamp": 1707192744393,
     "user": {
      "displayName": "김성환",
      "userId": "02802166581970122576"
     },
     "user_tz": -540
    },
    "id": "f5049ab1",
    "outputId": "7fb8c63e-f7aa-4875-b797-2457ba80aaf7"
   },
   "outputs": [
    {
     "data": {
      "image/png": "[encoded data removed]",
      "text/plain": [
       "<Figure size 1000x500 with 2 Axes>"
      ]
     },
     "metadata": {},
     "output_type": "display_data"
    }
   ],
   "source": [
    "# 시각화\n",
    "plot_result(hist)#, 0.25, 0.5)"
   ]
  },
  {
   "cell_type": "code",
   "execution_count": 12,
   "id": "3cd2a687-051c-4a2d-bc01-bd5d08d3c69a",
   "metadata": {},
   "outputs": [
    {
     "data": {
      "image/png": "[encoded data removed]",
      "text/plain": [
       "<Figure size 1000x500 with 2 Axes>"
      ]
     },
     "metadata": {},
     "output_type": "display_data"
    }
   ],
   "source": [
    "plot_result(hist, 0.25, 0.5)"
   ]
  },
  {
   "cell_type": "code",
   "execution_count": 13,
   "id": "bc3176b2",
   "metadata": {
    "ExecuteTime": {
     "end_time": "2023-07-11T08:32:30.325895Z",
     "start_time": "2023-07-11T08:32:30.288089Z"
    },
    "executionInfo": {
     "elapsed": 10,
     "status": "ok",
     "timestamp": 1707192744394,
     "user": {
      "displayName": "김성환",
      "userId": "02802166581970122576"
     },
     "user_tz": -540
    },
    "id": "bc3176b2"
   },
   "outputs": [],
   "source": [
    "def get_big_model():\n",
    "    model = keras.Sequential()\n",
    "    model.add(layers.Flatten(input_shape=(28,28)))\n",
    "\n",
    "    model.add(layers.Dense(512, activation='relu'))\n",
    "    model.add(layers.Dense(512, activation='relu'))\n",
    "    model.add(layers.Dense(256, activation='relu'))\n",
    "    model.add(layers.Dense(256, activation='relu'))\n",
    "    model.add(layers.Dense(128, activation='relu'))\n",
    "    model.add(layers.Dense(128, activation='relu'))\n",
    "    model.add(layers.Dense(64, activation='relu'))\n",
    "    model.add(layers.Dense(64, activation='relu'))\n",
    "\n",
    "    model.add(layers.Dense(10, activation='softmax', name='output_layer'))\n",
    "\n",
    "    model.compile(optimizer=optimizers.Adam(learning_rate=LEARNING_RATE),\n",
    "                  loss='categorical_crossentropy', metrics=['accuracy'])\n",
    "    return model"
   ]
  },
  {
   "cell_type": "code",
   "execution_count": 14,
   "id": "a635f70a",
   "metadata": {
    "ExecuteTime": {
     "end_time": "2023-07-11T08:32:31.259205Z",
     "start_time": "2023-07-11T08:32:31.042756Z"
    },
    "colab": {
     "base_uri": "https://localhost:8080/"
    },
    "executionInfo": {
     "elapsed": 539,
     "status": "ok",
     "timestamp": 1707192744924,
     "user": {
      "displayName": "김성환",
      "userId": "02802166581970122576"
     },
     "user_tz": -540
    },
    "id": "a635f70a",
    "outputId": "badc801d-45f5-49a5-ec1b-e382cc5c0ed5"
   },
   "outputs": [
    {
     "name": "stdout",
     "output_type": "stream",
     "text": [
      "Model: \"sequential_1\"\n",
      "_________________________________________________________________\n",
      " Layer (type)                Output Shape              Param #   \n",
      "=================================================================\n",
      " flatten_1 (Flatten)         (None, 784)               0         \n",
      "                                                                 \n",
      " dense (Dense)               (None, 512)               401920    \n",
      "                                                                 \n",
      " dense_1 (Dense)             (None, 512)               262656    \n",
      "                                                                 \n",
      " dense_2 (Dense)             (None, 256)               131328    \n",
      "                                                                 \n",
      " dense_3 (Dense)             (None, 256)               65792     \n",
      "                                                                 \n",
      " dense_4 (Dense)             (None, 128)               32896     \n",
      "                                                                 \n",
      " dense_5 (Dense)             (None, 128)               16512     \n",
      "                                                                 \n",
      " dense_6 (Dense)             (None, 64)                8256      \n",
      "                                                                 \n",
      " dense_7 (Dense)             (None, 64)                4160      \n",
      "                                                                 \n",
      " output_layer (Dense)        (None, 10)                650       \n",
      "                                                                 \n",
      "=================================================================\n",
      "Total params: 924170 (3.53 MB)\n",
      "Trainable params: 924170 (3.53 MB)\n",
      "Non-trainable params: 0 (0.00 Byte)\n",
      "_________________________________________________________________\n"
     ]
    }
   ],
   "source": [
    "big_model = get_big_model()\n",
    "big_model.summary()"
   ]
  },
  {
   "cell_type": "code",
   "execution_count": 15,
   "id": "9911faf7",
   "metadata": {
    "ExecuteTime": {
     "end_time": "2023-07-11T08:33:25.144868Z",
     "start_time": "2023-07-11T08:32:34.635402Z"
    },
    "colab": {
     "base_uri": "https://localhost:8080/"
    },
    "executionInfo": {
     "elapsed": 12429,
     "status": "ok",
     "timestamp": 1707192757341,
     "user": {
      "displayName": "김성환",
      "userId": "02802166581970122576"
     },
     "user_tz": -540
    },
    "id": "9911faf7",
    "outputId": "94b008b0-6544-4c8a-a5c6-ea814f12d9d4"
   },
   "outputs": [
    {
     "name": "stdout",
     "output_type": "stream",
     "text": [
      "Epoch 1/20\n",
      "45/45 [==============================] - 4s 49ms/step - loss: 0.8314 - accuracy: 0.7219 - val_loss: 0.2611 - val_accuracy: 0.9238\n",
      "Epoch 2/20\n",
      "45/45 [==============================] - 2s 55ms/step - loss: 0.1886 - accuracy: 0.9442 - val_loss: 0.1475 - val_accuracy: 0.9555\n",
      "Epoch 3/20\n",
      "45/45 [==============================] - 2s 55ms/step - loss: 0.1212 - accuracy: 0.9639 - val_loss: 0.1332 - val_accuracy: 0.9614\n",
      "Epoch 4/20\n",
      "45/45 [==============================] - 3s 58ms/step - loss: 0.0817 - accuracy: 0.9755 - val_loss: 0.1107 - val_accuracy: 0.9692\n",
      "Epoch 5/20\n",
      "45/45 [==============================] - 2s 55ms/step - loss: 0.0576 - accuracy: 0.9832 - val_loss: 0.1235 - val_accuracy: 0.9647\n",
      "Epoch 6/20\n",
      "45/45 [==============================] - 3s 57ms/step - loss: 0.0416 - accuracy: 0.9871 - val_loss: 0.1068 - val_accuracy: 0.9724\n",
      "Epoch 7/20\n",
      "45/45 [==============================] - 2s 55ms/step - loss: 0.0326 - accuracy: 0.9902 - val_loss: 0.1003 - val_accuracy: 0.9743\n",
      "Epoch 8/20\n",
      "45/45 [==============================] - 2s 56ms/step - loss: 0.0240 - accuracy: 0.9927 - val_loss: 0.1047 - val_accuracy: 0.9733\n",
      "Epoch 9/20\n",
      "45/45 [==============================] - 2s 55ms/step - loss: 0.0173 - accuracy: 0.9947 - val_loss: 0.1145 - val_accuracy: 0.9737\n",
      "Epoch 10/20\n",
      "45/45 [==============================] - 3s 56ms/step - loss: 0.0179 - accuracy: 0.9944 - val_loss: 0.1196 - val_accuracy: 0.9715\n",
      "Epoch 11/20\n",
      "45/45 [==============================] - 3s 58ms/step - loss: 0.0156 - accuracy: 0.9952 - val_loss: 0.1253 - val_accuracy: 0.9714\n",
      "Epoch 12/20\n",
      "45/45 [==============================] - 3s 58ms/step - loss: 0.0107 - accuracy: 0.9967 - val_loss: 0.1250 - val_accuracy: 0.9722\n",
      "Epoch 13/20\n",
      "45/45 [==============================] - 3s 57ms/step - loss: 0.0105 - accuracy: 0.9970 - val_loss: 0.1299 - val_accuracy: 0.9711\n",
      "Epoch 14/20\n",
      "45/45 [==============================] - 3s 59ms/step - loss: 0.0108 - accuracy: 0.9965 - val_loss: 0.1178 - val_accuracy: 0.9756\n",
      "Epoch 15/20\n",
      "45/45 [==============================] - 3s 56ms/step - loss: 0.0077 - accuracy: 0.9975 - val_loss: 0.1289 - val_accuracy: 0.9737\n",
      "Epoch 16/20\n",
      "45/45 [==============================] - 3s 57ms/step - loss: 0.0102 - accuracy: 0.9968 - val_loss: 0.1310 - val_accuracy: 0.9738\n",
      "Epoch 17/20\n",
      "45/45 [==============================] - 3s 59ms/step - loss: 0.0075 - accuracy: 0.9977 - val_loss: 0.1274 - val_accuracy: 0.9741\n",
      "Epoch 18/20\n",
      "45/45 [==============================] - 3s 56ms/step - loss: 0.0062 - accuracy: 0.9978 - val_loss: 0.1459 - val_accuracy: 0.9716\n",
      "Epoch 19/20\n",
      "45/45 [==============================] - 3s 58ms/step - loss: 0.0117 - accuracy: 0.9962 - val_loss: 0.1252 - val_accuracy: 0.9731\n",
      "Epoch 20/20\n",
      "45/45 [==============================] - 3s 58ms/step - loss: 0.0063 - accuracy: 0.9979 - val_loss: 0.1452 - val_accuracy: 0.9707\n"
     ]
    }
   ],
   "source": [
    "hist = big_model.fit(X_train, y_train, epochs=N_EPOCH, batch_size=N_BATCH, validation_split=0.25)"
   ]
  },
  {
   "cell_type": "code",
   "execution_count": 17,
   "id": "96dceb00",
   "metadata": {
    "ExecuteTime": {
     "end_time": "2023-07-11T08:33:29.694718Z",
     "start_time": "2023-07-11T08:33:28.994390Z"
    },
    "colab": {
     "base_uri": "https://localhost:8080/",
     "height": 617
    },
    "executionInfo": {
     "elapsed": 841,
     "status": "ok",
     "timestamp": 1707192758167,
     "user": {
      "displayName": "김성환",
      "userId": "02802166581970122576"
     },
     "user_tz": -540
    },
    "id": "96dceb00",
    "outputId": "8bc278b6-1330-40a1-a582-416bc4171b92"
   },
   "outputs": [
    {
     "data": {
      "image/png": "[encoded data removed]",
      "text/plain": [
       "<Figure size 1000x500 with 2 Axes>"
      ]
     },
     "metadata": {},
     "output_type": "display_data"
    }
   ],
   "source": [
    "plot_result(hist)#, 0.05, 0.15)"
   ]
  },
  {
   "cell_type": "code",
   "execution_count": 18,
   "id": "6ff6ef3a-9ee7-4e78-8842-63111cc2a7fc",
   "metadata": {},
   "outputs": [
    {
     "data": {
      "image/png": "[encoded data removed]",
      "text/plain": [
       "<Figure size 1000x500 with 2 Axes>"
      ]
     },
     "metadata": {},
     "output_type": "display_data"
    }
   ],
   "source": [
    "plot_result(hist, 0.05, 0.15)"
   ]
  },
  {
   "cell_type": "code",
   "execution_count": 19,
   "id": "08463639",
   "metadata": {
    "ExecuteTime": {
     "end_time": "2023-07-11T08:33:34.776685Z",
     "start_time": "2023-07-11T08:33:34.435825Z"
    },
    "colab": {
     "base_uri": "https://localhost:8080/"
    },
    "executionInfo": {
     "elapsed": 3850,
     "status": "ok",
     "timestamp": 1707192809919,
     "user": {
      "displayName": "김성환",
      "userId": "02802166581970122576"
     },
     "user_tz": -540
    },
    "id": "08463639",
    "outputId": "f52d08b6-694b-480d-fb38-214ed26f02b6"
   },
   "outputs": [
    {
     "name": "stdout",
     "output_type": "stream",
     "text": [
      "313/313 [==============================] - 1s 2ms/step - loss: 0.2987 - accuracy: 0.9169\n",
      "[0.29868367314338684, 0.9168999791145325]\n",
      "313/313 [==============================] - 2s 4ms/step - loss: 0.1236 - accuracy: 0.9747\n",
      "[0.12362479418516159, 0.9746999740600586]\n"
     ]
    }
   ],
   "source": [
    "print(small_model.evaluate(X_test, y_test))\n",
    "print(big_model.evaluate(X_test, y_test))"
   ]
  },
  {
   "cell_type": "markdown",
   "id": "c7170b74",
   "metadata": {
    "id": "c7170b74"
   },
   "source": [
    "# Dropout Layer"
   ]
  },
  {
   "cell_type": "code",
   "execution_count": 20,
   "id": "ade6cce4",
   "metadata": {
    "ExecuteTime": {
     "end_time": "2023-07-11T08:44:11.063075Z",
     "start_time": "2023-07-11T08:44:11.028544Z"
    },
    "executionInfo": {
     "elapsed": 47,
     "status": "ok",
     "timestamp": 1707192809920,
     "user": {
      "displayName": "김성환",
      "userId": "02802166581970122576"
     },
     "user_tz": -540
    },
    "id": "ade6cce4"
   },
   "outputs": [],
   "source": [
    "# Dropout Layer는 Dropout을 적용하려는 Layer 앞에 정의한다.\n",
    "def get_dropout_model():\n",
    "    model = keras.Sequential()\n",
    "    model.add(layers.Flatten(input_shape=(28,28)))\n",
    "\n",
    "    model.add(layers.Dropout(rate=0.3))\n",
    "    model.add(layers.Dense(512, activation='relu'))\n",
    "    model.add(layers.Dropout(0.3))\n",
    "    model.add(layers.Dense(512, activation='relu'))\n",
    "    model.add(layers.Dropout(0.3))\n",
    "    model.add(layers.Dense(256, activation='relu'))\n",
    "    model.add(layers.Dropout(0.3))\n",
    "    model.add(layers.Dense(256, activation='relu'))\n",
    "    model.add(layers.Dropout(0.3))\n",
    "    model.add(layers.Dense(128, activation='relu'))\n",
    "    model.add(layers.Dropout(0.3))\n",
    "    model.add(layers.Dense(128, activation='relu'))\n",
    "    model.add(layers.Dropout(0.3))\n",
    "    model.add(layers.Dense(64, activation='relu'))\n",
    "    model.add(layers.Dropout(0.3))\n",
    "    model.add(layers.Dense(64, activation='relu'))\n",
    "    model.add(layers.Dropout(0.3))\n",
    "    model.add(layers.Dense(10, activation='softmax', name='output_layer')) # output layer\n",
    "\n",
    "    model.compile(optimizer=optimizers.Adam(learning_rate=LEARNING_RATE),\n",
    "                  loss='categorical_crossentropy', metrics=['accuracy'])\n",
    "    return model"
   ]
  },
  {
   "cell_type": "code",
   "execution_count": 21,
   "id": "d82efcfb",
   "metadata": {
    "ExecuteTime": {
     "end_time": "2023-07-11T08:44:12.244616Z",
     "start_time": "2023-07-11T08:44:11.962055Z"
    },
    "colab": {
     "base_uri": "https://localhost:8080/"
    },
    "executionInfo": {
     "elapsed": 45,
     "status": "ok",
     "timestamp": 1707192809920,
     "user": {
      "displayName": "김성환",
      "userId": "02802166581970122576"
     },
     "user_tz": -540
    },
    "id": "d82efcfb",
    "outputId": "8b0a504c-0b9b-4e58-fea5-968d5ba07a24"
   },
   "outputs": [
    {
     "name": "stdout",
     "output_type": "stream",
     "text": [
      "Model: \"sequential_2\"\n",
      "_________________________________________________________________\n",
      " Layer (type)                Output Shape              Param #   \n",
      "=================================================================\n",
      " flatten_2 (Flatten)         (None, 784)               0         \n",
      "                                                                 \n",
      " dropout (Dropout)           (None, 784)               0         \n",
      "                                                                 \n",
      " dense_8 (Dense)             (None, 512)               401920    \n",
      "                                                                 \n",
      " dropout_1 (Dropout)         (None, 512)               0         \n",
      "                                                                 \n",
      " dense_9 (Dense)             (None, 512)               262656    \n",
      "                                                                 \n",
      " dropout_2 (Dropout)         (None, 512)               0         \n",
      "                                                                 \n",
      " dense_10 (Dense)            (None, 256)               131328    \n",
      "                                                                 \n",
      " dropout_3 (Dropout)         (None, 256)               0         \n",
      "                                                                 \n",
      " dense_11 (Dense)            (None, 256)               65792     \n",
      "                                                                 \n",
      " dropout_4 (Dropout)         (None, 256)               0         \n",
      "                                                                 \n",
      " dense_12 (Dense)            (None, 128)               32896     \n",
      "                                                                 \n",
      " dropout_5 (Dropout)         (None, 128)               0         \n",
      "                                                                 \n",
      " dense_13 (Dense)            (None, 128)               16512     \n",
      "                                                                 \n",
      " dropout_6 (Dropout)         (None, 128)               0         \n",
      "                                                                 \n",
      " dense_14 (Dense)            (None, 64)                8256      \n",
      "                                                                 \n",
      " dropout_7 (Dropout)         (None, 64)                0         \n",
      "                                                                 \n",
      " dense_15 (Dense)            (None, 64)                4160      \n",
      "                                                                 \n",
      " dropout_8 (Dropout)         (None, 64)                0         \n",
      "                                                                 \n",
      " output_layer (Dense)        (None, 10)                650       \n",
      "                                                                 \n",
      "=================================================================\n",
      "Total params: 924170 (3.53 MB)\n",
      "Trainable params: 924170 (3.53 MB)\n",
      "Non-trainable params: 0 (0.00 Byte)\n",
      "_________________________________________________________________\n"
     ]
    }
   ],
   "source": [
    "dropout_model = get_dropout_model()\n",
    "dropout_model.summary()"
   ]
  },
  {
   "cell_type": "code",
   "execution_count": 22,
   "id": "dec74d32",
   "metadata": {
    "ExecuteTime": {
     "end_time": "2023-07-11T08:45:35.596796Z",
     "start_time": "2023-07-11T08:44:15.596384Z"
    },
    "colab": {
     "base_uri": "https://localhost:8080/"
    },
    "executionInfo": {
     "elapsed": 22112,
     "status": "ok",
     "timestamp": 1707192832011,
     "user": {
      "displayName": "김성환",
      "userId": "02802166581970122576"
     },
     "user_tz": -540
    },
    "id": "dec74d32",
    "outputId": "92c8408e-1456-4f77-fba4-c2618d51b86e"
   },
   "outputs": [
    {
     "name": "stdout",
     "output_type": "stream",
     "text": [
      "Epoch 1/20\n",
      "45/45 [==============================] - 5s 74ms/step - loss: 2.0861 - accuracy: 0.2072 - val_loss: 1.5103 - val_accuracy: 0.5379\n",
      "Epoch 2/20\n",
      "45/45 [==============================] - 3s 73ms/step - loss: 1.2138 - accuracy: 0.5762 - val_loss: 0.5330 - val_accuracy: 0.8165\n",
      "Epoch 3/20\n",
      "45/45 [==============================] - 3s 69ms/step - loss: 0.6326 - accuracy: 0.7970 - val_loss: 0.2684 - val_accuracy: 0.9351\n",
      "Epoch 4/20\n",
      "45/45 [==============================] - 3s 74ms/step - loss: 0.4110 - accuracy: 0.8948 - val_loss: 0.1921 - val_accuracy: 0.9516\n",
      "Epoch 5/20\n",
      "45/45 [==============================] - 3s 75ms/step - loss: 0.3309 - accuracy: 0.9216 - val_loss: 0.1809 - val_accuracy: 0.9543\n",
      "Epoch 6/20\n",
      "45/45 [==============================] - 3s 74ms/step - loss: 0.2908 - accuracy: 0.9337 - val_loss: 0.1672 - val_accuracy: 0.9595\n",
      "Epoch 7/20\n",
      "45/45 [==============================] - 3s 71ms/step - loss: 0.2606 - accuracy: 0.9402 - val_loss: 0.1442 - val_accuracy: 0.9648\n",
      "Epoch 8/20\n",
      "45/45 [==============================] - 3s 70ms/step - loss: 0.2353 - accuracy: 0.9471 - val_loss: 0.1407 - val_accuracy: 0.9661\n",
      "Epoch 9/20\n",
      "45/45 [==============================] - 3s 73ms/step - loss: 0.2174 - accuracy: 0.9495 - val_loss: 0.1303 - val_accuracy: 0.9681\n",
      "Epoch 10/20\n",
      "45/45 [==============================] - 3s 72ms/step - loss: 0.2050 - accuracy: 0.9528 - val_loss: 0.1343 - val_accuracy: 0.9681\n",
      "Epoch 11/20\n",
      "45/45 [==============================] - 3s 71ms/step - loss: 0.1962 - accuracy: 0.9556 - val_loss: 0.1273 - val_accuracy: 0.9693\n",
      "Epoch 12/20\n",
      "45/45 [==============================] - 3s 73ms/step - loss: 0.1779 - accuracy: 0.9592 - val_loss: 0.1282 - val_accuracy: 0.9701\n",
      "Epoch 13/20\n",
      "45/45 [==============================] - 3s 66ms/step - loss: 0.1733 - accuracy: 0.9599 - val_loss: 0.1152 - val_accuracy: 0.9733\n",
      "Epoch 14/20\n",
      "45/45 [==============================] - 3s 72ms/step - loss: 0.1633 - accuracy: 0.9630 - val_loss: 0.1128 - val_accuracy: 0.9741\n",
      "Epoch 15/20\n",
      "45/45 [==============================] - 3s 71ms/step - loss: 0.1598 - accuracy: 0.9638 - val_loss: 0.1191 - val_accuracy: 0.9721\n",
      "Epoch 16/20\n",
      "45/45 [==============================] - 3s 73ms/step - loss: 0.1558 - accuracy: 0.9644 - val_loss: 0.1120 - val_accuracy: 0.9733\n",
      "Epoch 17/20\n",
      "45/45 [==============================] - 3s 73ms/step - loss: 0.1456 - accuracy: 0.9667 - val_loss: 0.1090 - val_accuracy: 0.9744\n",
      "Epoch 18/20\n",
      "45/45 [==============================] - 3s 72ms/step - loss: 0.1382 - accuracy: 0.9672 - val_loss: 0.1051 - val_accuracy: 0.9763\n",
      "Epoch 19/20\n",
      "45/45 [==============================] - 3s 71ms/step - loss: 0.1318 - accuracy: 0.9688 - val_loss: 0.1101 - val_accuracy: 0.9744\n",
      "Epoch 20/20\n",
      "45/45 [==============================] - 3s 68ms/step - loss: 0.1292 - accuracy: 0.9699 - val_loss: 0.1087 - val_accuracy: 0.9746\n"
     ]
    }
   ],
   "source": [
    "# Dropout Layer를 사용하면 사용하지 않았을 때 보다 epoch을 더 늘려야 한다.\n",
    "hist = dropout_model.fit(X_train, y_train, epochs=N_EPOCH, batch_size=N_BATCH, validation_split=0.25)"
   ]
  },
  {
   "cell_type": "code",
   "execution_count": null,
   "id": "9432294d",
   "metadata": {
    "ExecuteTime": {
     "end_time": "2023-02-21T08:40:13.478489Z",
     "start_time": "2023-02-21T08:40:12.998512Z"
    },
    "colab": {
     "base_uri": "https://localhost:8080/",
     "height": 617
    },
    "executionInfo": {
     "elapsed": 859,
     "status": "ok",
     "timestamp": 1707192832853,
     "user": {
      "displayName": "김성환",
      "userId": "02802166581970122576"
     },
     "user_tz": -540
    },
    "id": "9432294d",
    "outputId": "6e7e043e-0497-461f-fcae-acbfa0c3d8fd"
   },
   "outputs": [],
   "source": [
    "plot_result(hist)"
   ]
  },
  {
   "cell_type": "markdown",
   "id": "976893a2",
   "metadata": {
    "id": "976893a2"
   },
   "source": [
    "# Batch Normalization 예제"
   ]
  },
  {
   "cell_type": "code",
   "execution_count": null,
   "id": "3a96fa75",
   "metadata": {
    "ExecuteTime": {
     "end_time": "2023-07-11T08:46:12.348158Z",
     "start_time": "2023-07-11T08:46:12.335112Z"
    },
    "executionInfo": {
     "elapsed": 14,
     "status": "ok",
     "timestamp": 1707192832853,
     "user": {
      "displayName": "김성환",
      "userId": "02802166581970122576"
     },
     "user_tz": -540
    },
    "id": "3a96fa75"
   },
   "outputs": [],
   "source": [
    "def get_model_bn(lr=0.01):\n",
    "\n",
    "    model = keras.Sequential()\n",
    "    model.add(layers.Flatten(input_shape=(28,28)))\n",
    "\n",
    "\n",
    "    # (Dropout Layer ->) Dense Layer -> Batch Normalization -> ReLU(Activation)\n",
    "    model.add(layers.Dense(256)) # WX + B 작업\n",
    "    model.add(layers.BatchNormalization()) # 평균 : 0 + beta/표준편차 : 1 * gamma\n",
    "    model.add(layers.ReLU()) # Activation 함수  == layers.Activation(\"relu\")\n",
    "\n",
    "    model.add(layers.Dense(256))\n",
    "    model.add(layers.BatchNormalization())\n",
    "    model.add(layers.ReLU())\n",
    "\n",
    "    model.add(layers.Dense(128))\n",
    "    model.add(layers.BatchNormalization())\n",
    "    model.add(layers.ReLU())\n",
    "\n",
    "    model.add(layers.Dense(128))\n",
    "    model.add(layers.BatchNormalization())\n",
    "    model.add(layers.ReLU())\n",
    "\n",
    "    model.add(layers.Dense(64))\n",
    "    model.add(layers.BatchNormalization())\n",
    "    model.add(layers.ReLU())\n",
    "\n",
    "    model.add(layers.Dense(64))\n",
    "    model.add(layers.BatchNormalization())\n",
    "    model.add(layers.ReLU())\n",
    "\n",
    "    # output layer\n",
    "    model.add(layers.Dense(10))\n",
    "    model.add(layers.Softmax())\n",
    "\n",
    "    # Sigmoid를 활용하려면\n",
    "    # layers.Activation(\"sigmoid\") 를 활용해야함.\n",
    "    \n",
    "    model.compile(optimizer=optimizers.Adam(learning_rate=lr),\n",
    "                  loss='categorical_crossentropy', metrics=['accuracy'])\n",
    "    return model"
   ]
  },
  {
   "cell_type": "code",
   "execution_count": null,
   "id": "5e44f0e3",
   "metadata": {
    "ExecuteTime": {
     "end_time": "2023-07-11T08:46:14.314460Z",
     "start_time": "2023-07-11T08:46:13.933806Z"
    },
    "colab": {
     "base_uri": "https://localhost:8080/"
    },
    "executionInfo": {
     "elapsed": 13,
     "status": "ok",
     "timestamp": 1707192832853,
     "user": {
      "displayName": "김성환",
      "userId": "02802166581970122576"
     },
     "user_tz": -540
    },
    "id": "5e44f0e3",
    "outputId": "62355855-a172-4be8-d018-398e650084c6"
   },
   "outputs": [],
   "source": [
    "model_bn = get_model_bn(LEARNING_RATE)\n",
    "model_bn.summary()"
   ]
  },
  {
   "cell_type": "code",
   "execution_count": null,
   "id": "4c78c908",
   "metadata": {
    "ExecuteTime": {
     "end_time": "2023-07-11T08:46:50.665888Z",
     "start_time": "2023-07-11T08:46:19.381985Z"
    },
    "colab": {
     "base_uri": "https://localhost:8080/"
    },
    "executionInfo": {
     "elapsed": 23374,
     "status": "ok",
     "timestamp": 1707192856223,
     "user": {
      "displayName": "김성환",
      "userId": "02802166581970122576"
     },
     "user_tz": -540
    },
    "id": "4c78c908",
    "outputId": "2621f475-ecc2-430f-e26b-e2ae249afc11"
   },
   "outputs": [],
   "source": [
    "hist = model_bn.fit(X_train, y_train, epochs=N_EPOCH, batch_size=N_BATCH, validation_split=0.25)"
   ]
  },
  {
   "cell_type": "code",
   "execution_count": null,
   "id": "dd159e40",
   "metadata": {
    "ExecuteTime": {
     "end_time": "2023-02-22T02:03:55.827225Z",
     "start_time": "2023-02-22T02:03:55.241212Z"
    },
    "colab": {
     "base_uri": "https://localhost:8080/",
     "height": 617
    },
    "executionInfo": {
     "elapsed": 1201,
     "status": "ok",
     "timestamp": 1707192857409,
     "user": {
      "displayName": "김성환",
      "userId": "02802166581970122576"
     },
     "user_tz": -540
    },
    "id": "dd159e40",
    "outputId": "b30e0500-bd88-45b6-834b-f824e89275af"
   },
   "outputs": [],
   "source": [
    "plot_result(hist)"
   ]
  },
  {
   "cell_type": "markdown",
   "id": "167dd99f",
   "metadata": {
    "id": "167dd99f"
   },
   "source": [
    "# Learning Rate 변화를 통한 성능개선\n",
    "\n",
    "## Learning Rate scheduler 를 이용\n",
    "- 특정 step 마다 learning rate를 변경"
   ]
  },
  {
   "cell_type": "code",
   "execution_count": null,
   "id": "OprkhhqgoFAu",
   "metadata": {
    "colab": {
     "base_uri": "https://localhost:8080/"
    },
    "executionInfo": {
     "elapsed": 950,
     "status": "ok",
     "timestamp": 1707192976482,
     "user": {
      "displayName": "김성환",
      "userId": "02802166581970122576"
     },
     "user_tz": -540
    },
    "id": "OprkhhqgoFAu",
    "outputId": "4aaef4f2-9b9c-485d-d91e-fcb4bd3c43df"
   },
   "outputs": [],
   "source": []
  },
  {
   "cell_type": "code",
   "execution_count": null,
   "id": "2d33ce3b",
   "metadata": {
    "ExecuteTime": {
     "end_time": "2023-02-22T02:47:30.300438Z",
     "start_time": "2023-02-22T02:47:30.287010Z"
    },
    "executionInfo": {
     "elapsed": 434,
     "status": "ok",
     "timestamp": 1707193000210,
     "user": {
      "displayName": "김성환",
      "userId": "02802166581970122576"
     },
     "user_tz": -540
    },
    "id": "2d33ce3b"
   },
   "outputs": [],
   "source": [
    "def get_model_lr(initial_lr=0.01):\n",
    "    model = keras.Sequential()\n",
    "    model.add(layers.Flatten(input_shape=(28,28)))\n",
    "    model.add(layers.Dense(256, activation='relu'))\n",
    "    model.add(layers.Dense(128, activation='relu'))\n",
    "    model.add(layers.Dense(64, activation='relu'))\n",
    "    model.add(layers.Dense(10, activation='softmax', name='output_layer'))\n",
    "\n",
    "    lr_sch = optimizers.schedules.ExponentialDecay(initial_learning_rate=initial_lr,\n",
    "                                                   decay_steps=int(np.ceil(X_train.shape[0]/N_BATCH)) * 5,   # 5 epoch\n",
    "                                                   decay_rate=0.5,\n",
    "                                                   staircase=True)\n",
    "\n",
    "    model.compile(optimizer=optimizers.Adam(learning_rate=lr_sch),\n",
    "                  loss='categorical_crossentropy', metrics=['accuracy'])\n",
    "\n",
    "    return model"
   ]
  },
  {
   "cell_type": "code",
   "execution_count": null,
   "id": "ab5e3436",
   "metadata": {
    "ExecuteTime": {
     "end_time": "2023-02-22T02:48:52.838966Z",
     "start_time": "2023-02-22T02:48:29.400420Z"
    },
    "colab": {
     "base_uri": "https://localhost:8080/"
    },
    "executionInfo": {
     "elapsed": 9428,
     "status": "ok",
     "timestamp": 1707193011664,
     "user": {
      "displayName": "김성환",
      "userId": "02802166581970122576"
     },
     "user_tz": -540
    },
    "id": "ab5e3436",
    "outputId": "bf2d0487-6539-4149-8497-09a09a9948ff",
    "scrolled": true
   },
   "outputs": [],
   "source": [
    "model_lr = get_model_lr(LEARNING_RATE)\n",
    "hist = model_lr.fit(X_train, y_train, epochs=N_EPOCH, batch_size=N_BATCH, validation_split=0.25)"
   ]
  },
  {
   "cell_type": "markdown",
   "id": "64ea9b5f",
   "metadata": {
    "id": "64ea9b5f"
   },
   "source": [
    "## callback 을 이용해 학습률 변경\n",
    "- ReduceLROnPlateau callback을 이용"
   ]
  },
  {
   "cell_type": "code",
   "execution_count": null,
   "id": "91b2a407",
   "metadata": {
    "ExecuteTime": {
     "end_time": "2023-02-22T03:27:19.206159Z",
     "start_time": "2023-02-22T03:27:19.198043Z"
    },
    "executionInfo": {
     "elapsed": 573,
     "status": "ok",
     "timestamp": 1707193043948,
     "user": {
      "displayName": "김성환",
      "userId": "02802166581970122576"
     },
     "user_tz": -540
    },
    "id": "91b2a407"
   },
   "outputs": [],
   "source": [
    "def get_model_lr2(initial_lr=0.01):\n",
    "    model = keras.Sequential()\n",
    "    model.add(layers.Flatten(input_shape=(28,28)))\n",
    "    model.add(layers.Dense(256, activation='relu'))\n",
    "    model.add(layers.Dense(128, activation='relu'))\n",
    "    model.add(layers.Dense(64, activation='relu'))\n",
    "    model.add(layers.Dense(10, activation='softmax', name='output_layer'))\n",
    "\n",
    "    model.compile(optimizer=optimizers.Adam(learning_rate=initial_lr),\n",
    "                  loss='categorical_crossentropy', metrics=['accuracy'])\n",
    "\n",
    "    return model"
   ]
  },
  {
   "cell_type": "code",
   "execution_count": null,
   "id": "b401e266",
   "metadata": {
    "ExecuteTime": {
     "end_time": "2023-02-22T03:27:57.532586Z",
     "start_time": "2023-02-22T03:27:57.438685Z"
    },
    "executionInfo": {
     "elapsed": 4,
     "status": "ok",
     "timestamp": 1707193046030,
     "user": {
      "displayName": "김성환",
      "userId": "02802166581970122576"
     },
     "user_tz": -540
    },
    "id": "b401e266"
   },
   "outputs": [],
   "source": [
    "model_lr2 = get_model_lr2(LEARNING_RATE)"
   ]
  },
  {
   "cell_type": "code",
   "execution_count": null,
   "id": "dd9bcae6",
   "metadata": {
    "ExecuteTime": {
     "end_time": "2023-02-22T03:33:11.067426Z",
     "start_time": "2023-02-22T03:32:28.895971Z"
    },
    "colab": {
     "base_uri": "https://localhost:8080/"
    },
    "executionInfo": {
     "elapsed": 11873,
     "status": "ok",
     "timestamp": 1707193069282,
     "user": {
      "displayName": "김성환",
      "userId": "02802166581970122576"
     },
     "user_tz": -540
    },
    "id": "dd9bcae6",
    "outputId": "a4806c49-1c30-403b-be9f-84dab6a2fa89",
    "scrolled": true
   },
   "outputs": [],
   "source": [
    "lr_callback = keras.callbacks.ReduceLROnPlateau(monitor='val_loss',\n",
    "                                                factor=0.5,\n",
    "                                                patience=3,\n",
    "                                                verbose=2\n",
    "                                               )\n",
    "\n",
    "hist = model_lr2.fit(X_train, y_train, epochs=N_EPOCH, batch_size=N_BATCH, validation_split=0.25)"
   ]
  },
  {
   "cell_type": "code",
   "execution_count": null,
   "id": "faadef74",
   "metadata": {
    "executionInfo": {
     "elapsed": 3,
     "status": "ok",
     "timestamp": 1707193071010,
     "user": {
      "displayName": "김성환",
      "userId": "02802166581970122576"
     },
     "user_tz": -540
    },
    "id": "faadef74"
   },
   "outputs": [],
   "source": []
  }
 ],
 "metadata": {
  "colab": {
   "provenance": []
  },
  "kernelspec": {
   "display_name": "Python 3 (ipykernel)",
   "language": "python",
   "name": "python3"
  },
  "language_info": {
   "codemirror_mode": {
    "name": "ipython",
    "version": 3
   },
   "file_extension": ".py",
   "mimetype": "text/x-python",
   "name": "python",
   "nbconvert_exporter": "python",
   "pygments_lexer": "ipython3",
   "version": "3.10.13"
  },
  "toc": {
   "base_numbering": 1,
   "nav_menu": {},
   "number_sections": true,
   "sideBar": true,
   "skip_h1_title": false,
   "title_cell": "Table of Contents",
   "title_sidebar": "Contents",
   "toc_cell": false,
   "toc_position": {},
   "toc_section_display": true,
   "toc_window_display": false
  },
  "varInspector": {
   "cols": {
    "lenName": 16,
    "lenType": 16,
    "lenVar": 40
   },
   "kernels_config": {
    "python": {
     "delete_cmd_postfix": "",
     "delete_cmd_prefix": "del ",
     "library": "var_list.py",
     "varRefreshCmd": "print(var_dic_list())"
    },
    "r": {
     "delete_cmd_postfix": ") ",
     "delete_cmd_prefix": "rm(",
     "library": "var_list.r",
     "varRefreshCmd": "cat(var_dic_list()) "
    }
   },
   "types_to_exclude": [
    "module",
    "function",
    "builtin_function_or_method",
    "instance",
    "_Feature"
   ],
   "window_display": false
  }
 },
 "nbformat": 4,
 "nbformat_minor": 5
}
