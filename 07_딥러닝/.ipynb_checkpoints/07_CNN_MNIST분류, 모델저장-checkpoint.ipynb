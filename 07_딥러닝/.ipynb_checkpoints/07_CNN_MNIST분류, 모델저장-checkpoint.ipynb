{
 "cells": [
  {
   "cell_type": "markdown",
   "metadata": {
    "id": "n1-HdRR266M6"
   },
   "source": [
    "# Convolutional Neural Network 구현\n",
    "\n",
    "- mnist 손글씨 data를 이용하여 CNN을 학습하고 MLP와 결과와 비교 해본다."
   ]
  },
  {
   "cell_type": "markdown",
   "metadata": {
    "id": "C-ud-t_Z2oYA"
   },
   "source": [
    "##### 학습결과 시각화 함수 정의"
   ]
  },
  {
   "cell_type": "code",
   "execution_count": null,
   "metadata": {
    "colab": {
     "base_uri": "https://localhost:8080/"
    },
    "executionInfo": {
     "elapsed": 3276,
     "status": "ok",
     "timestamp": 1707195665581,
     "user": {
      "displayName": "김성환",
      "userId": "02802166581970122576"
     },
     "user_tz": -540
    },
    "id": "Nzw3Qr_g6CZZ",
    "outputId": "c3ff73bd-6312-4f4c-89f4-dfcc980516c6"
   },
   "outputs": [],
   "source": [
    "import tensorflow as tf\n",
    "from tensorflow import keras\n",
    "from tensorflow.keras import layers, models\n",
    "\n",
    "import numpy as np\n",
    "import matplotlib.pyplot as plt\n",
    "\n",
    "import os\n",
    "import random\n",
    "\n",
    "random.seed(0)\n",
    "np.random.seed(0)\n",
    "tf.random.set_seed(0)\n",
    "\n",
    "print(tf.__version__)"
   ]
  },
  {
   "cell_type": "code",
   "execution_count": null,
   "metadata": {
    "executionInfo": {
     "elapsed": 10,
     "status": "ok",
     "timestamp": 1707195665582,
     "user": {
      "displayName": "김성환",
      "userId": "02802166581970122576"
     },
     "user_tz": -540
    },
    "id": "Er-mHeMB7Ad2"
   },
   "outputs": [],
   "source": [
    "# 결과 시각화 함수\n",
    "def plot_result(hist, loss_min=None, loss_max=None):\n",
    "    plt.figure(figsize=(10, 5))\n",
    "    plt.subplot(1,2,1)\n",
    "    plt.plot(hist.epoch, hist.history['loss'], label='Train Loss')\n",
    "    plt.plot(hist.epoch, hist.history['val_loss'], label='Validation Loss')\n",
    "    plt.title(\"Loss\")\n",
    "    if loss_min!=None and loss_max!=None:\n",
    "        plt.ylim(loss_min, loss_max)\n",
    "    plt.legend()\n",
    "\n",
    "    plt.subplot(1,2,2)\n",
    "    plt.plot(hist.epoch, hist.history['accuracy'], label='Train Accuracy')\n",
    "    plt.plot(hist.epoch, hist.history['val_accuracy'], label='Validation Accuracy')\n",
    "    plt.title(\"Accuracy\")\n",
    "    plt.legend()\n",
    "\n",
    "    plt.tight_layout()\n",
    "    plt.show()"
   ]
  },
  {
   "cell_type": "markdown",
   "metadata": {
    "id": "RVqiCTcL2oYB"
   },
   "source": [
    "# mnist CNN 적용"
   ]
  },
  {
   "cell_type": "markdown",
   "metadata": {
    "id": "NHxtx1Aj2oYB"
   },
   "source": [
    "##### data loading"
   ]
  },
  {
   "cell_type": "code",
   "execution_count": null,
   "metadata": {
    "colab": {
     "base_uri": "https://localhost:8080/"
    },
    "executionInfo": {
     "elapsed": 9,
     "status": "ok",
     "timestamp": 1707195665582,
     "user": {
      "displayName": "김성환",
      "userId": "02802166581970122576"
     },
     "user_tz": -540
    },
    "id": "B-IEKUGp2oYC",
    "outputId": "479826fa-d0cc-4b91-9da3-af48295430a2"
   },
   "outputs": [],
   "source": [
    "(train_image, train_label), (test_image, test_label) = keras.datasets.mnist.load_data()\n",
    "print(train_image.shape, test_image.shape, train_label.shape, test_label.shape)"
   ]
  },
  {
   "cell_type": "markdown",
   "metadata": {
    "id": "RPf3VwR12oYD"
   },
   "source": [
    "##### 전처리, Dataset 생성\n",
    "- X\n",
    "    - uint8을 float32 타입으로 변경.\n",
    "    - pixcel값 정규화: 0 ~ 1\n",
    "    - Gray scale에 channel 축이 없는 경우 dummy 축을 늘려준다.\n",
    "        - 영상처리 convolution layer(Conv2D)는 입력으로 3차원 (height, width, channel) 배열을 받는다.\n",
    "- Y\n",
    "    - OneHot Encoding\n",
    "    - sparse_categorical_crossentropy 를 loss 함수로 사용할 경우는 OneHot Encoding 하지 않아도 된다."
   ]
  },
  {
   "cell_type": "code",
   "execution_count": null,
   "metadata": {
    "colab": {
     "base_uri": "https://localhost:8080/"
    },
    "executionInfo": {
     "elapsed": 6,
     "status": "ok",
     "timestamp": 1707195665582,
     "user": {
      "displayName": "김성환",
      "userId": "02802166581970122576"
     },
     "user_tz": -540
    },
    "id": "Jkac8vUv2oYE",
    "outputId": "5bea1ec1-47b8-4060-c784-d5fadf301f41"
   },
   "outputs": [],
   "source": [
    "# input 전처리\n",
    "X_train = train_image.astype('float32')/255\n",
    "X_train = X_train[..., np.newaxis]\n",
    "\n",
    "X_test = test_image.astype('float32')/255\n",
    "X_test = X_test[..., np.newaxis]\n",
    "\n",
    "print(X_train.dtype, X_test.dtype)\n",
    "print(X_train.shape, X_test.shape)"
   ]
  },
  {
   "cell_type": "markdown",
   "metadata": {
    "id": "K69KSUQ02oYC"
   },
   "source": [
    "##### 하이퍼파라미터, 변수 설정"
   ]
  },
  {
   "cell_type": "code",
   "execution_count": null,
   "metadata": {
    "executionInfo": {
     "elapsed": 5,
     "status": "ok",
     "timestamp": 1707195665582,
     "user": {
      "displayName": "김성환",
      "userId": "02802166581970122576"
     },
     "user_tz": -540
    },
    "id": "kkFMeoiwD3-0"
   },
   "outputs": [],
   "source": [
    "LEARNING_RATE = 0.001\n",
    "N_EPOCH = 10\n",
    "N_BATCH = 1000\n",
    "\n",
    "N_TRAIN = X_train.shape[0]"
   ]
  },
  {
   "cell_type": "markdown",
   "metadata": {
    "id": "WlIp6IOQ2oYH"
   },
   "source": [
    "## Model(Network) 정의\n",
    "- Feature Extractor(backbone):Convolution Layer\n",
    "    - block: Convolution + MaxPooling Layer\n",
    "    - size(height, width) 는 줄이고 channel은 늘리는 방향으로 Layer들을 쌓는다.\n",
    "    - convolution\n",
    "        - size: 3 X 3\n",
    "        - strides: 1\n",
    "        - padding: same\n",
    "    - max pooling\n",
    "        - size: 2 X 2\n",
    "        - strides: 2\n",
    "        - 위와 같이 지정해 input의 size를 절반으로 줄인다.\n",
    "- 추정기\n",
    "    - Dense Layer 사용        \n",
    "    - Flatten을 먼저 해야 한다. (Conv의 output-feature map- 3차원 배열)\n"
   ]
  },
  {
   "cell_type": "code",
   "execution_count": null,
   "metadata": {
    "executionInfo": {
     "elapsed": 5,
     "status": "ok",
     "timestamp": 1707195665583,
     "user": {
      "displayName": "김성환",
      "userId": "02802166581970122576"
     },
     "user_tz": -540
    },
    "id": "qqjP2slE2oYI"
   },
   "outputs": [],
   "source": [
    "def get_mnist_cnn_model(lr=0.01):\n",
    "    model = keras.Sequential()\n",
    "    # Input Layer\n",
    "    model.add(layers.InputLayer(input_shape=(28, 28, 1)))\n",
    "\n",
    "    # Feature Extractor -> Convolution Block (Conv + MaxPool) 으로 정의 (Conv + MaxPool)으로 정의\n",
    "    model.add(layers.Conv2D(filters=16,  # 필터 개수(추출할 특성 개수)\n",
    "                           kernel_size=(3,3),  # 필터 크기(h,w). h와 w가 같을 경우 정수로 지정.\n",
    "                           strides=(1,1),  # 이동 크기(좌우,상하). 좌우와 상하가 같을 경우 정수로 지정. default : 1\n",
    "                           padding='same', # 인풋 size와 같도록 padding 추가. valid(default) : padding 적용안함\n",
    "                           activation='relu'\n",
    "                           ))\n",
    "\n",
    "    model.add(layers.MaxPooling2D(pool_size=(2, 2),\n",
    "                                  strides=(2, 2),\n",
    "                                  padding=\"same\"\n",
    "                                  ))\n",
    "\n",
    "    model.add(layers.Conv2D(filters=32, kernel_size=3, padding='same', activation='relu'))\n",
    "    model.add(layers.MaxPooling2D(padding='same'))\n",
    "\n",
    "    model.add(layers.Conv2D(filters=64, kernel_size=3, padding='same', activation='relu'))\n",
    "    model.add(layers.MaxPooling2D(padding='same'))\n",
    "\n",
    "    model.add(layers.Flatten())\n",
    "\n",
    "    model.add(layers.Dropout(0.3))\n",
    "    model.add(layers.Dense(units=256, activation='relu'))\n",
    "\n",
    "    # 출력 Layer\n",
    "    model.add(layers.Dropout(0.3))\n",
    "    model.add(layers.Dense(units=10, activation='softmax', name='output_layer'))\n",
    "\n",
    "    # 컴파일\n",
    "    model.compile(optimizer=keras.optimizers.Adam(lr), loss='sparse_categorical_crossentropy', metrics=['accuracy'])\n",
    "\n",
    "    return model"
   ]
  },
  {
   "cell_type": "markdown",
   "metadata": {
    "id": "aMuzFWvr2oYJ"
   },
   "source": [
    "##### 모델 생성 및 확인"
   ]
  },
  {
   "cell_type": "code",
   "execution_count": null,
   "metadata": {
    "colab": {
     "base_uri": "https://localhost:8080/"
    },
    "executionInfo": {
     "elapsed": 926,
     "status": "ok",
     "timestamp": 1707195666504,
     "user": {
      "displayName": "김성환",
      "userId": "02802166581970122576"
     },
     "user_tz": -540
    },
    "id": "7EV6NOtw2oYJ",
    "outputId": "b6c1100a-949b-492f-ed07-c8aaa8b6daf8"
   },
   "outputs": [],
   "source": [
    "model = get_mnist_cnn_model(LEARNING_RATE)\n",
    "model.summary()"
   ]
  },
  {
   "cell_type": "markdown",
   "metadata": {
    "id": "F9AIJx-E2oYK"
   },
   "source": [
    "##### 학습"
   ]
  },
  {
   "cell_type": "code",
   "execution_count": null,
   "metadata": {
    "colab": {
     "base_uri": "https://localhost:8080/"
    },
    "executionInfo": {
     "elapsed": 20201,
     "status": "ok",
     "timestamp": 1707195686702,
     "user": {
      "displayName": "김성환",
      "userId": "02802166581970122576"
     },
     "user_tz": -540
    },
    "id": "BB7XgjxANwVL",
    "outputId": "162fbe8d-9082-4da2-b5fe-c0b1d7418b9e"
   },
   "outputs": [],
   "source": [
    "hist = model.fit(X_train,\n",
    "                 train_label,\n",
    "                 epochs=N_EPOCH,\n",
    "                 batch_size=N_BATCH,\n",
    "                 validation_split=0.2)"
   ]
  },
  {
   "cell_type": "markdown",
   "metadata": {
    "id": "u-4E5kw42oYK"
   },
   "source": [
    "##### 결과시각화"
   ]
  },
  {
   "cell_type": "code",
   "execution_count": null,
   "metadata": {
    "colab": {
     "base_uri": "https://localhost:8080/",
     "height": 507
    },
    "executionInfo": {
     "elapsed": 1213,
     "status": "ok",
     "timestamp": 1707195687901,
     "user": {
      "displayName": "김성환",
      "userId": "02802166581970122576"
     },
     "user_tz": -540
    },
    "id": "RjDiueR0Sw0-",
    "outputId": "ddf1834f-d341-449f-8230-4f4005f8d2d1"
   },
   "outputs": [],
   "source": [
    "plot_result(hist)\n",
    "# plot_result(hist, 0, 0.05)"
   ]
  },
  {
   "cell_type": "markdown",
   "metadata": {
    "id": "McS8jw052oYK"
   },
   "source": [
    "##### 최종검증"
   ]
  },
  {
   "cell_type": "code",
   "execution_count": null,
   "metadata": {
    "colab": {
     "base_uri": "https://localhost:8080/"
    },
    "executionInfo": {
     "elapsed": 2010,
     "status": "ok",
     "timestamp": 1707195689906,
     "user": {
      "displayName": "김성환",
      "userId": "02802166581970122576"
     },
     "user_tz": -540
    },
    "id": "UI3todYn2oYK",
    "outputId": "fe38e440-31ac-4061-82c2-77d4c35d1e6f"
   },
   "outputs": [],
   "source": [
    "loss, acc = model.evaluate(X_test, test_label)\n",
    "print(f\"최종평가 결과: loss-{loss}, accuracy-{acc}\")"
   ]
  },
  {
   "cell_type": "markdown",
   "metadata": {
    "id": "2BZDV0UE2oYK"
   },
   "source": [
    "## prediction error가 발생한 data 확인\n",
    "- test dataset으로 예측한 결과중 틀린 것들을 확인해 본다."
   ]
  },
  {
   "cell_type": "code",
   "execution_count": null,
   "metadata": {
    "colab": {
     "base_uri": "https://localhost:8080/"
    },
    "executionInfo": {
     "elapsed": 1177,
     "status": "ok",
     "timestamp": 1707195691079,
     "user": {
      "displayName": "김성환",
      "userId": "02802166581970122576"
     },
     "user_tz": -540
    },
    "id": "wAyRtAbI2oYL",
    "outputId": "65829257-1a39-4c94-9589-56ffbf3f4b73"
   },
   "outputs": [],
   "source": [
    "pred = model.predict(X_test)\n",
    "pred.shape"
   ]
  },
  {
   "cell_type": "code",
   "execution_count": null,
   "metadata": {
    "colab": {
     "base_uri": "https://localhost:8080/"
    },
    "executionInfo": {
     "elapsed": 588,
     "status": "ok",
     "timestamp": 1707195691666,
     "user": {
      "displayName": "김성환",
      "userId": "02802166581970122576"
     },
     "user_tz": -540
    },
    "id": "6vpozgruThkT",
    "outputId": "1c62cc57-e8cf-472b-8af1-c4b64b349367"
   },
   "outputs": [],
   "source": [
    "label = np.argmax(pred, axis=-1)\n",
    "print(label.shape)"
   ]
  },
  {
   "cell_type": "code",
   "execution_count": null,
   "metadata": {
    "colab": {
     "base_uri": "https://localhost:8080/"
    },
    "executionInfo": {
     "elapsed": 5,
     "status": "ok",
     "timestamp": 1707195691667,
     "user": {
      "displayName": "김성환",
      "userId": "02802166581970122576"
     },
     "user_tz": -540
    },
    "id": "-Nt-5ucLTheu",
    "outputId": "f3a5a4bc-e272-4878-b986-1ceb83325c20"
   },
   "outputs": [],
   "source": [
    "# 모델이 추론한 결과중 정답과 다른 것의 index를 조회\n",
    "fail_idx = np.where(test_label  != label)[0]\n",
    "fail_idx.size"
   ]
  },
  {
   "cell_type": "markdown",
   "metadata": {
    "id": "rBOAGoGW2oYL"
   },
   "source": [
    "##### confusion matrix 확인"
   ]
  },
  {
   "cell_type": "code",
   "execution_count": null,
   "metadata": {
    "colab": {
     "base_uri": "https://localhost:8080/",
     "height": 815
    },
    "executionInfo": {
     "elapsed": 1729,
     "status": "ok",
     "timestamp": 1707195693393,
     "user": {
      "displayName": "김성환",
      "userId": "02802166581970122576"
     },
     "user_tz": -540
    },
    "id": "Xqv-_Jkk2oYL",
    "outputId": "cd47b3e7-8ea5-4e17-f402-29baf508997a"
   },
   "outputs": [],
   "source": [
    "from sklearn.metrics import confusion_matrix, ConfusionMatrixDisplay\n",
    "\n",
    "plt.figure(figsize=(10,10))\n",
    "ax = plt.gca()\n",
    "\n",
    "cm = confusion_matrix(test_label, label)\n",
    "dis = ConfusionMatrixDisplay(cm)\n",
    "dis.plot(cmap=\"Blues\", ax=ax)\n",
    "plt.show()"
   ]
  },
  {
   "cell_type": "code",
   "execution_count": null,
   "metadata": {
    "colab": {
     "base_uri": "https://localhost:8080/",
     "height": 992
    },
    "executionInfo": {
     "elapsed": 6331,
     "status": "ok",
     "timestamp": 1707195699717,
     "user": {
      "displayName": "김성환",
      "userId": "02802166581970122576"
     },
     "user_tz": -540
    },
    "id": "VYyhZxb9Vrzh",
    "outputId": "ed846c5b-af29-4a6f-8f4d-24207e8e289b"
   },
   "outputs": [],
   "source": [
    "# 틀린 이미지들 중 일부 시각화\n",
    "plt.figure(figsize=(20, 20))\n",
    "rows = int(np.ceil(fail_idx.size/10))\n",
    "\n",
    "for i in range(int(fail_idx.size)):\n",
    "    error_idx = fail_idx[i]\n",
    "    pred_label = label[error_idx]\n",
    "    true_label = test_label[error_idx]\n",
    "    img = test_image[error_idx]\n",
    "\n",
    "    plt.subplot(10, rows, i+1)\n",
    "    plt.imshow(img, cmap=\"gray\")\n",
    "    plt.title(f\"True: {true_label}, Pred: {pred_label}\")\n",
    "    plt.axis('off')\n",
    "\n",
    "plt.tight_layout()\n",
    "plt.show()\n"
   ]
  },
  {
   "cell_type": "code",
   "execution_count": null,
   "metadata": {
    "executionInfo": {
     "elapsed": 21,
     "status": "ok",
     "timestamp": 1707195699718,
     "user": {
      "displayName": "김성환",
      "userId": "02802166581970122576"
     },
     "user_tz": -540
    },
    "id": "mTTrqNGDtZMF"
   },
   "outputs": [],
   "source": []
  },
  {
   "cell_type": "markdown",
   "metadata": {
    "id": "RJUQJSEp66NR"
   },
   "source": [
    "# 딥러닝 모델 저장\n",
    "\n",
    "- **무엇을 저장할 지**\n",
    "    1. Train이 끝난 모델의 파라미터만 저장\n",
    "    1. 모델 구조와 파라미터 모두 저장\n",
    "\n",
    "- **저장시점**\n",
    "    1. Train 완료된 모델을 저장\n",
    "    1. Callback을 이용해 Train 도중 가장 성능이 좋은 시점의 모델을 저장"
   ]
  },
  {
   "cell_type": "markdown",
   "metadata": {
    "id": "2ARCyjDW66NR"
   },
   "source": [
    "## 텐서플로 저장 형식\n",
    "- checkpoint\n",
    "    - 모델의 weight를 저장하기 위한 타입\n",
    "- SavedModel\n",
    "    - 모델의 구조와 파라미터들을 모두 저장하는 타입"
   ]
  },
  {
   "cell_type": "markdown",
   "metadata": {
    "id": "6bAN1wPG66NS"
   },
   "source": [
    "## 학습한 Weight (파라미터)만 저장하기(save), 불러오기(load)\n",
    "- 가중치를 저장하여 나중에 재학습 없이 학습된 가중치를 사용할 수 있다.\n",
    "- 저장\n",
    "    - `model.save_weights(\"저장경로\")`\n",
    "- 불러오기\n",
    "    - 새로 생성한 모델의 초기파라미터를 저장한 파라미터로 덮어씌운다. (load)\n",
    "    - `model.load_weights('불러올경로')`\n",
    "- 저장형식\n",
    "    - Tensorflow Checkpoint (기본방식)\n",
    "    - HDF5\n",
    "        - `save_weights(.., save_format='h5')`\n",
    "        - 또는 파일 확장자를 h5로 지정한다."
   ]
  },
  {
   "cell_type": "code",
   "execution_count": null,
   "metadata": {
    "colab": {
     "base_uri": "https://localhost:8080/"
    },
    "executionInfo": {
     "elapsed": 20,
     "status": "ok",
     "timestamp": 1707195699718,
     "user": {
      "displayName": "김성환",
      "userId": "02802166581970122576"
     },
     "user_tz": -540
    },
    "id": "WAJn5zIWwEeS",
    "outputId": "610352d5-17b5-4a6b-b3ae-ed009329a814"
   },
   "outputs": [],
   "source": [
    "# 저장할 디렉토리 생성\n",
    "import os\n",
    "SAVE_ROOT_PATH = \"<<Google Drive 경로>>\"\n",
    "SAVE_MODEL_PATH = os.path.join(SAVE_ROOT_PATH, 'saved_models')\n",
    "os.makedirs(SAVE_MODEL_PATH, exist_ok=True)\n",
    "print(os.path.isdir(SAVE_MODEL_PATH))"
   ]
  },
  {
   "cell_type": "code",
   "execution_count": null,
   "metadata": {
    "executionInfo": {
     "elapsed": 18,
     "status": "ok",
     "timestamp": 1707195699718,
     "user": {
      "displayName": "김성환",
      "userId": "02802166581970122576"
     },
     "user_tz": -540
    },
    "id": "lL0l0g1OwEbb"
   },
   "outputs": [],
   "source": [
    "# MODEL의 파라미터들만 저장. => model.save_weight(저장파일경로)\n",
    "MNIST_WEIGHTS_DIR_PATH = os.path.join(SAVE_MODEL_PATH, 'mnist_cnn_weights')\n",
    "os.makedirs(MNIST_WEIGHTS_DIR_PATH, exist_ok=True)\n",
    "MNIST_WEIGHTS_FILE_PATH = os.path.join(MNIST_WEIGHTS_DIR_PATH, 'ckpt')"
   ]
  },
  {
   "cell_type": "code",
   "execution_count": null,
   "metadata": {
    "executionInfo": {
     "elapsed": 18,
     "status": "ok",
     "timestamp": 1707195699718,
     "user": {
      "displayName": "김성환",
      "userId": "02802166581970122576"
     },
     "user_tz": -540
    },
    "id": "vLVg0PUnwEY7"
   },
   "outputs": [],
   "source": [
    "model.save_weights(MNIST_WEIGHTS_FILE_PATH)"
   ]
  },
  {
   "cell_type": "code",
   "execution_count": null,
   "metadata": {
    "colab": {
     "base_uri": "https://localhost:8080/"
    },
    "executionInfo": {
     "elapsed": 946,
     "status": "ok",
     "timestamp": 1707195700646,
     "user": {
      "displayName": "김성환",
      "userId": "02802166581970122576"
     },
     "user_tz": -540
    },
    "id": "OUFveR452oYL",
    "outputId": "41104eed-885c-4405-f4cc-9f93ba771de5"
   },
   "outputs": [],
   "source": [
    "# 저장된 WEIGHT를 LOADING해서 모델을 RESTORE\n",
    "# 1. 모델을 생성\n",
    "saved_model = get_mnist_cnn_model(LEARNING_RATE)\n",
    "saved_model.evaluate(X_test, test_label)"
   ]
  },
  {
   "cell_type": "code",
   "execution_count": null,
   "metadata": {
    "colab": {
     "base_uri": "https://localhost:8080/"
    },
    "executionInfo": {
     "elapsed": 979,
     "status": "ok",
     "timestamp": 1707195701621,
     "user": {
      "displayName": "김성환",
      "userId": "02802166581970122576"
     },
     "user_tz": -540
    },
    "id": "n8OM18UAyf3d",
    "outputId": "4f15453d-0528-41df-bda1-827ce338d425"
   },
   "outputs": [],
   "source": [
    "#2. 생성한 모델에 읽어온(loading) weight를 덮어씌운다.\n",
    "saved_model.load_weights(MNIST_WEIGHTS_FILE_PATH)\n",
    "saved_model.evaluate(X_test, test_label)"
   ]
  },
  {
   "cell_type": "markdown",
   "metadata": {
    "id": "shNUg6al66NV"
   },
   "source": [
    "## 모델(모델구조 + weights) 저장하기, 불러오기\n",
    "- https://www.tensorflow.org/guide/keras/save_and_serialize?hl=ko\n",
    "- 저장\n",
    "    - `model.save('저장할디렉토리')`\n",
    "        - 저장할 파일경로가 아니라 **디렉토리 경로를** 지정한다.\n",
    "- 불러오기\n",
    "    - `tf.keras.models.load_model('저장된디렉토리')`\n",
    "- 저장 형식\n",
    "    - Tensorflow **SavedModel** 형식(기본방식)\n",
    "        - 모델 아키텍처 및 훈련 구성(옵티마이저, 손실 및 메트릭 포함)은 saved_model.pb 에 저장된다.\n",
    "        - 파라미터는 variables/ 디렉토리에 저장된다.\n",
    "        - https://www.tensorflow.org/guide/saved_model?hl=ko#the_savedmodel_format_on_disk\n",
    "    - HDF5 형식\n",
    "        - `save(..., save_format='h5')`\n",
    "        - 또는 파일의 확장자를 h5로 지정한다."
   ]
  },
  {
   "cell_type": "code",
   "execution_count": null,
   "metadata": {
    "executionInfo": {
     "elapsed": 4,
     "status": "ok",
     "timestamp": 1707195701622,
     "user": {
      "displayName": "김성환",
      "userId": "02802166581970122576"
     },
     "user_tz": -540
    },
    "id": "AGLHkxkR2oYM"
   },
   "outputs": [],
   "source": [
    "MNIST_MODEL_PATH = os.path.join(SAVE_MODEL_PATH, 'mnist_model')"
   ]
  },
  {
   "cell_type": "code",
   "execution_count": null,
   "metadata": {
    "executionInfo": {
     "elapsed": 934,
     "status": "ok",
     "timestamp": 1707195702552,
     "user": {
      "displayName": "김성환",
      "userId": "02802166581970122576"
     },
     "user_tz": -540
    },
    "id": "JY2GZnWN4Yhg"
   },
   "outputs": [],
   "source": [
    "model.save(MNIST_MODEL_PATH)"
   ]
  },
  {
   "cell_type": "code",
   "execution_count": null,
   "metadata": {
    "colab": {
     "base_uri": "https://localhost:8080/"
    },
    "executionInfo": {
     "elapsed": 3314,
     "status": "ok",
     "timestamp": 1707195705863,
     "user": {
      "displayName": "김성환",
      "userId": "02802166581970122576"
     },
     "user_tz": -540
    },
    "id": "20Padgkk4Ye2",
    "outputId": "1fb50431-2064-4f04-93f6-1adcf1f8fa57"
   },
   "outputs": [],
   "source": [
    "saved_model2 = tf.keras.models.load_model(MNIST_MODEL_PATH)\n",
    "saved_model2.evaluate(X_test, test_label)"
   ]
  },
  {
   "cell_type": "code",
   "execution_count": null,
   "metadata": {
    "executionInfo": {
     "elapsed": 17,
     "status": "ok",
     "timestamp": 1707195705863,
     "user": {
      "displayName": "김성환",
      "userId": "02802166581970122576"
     },
     "user_tz": -540
    },
    "id": "I6XW9TWX4Ybx"
   },
   "outputs": [],
   "source": []
  },
  {
   "cell_type": "markdown",
   "metadata": {
    "id": "7xgQxAU666NZ"
   },
   "source": [
    "## Callback을 사용한 모델 저장(training 중 저장) 및 Early Stopping\n",
    "- callback은 학습하는 도중 특정 이벤트 발생시 호출되는 다양한 함수를 제공하여 자동화 처리를 지원한다. (cf: 프로그래밍의 콜백함수)\n",
    "- Keras는 학습하는 도중 호출되는 다양한 콜백 클래스들을 제공한다.\n",
    "    - https://www.tensorflow.org/api_docs/python/tf/keras/callbacks\n",
    "- ### ModelCheckpoint\n",
    "    - 각 epoch 마다 학습한 모델과 weight(또는 weight만)를 저장한다.\n",
    "    - 지정한 평가지표(예:validation loss)가 가장 좋을 때 모델과 weight만 저장할 수 있다.\n",
    "    - 주요 파라미터\n",
    "        - `save_weights_only=True`: True: 파라미터(weight)만 저장한다. False: 모델구조와 파라미터 모두 저장한다.\n",
    "        - `save_best_only=True`: 학습중 성능이 개선될 때만 저장한다. (False:기본값 - 모든 에폭마다 저장한다.)\n",
    "- ### EarlyStopping\n",
    "    - Validation set에 대한 평가지표가  더 이상 개선되지 않을 때 학습을 자동으로 멈추는 callback\n",
    "    - 주요 파라미터\n",
    "        - `monitor`: 모니터링할 평가지표 지정. (ex: accuracy)\n",
    "        - `patience`: epoch 수 지정. validation 평가 지표가 개선이 안되더라도 지정한 epoch만큼 반복한다. 지정한 epoch만큼 반복 후에도 개선이 되지 않으면 중단한다.\n",
    "\n",
    "- **callback 객체들을 리스트로 묶은 뒤 fit()의 callbacks 매개변수에 전달한다.**"
   ]
  },
  {
   "cell_type": "code",
   "execution_count": null,
   "metadata": {
    "ExecuteTime": {
     "end_time": "2023-07-20T06:40:45.304411Z",
     "start_time": "2023-07-20T06:40:36.361423Z"
    },
    "executionInfo": {
     "elapsed": 16,
     "status": "ok",
     "timestamp": 1707195705863,
     "user": {
      "displayName": "김성환",
      "userId": "02802166581970122576"
     },
     "user_tz": -540
    },
    "id": "-8pMWxTe2bey"
   },
   "outputs": [],
   "source": [
    "import tensorflow as tf"
   ]
  },
  {
   "cell_type": "code",
   "execution_count": null,
   "metadata": {
    "executionInfo": {
     "elapsed": 17,
     "status": "ok",
     "timestamp": 1707195705864,
     "user": {
      "displayName": "김성환",
      "userId": "02802166581970122576"
     },
     "user_tz": -540
    },
    "id": "CQJLX0Hn2oYM"
   },
   "outputs": [],
   "source": [
    "#  모델생성\n",
    "model2 = get_mnist_cnn_model(LEARNING_RATE)"
   ]
  },
  {
   "cell_type": "code",
   "execution_count": null,
   "metadata": {
    "colab": {
     "base_uri": "https://localhost:8080/"
    },
    "executionInfo": {
     "elapsed": 38524,
     "status": "ok",
     "timestamp": 1707195744371,
     "user": {
      "displayName": "김성환",
      "userId": "02802166581970122576"
     },
     "user_tz": -540
    },
    "id": "RZCr_SL-63EB",
    "outputId": "2ff2efb9-c35b-4380-a439-01cb495a4b16"
   },
   "outputs": [],
   "source": [
    "# 모델 저장 경로\n",
    "SAVE_PATH = os.path.join(SAVE_MODEL_PATH, 'MNIST_MODEL_CALLBACK')\n",
    "\n",
    "mc_callback = keras.callbacks.ModelCheckpoint(filepath=SAVE_PATH,\n",
    "                                              save_best_only=True,\n",
    "                                              monitor='val_loss',\n",
    "                                              verbose=1\n",
    "                                              )\n",
    "\n",
    "early_stop_callback = keras.callbacks.EarlyStopping(monitor='val_loss',\n",
    "                                                    patience=5,\n",
    "                                                    verbose=1\n",
    "                                                    )\n",
    "\n",
    "hist = model2.fit(X_train, train_label, epochs=100, batch_size=N_BATCH, validation_split=0.2,\n",
    "                  callbacks=[mc_callback, early_stop_callback])"
   ]
  },
  {
   "cell_type": "code",
   "execution_count": null,
   "metadata": {
    "colab": {
     "base_uri": "https://localhost:8080/"
    },
    "executionInfo": {
     "elapsed": 5987,
     "status": "ok",
     "timestamp": 1707195750346,
     "user": {
      "displayName": "김성환",
      "userId": "02802166581970122576"
     },
     "user_tz": -540
    },
    "id": "Z8BpUWEd63Bb",
    "outputId": "2bf870f9-8348-4de2-da8f-1c098cdc18bb"
   },
   "outputs": [],
   "source": [
    "# 저장된 모델을 loading\n",
    "saved_model4 = models.load_model(SAVE_PATH)\n",
    "saved_model4.evaluate(X_test, test_label)\n"
   ]
  },
  {
   "cell_type": "code",
   "execution_count": null,
   "metadata": {
    "colab": {
     "base_uri": "https://localhost:8080/"
    },
    "executionInfo": {
     "elapsed": 11063,
     "status": "ok",
     "timestamp": 1707195761383,
     "user": {
      "displayName": "김성환",
      "userId": "02802166581970122576"
     },
     "user_tz": -540
    },
    "id": "xNWLymyH62_H",
    "outputId": "2dcab270-290d-4903-d8c1-316eb148d7db"
   },
   "outputs": [],
   "source": [
    "# weight 만 저장하도록 callback 설정\n",
    "model3 = get_mnist_cnn_model(LEARNING_RATE)\n",
    "\n",
    "SAVE_PATH = os.path.join(SAVE_MODEL_PATH, 'MNIST_WEIGHTS_CALLBACK/ckpt')\n",
    "mc_callback = keras.callbacks.ModelCheckpoint(filepath=SAVE_PATH,\n",
    "                                              save_best_only=True,\n",
    "                                              monitor='val_loss',\n",
    "                                              verbose=1,\n",
    "                                              save_weights_only=True,\n",
    "                                              )\n",
    "\n",
    "early_stop_callback = keras.callbacks.EarlyStopping(monitor='val_loss',\n",
    "                                                    patience=5,\n",
    "                                                    verbose=1\n",
    "                                                    )\n",
    "\n",
    "hist = model3.fit(X_train, train_label, epochs=10, batch_size=N_BATCH, validation_split=0.2,\n",
    "                  callbacks=[mc_callback, early_stop_callback])"
   ]
  },
  {
   "cell_type": "code",
   "execution_count": null,
   "metadata": {
    "colab": {
     "base_uri": "https://localhost:8080/"
    },
    "executionInfo": {
     "elapsed": 16,
     "status": "ok",
     "timestamp": 1707195761384,
     "user": {
      "displayName": "김성환",
      "userId": "02802166581970122576"
     },
     "user_tz": -540
    },
    "id": "g2dAyNdj628L",
    "outputId": "8b8adfc2-48f4-423a-ed7f-443f63359d56"
   },
   "outputs": [],
   "source": [
    "saved_model4 = get_mnist_cnn_model(LEARNING_RATE)\n",
    "saved_model4.load_weights(SAVE_PATH)"
   ]
  },
  {
   "cell_type": "code",
   "execution_count": null,
   "metadata": {
    "colab": {
     "base_uri": "https://localhost:8080/"
    },
    "executionInfo": {
     "elapsed": 1770,
     "status": "ok",
     "timestamp": 1707195763140,
     "user": {
      "displayName": "김성환",
      "userId": "02802166581970122576"
     },
     "user_tz": -540
    },
    "id": "F8xUPDUuA1vb",
    "outputId": "6c9b8ae9-1cdc-47d0-8e00-98b7d3ccc0ea"
   },
   "outputs": [],
   "source": [
    "saved_model4.evaluate(X_test, test_label)"
   ]
  },
  {
   "cell_type": "code",
   "execution_count": null,
   "metadata": {
    "executionInfo": {
     "elapsed": 8,
     "status": "ok",
     "timestamp": 1707195763140,
     "user": {
      "displayName": "김성환",
      "userId": "02802166581970122576"
     },
     "user_tz": -540
    },
    "id": "8w4t4lna2oYM"
   },
   "outputs": [],
   "source": []
  }
 ],
 "metadata": {
  "colab": {
   "collapsed_sections": [
    "2ARCyjDW66NR"
   ],
   "provenance": []
  },
  "kernelspec": {
   "display_name": "Python 3 (ipykernel)",
   "language": "python",
   "name": "python3"
  },
  "language_info": {
   "codemirror_mode": {
    "name": "ipython",
    "version": 3
   },
   "file_extension": ".py",
   "mimetype": "text/x-python",
   "name": "python",
   "nbconvert_exporter": "python",
   "pygments_lexer": "ipython3",
   "version": "3.10.13"
  },
  "toc": {
   "base_numbering": 1,
   "nav_menu": {},
   "number_sections": true,
   "sideBar": true,
   "skip_h1_title": false,
   "title_cell": "Table of Contents",
   "title_sidebar": "Contents",
   "toc_cell": false,
   "toc_position": {},
   "toc_section_display": true,
   "toc_window_display": false
  },
  "varInspector": {
   "cols": {
    "lenName": 16,
    "lenType": 16,
    "lenVar": 40
   },
   "kernels_config": {
    "python": {
     "delete_cmd_postfix": "",
     "delete_cmd_prefix": "del ",
     "library": "var_list.py",
     "varRefreshCmd": "print(var_dic_list())"
    },
    "r": {
     "delete_cmd_postfix": ") ",
     "delete_cmd_prefix": "rm(",
     "library": "var_list.r",
     "varRefreshCmd": "cat(var_dic_list()) "
    }
   },
   "types_to_exclude": [
    "module",
    "function",
    "builtin_function_or_method",
    "instance",
    "_Feature"
   ],
   "window_display": false
  }
 },
 "nbformat": 4,
 "nbformat_minor": 4
}
