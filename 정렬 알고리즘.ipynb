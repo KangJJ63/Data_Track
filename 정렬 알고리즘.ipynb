{
 "cells": [
  {
   "cell_type": "markdown",
   "id": "9ca8f773",
   "metadata": {},
   "source": [
    "# 정렬 알고리즘\n",
    "\n",
    "## 1. 선택 정렬 (Selection Sort)\n",
    "\n",
    "- 데이터중 가장 작은 데이터를 선택해 맨 앞의 데이터와 교체하고, 나머지 데이터들로 이 과정을 반복하는 정렬 알고리즘\n",
    "![선택정렬](https://blog.kakaocdn.net/dn/cZQbUG/btrPyuSnfNC/Ko9PhsE7CRoJqEs5ZKN48K/img.gif)\n",
    "\n"
   ]
  },
  {
   "cell_type": "code",
   "execution_count": 1,
   "id": "4289a362",
   "metadata": {},
   "outputs": [
    {
     "name": "stdout",
     "output_type": "stream",
     "text": [
      "1 [8, 50, 17, 25, 18, 32, 33, 44, 29, 22]\n",
      "2 [8, 17, 50, 25, 18, 32, 33, 44, 29, 22]\n",
      "3 [8, 17, 18, 25, 50, 32, 33, 44, 29, 22]\n",
      "4 [8, 17, 18, 22, 50, 32, 33, 44, 29, 25]\n",
      "5 [8, 17, 18, 22, 25, 32, 33, 44, 29, 50]\n",
      "6 [8, 17, 18, 22, 25, 29, 33, 44, 32, 50]\n",
      "7 [8, 17, 18, 22, 25, 29, 32, 44, 33, 50]\n",
      "8 [8, 17, 18, 22, 25, 29, 32, 33, 44, 50]\n",
      "9 [8, 17, 18, 22, 25, 29, 32, 33, 44, 50]\n",
      "10 [8, 17, 18, 22, 25, 29, 32, 33, 44, 50]\n",
      "최종 : [8, 17, 18, 22, 25, 29, 32, 33, 44, 50]\n"
     ]
    }
   ],
   "source": [
    "data = [22, 50, 17, 25, 18, 32, 33, 44, 29, 8]\n",
    "for i in range (len(data)):\n",
    "    min_index = i\n",
    "    for j in range (i+1, len(data)):\n",
    "        if data[min_index] > data[j] :\n",
    "            min_index = j # 데이터 중 가장 작은 데이터의 인덱스\n",
    "    data[min_index], data[i] = data[i], data[min_index] # i = 맨 앞의 데이터\n",
    "    print(i+1, data)\n",
    "\n",
    "print('최종 :', data)"
   ]
  },
  {
   "cell_type": "markdown",
   "id": "2aa92152",
   "metadata": {},
   "source": [
    "- 데이터 개수를 N개라고 할 때, N + (N-1) + (N-2) + ... + 2 = (N*(N+1)/2)-1 회의 연산이 필요하므로 O(N^2)의 시간복잡도를 가진다."
   ]
  },
  {
   "cell_type": "markdown",
   "id": "5284fe1d",
   "metadata": {},
   "source": [
    "## 2. 삽입 정렬 (Insertion Sort)\n",
    "- 데이터를 순차적으로 뽑아 적절한 위치를 찾아 삽입하는 정렬 알고리즘\n",
    "![삽입정렬](https://blog.kakaocdn.net/dn/yjIQN/btrPzM5xqPz/mDQr7ppZeDFh2xpZsKS8w0/img.gif)"
   ]
  },
  {
   "cell_type": "code",
   "execution_count": 2,
   "id": "32d61a1a",
   "metadata": {},
   "outputs": [
    {
     "name": "stdout",
     "output_type": "stream",
     "text": [
      "1 [3, 44, 38, 5, 47, 15, 36, 26, 27, 2]\n",
      "2 [3, 38, 44, 5, 47, 15, 36, 26, 27, 2]\n",
      "3 [3, 5, 38, 44, 47, 15, 36, 26, 27, 2]\n",
      "4 [3, 5, 38, 44, 47, 15, 36, 26, 27, 2]\n",
      "5 [3, 5, 15, 38, 44, 47, 36, 26, 27, 2]\n",
      "6 [3, 5, 15, 36, 38, 44, 47, 26, 27, 2]\n",
      "7 [3, 5, 15, 26, 36, 38, 44, 47, 27, 2]\n",
      "8 [3, 5, 15, 26, 27, 36, 38, 44, 47, 2]\n",
      "9 [2, 3, 5, 15, 26, 27, 36, 38, 44, 47]\n",
      "최종 : [2, 3, 5, 15, 26, 27, 36, 38, 44, 47]\n"
     ]
    }
   ],
   "source": [
    "data = [3, 44, 38, 5, 47, 15, 36, 26, 27, 2]\n",
    "\n",
    "for i in range(1,len(data)):\n",
    "    for j in range(i-1,-1,-1):\n",
    "        if data[j] > data[j+1]:\n",
    "            data[j], data[j+1] = data[j+1], data[j]\n",
    "    print(i, data)\n",
    "\n",
    "print('최종 :', data)"
   ]
  },
  {
   "cell_type": "markdown",
   "id": "f5a965ee",
   "metadata": {},
   "source": [
    "- 필요할 때만 위치를 바꾸기 때문에 이미 정렬되어 있는 데이터가 많을 수록 효과적임"
   ]
  },
  {
   "cell_type": "markdown",
   "id": "8d6202bf",
   "metadata": {},
   "source": [
    "## 3. 버블 정렬 (Bubble Sort)\n",
    "- 현재 데이터와 옆에 있는 데이터를 비교해 작은 값을 앞으로 보내는 작업을 반복하는 정렬 알고리즘\n",
    "![버블정렬](https://blog.kakaocdn.net/dn/dVmsLw/btrPAKsJUzh/iXGIW6zC8y00UqeYh4qRj0/img.gif)"
   ]
  },
  {
   "cell_type": "code",
   "execution_count": 3,
   "id": "21a0e2bc",
   "metadata": {
    "scrolled": true
   },
   "outputs": [
    {
     "name": "stdout",
     "output_type": "stream",
     "text": [
      "0 [34, 6, 16, 38, 36, 28, 19, 41, 43, 45, 49]\n",
      "1 [6, 16, 34, 36, 28, 19, 38, 41, 43, 45, 49]\n",
      "2 [6, 16, 34, 28, 19, 36, 38, 41, 43, 45, 49]\n",
      "3 [6, 16, 28, 19, 34, 36, 38, 41, 43, 45, 49]\n",
      "4 [6, 16, 19, 28, 34, 36, 38, 41, 43, 45, 49]\n",
      "5 [6, 16, 19, 28, 34, 36, 38, 41, 43, 45, 49]\n",
      "6 [6, 16, 19, 28, 34, 36, 38, 41, 43, 45, 49]\n",
      "7 [6, 16, 19, 28, 34, 36, 38, 41, 43, 45, 49]\n",
      "8 [6, 16, 19, 28, 34, 36, 38, 41, 43, 45, 49]\n",
      "9 [6, 16, 19, 28, 34, 36, 38, 41, 43, 45, 49]\n",
      "10 [6, 16, 19, 28, 34, 36, 38, 41, 43, 45, 49]\n",
      "최종 : [6, 16, 19, 28, 34, 36, 38, 41, 43, 45, 49]\n"
     ]
    }
   ],
   "source": [
    "data = [41, 34, 6, 16, 38, 36, 28, 19, 45, 43, 49]\n",
    "\n",
    "for i in range(0,len(data)):\n",
    "    for j in range(0, len(data)-i-1): # 큰 값이 가장 먼저 뒤로 보내짐 (gif 주황색)\n",
    "        if data[j] > data[j+1]:\n",
    "            data[j], data[j+1] = data[j+1], data[j]\n",
    "    print(i, data)\n",
    "\n",
    "print('최종 :', data)"
   ]
  },
  {
   "cell_type": "markdown",
   "id": "352b6dac",
   "metadata": {},
   "source": [
    "## 4. 퀵 정렬 (Quick Sort)\n",
    "- 가장 많이 사용되는 정렬 알고리즘, 프로그래밍 언어의 정렬 라이브러리의 근간이 되는 알고리즘\n",
    "- 기준(Pivot)을 설정해 두 집합으로 나누고 왼쪽에 Pivot보다 작은 값, 오른쪽에 Pivot보다 큰 값으로 정렬\n",
    "- 더 이상 집합을 나눌 수 없을 때 까지 재귀적으로 실행\n",
    "![퀵정렬](https://blog.kakaocdn.net/dn/dgLx4l/btrPymUqPT9/VMLdHtKtvoinySclMDu860/img.gif)"
   ]
  },
  {
   "cell_type": "code",
   "execution_count": 4,
   "id": "30d3f354",
   "metadata": {},
   "outputs": [
    {
     "name": "stdout",
     "output_type": "stream",
     "text": [
      "[3, 44, 38, 5, 47, 15, 36, 26, 27] pivot : 3\n",
      "[3, 26, 38, 5, 27, 15, 36, 44, 47] pivot : 44\n",
      "[3, 5, 15, 26, 27, 38, 36, 44, 47] pivot : 26\n",
      "[3, 5, 15, 26, 27, 38, 36, 44, 47] pivot : 5\n",
      "[3, 5, 15, 26, 27, 38, 36, 44, 47] pivot : 27\n",
      "[3, 5, 15, 26, 27, 36, 38, 44, 47] pivot : 38\n",
      "최종 : [3, 5, 15, 26, 27, 36, 38, 44, 47]\n"
     ]
    }
   ],
   "source": [
    "data = [3, 44, 38, 5, 47, 15, 36, 26, 27]\n",
    "\n",
    "def quickSort(A, first, last):\n",
    "    if first >= last: return\n",
    "    left, right = first+1, last\n",
    "    pivot = A[first]\n",
    "    while left <= right:\n",
    "        while left <= last and A[left] < pivot:\n",
    "            left += 1\n",
    "        while right > first and A[right] >= pivot:\n",
    "            right -= 1\n",
    "        if left <= right:\n",
    "            A[left], A[right] = A[right], A[left]\n",
    "            left += 1\n",
    "            right -= 1\n",
    "    A[first], A[right] = A[right], A[first]\n",
    "    print(A, 'pivot :',pivot)\n",
    "    quickSort(A, first, right-1)\n",
    "    quickSort(A, right+1, last)\n",
    "\n",
    "quickSort(data, 0, len(data)-1)\n",
    "print('최종 :', data)"
   ]
  },
  {
   "cell_type": "markdown",
   "id": "0b234f68",
   "metadata": {},
   "source": [
    "- 평균 시간 복잡도 O(N logN)으로 삽입, 선택 정렬에 비해 빠른 알고리즘 (최악에선 O(N^2))\n",
    "- 반대로 이미 정렬된 데이터에는 비효율적으로 작용함 (이럴 때 삽입 정렬이 효율적)"
   ]
  },
  {
   "cell_type": "markdown",
   "id": "42aaa763",
   "metadata": {},
   "source": [
    "## 5. 병합 정렬 (Merge Sort)\n",
    "- 데이터를 2개 이상의 부분 배열로 분할하고 부분 배열에서 정렬을 한 뒤 결합하여 정렬을 진행하는 알고리즘\n",
    "![병합정렬](https://blog.kakaocdn.net/dn/bocCbK/btrPxHLrmrT/iFEogVyWNenAuT1UOX6Ng1/img.gif)"
   ]
  },
  {
   "cell_type": "code",
   "execution_count": 5,
   "id": "5a8e884d",
   "metadata": {
    "scrolled": true
   },
   "outputs": [
    {
     "name": "stdout",
     "output_type": "stream",
     "text": [
      "[3, 44]\n",
      "[5, 38]\n",
      "[3, 5, 38, 44]\n",
      "[15, 47]\n",
      "[26, 36]\n",
      "[15, 26, 36, 47]\n",
      "[3, 5, 15, 26, 36, 38, 44, 47]\n",
      "최종 : [3, 5, 15, 26, 36, 38, 44, 47]\n"
     ]
    }
   ],
   "source": [
    "data = [3, 44, 38, 5, 47, 15, 36, 26]\n",
    "def merge_sort(A, first, last):\n",
    "    if first >= last: return\n",
    "    middle = (first+last)//2\n",
    "    merge_sort(A, first, middle)\n",
    "    merge_sort(A, middle+1, last)\n",
    "    B = []\n",
    "    i = first\n",
    "    j = middle+1\n",
    "    while i <= middle and j <= last:\n",
    "        if A[i] <= A[j]:\n",
    "            B.append(A[i])\n",
    "            i += 1\n",
    "        else:\n",
    "            B.append(A[j])\n",
    "            j += 1\n",
    "\n",
    "    for i in range(i, middle+1): B.append(A[i])\n",
    "    for j in range(j, last+1): B.append(A[j])\n",
    "    for k in range(first, last+1): A[k] = B[k-first]\n",
    "    print(B)\n",
    "\n",
    "\n",
    "merge_sort(data, 0, len(data)-1)\n",
    "print('최종 :', data)"
   ]
  },
  {
   "cell_type": "markdown",
   "id": "b6793b79",
   "metadata": {},
   "source": [
    "- 데이터를 정확히 반으로 나누어 정렬하기 때문에 항상 일정한 시간 복잡도를 유지함\n",
    "- 최악, 평균, 최선 모두 O(N logN)의 시간 복잡도\n",
    "- Python Sorted()함수의 기반"
   ]
  },
  {
   "cell_type": "markdown",
   "id": "b72af77c",
   "metadata": {},
   "source": [
    "## Sorted()\n",
    "\n",
    "```python\n",
    "sorted(정렬할 객체, key = 정렬기준)\n",
    "```"
   ]
  },
  {
   "cell_type": "markdown",
   "id": "f2203549",
   "metadata": {},
   "source": [
    "예제) 1. 길이 짧은순, 2. 사전 순의 우선순위로 단어 정렬하기"
   ]
  },
  {
   "cell_type": "code",
   "execution_count": 6,
   "id": "97ca1fec",
   "metadata": {},
   "outputs": [
    {
     "name": "stdout",
     "output_type": "stream",
     "text": [
      "['i', 'im', 'it', 'no', 'no', 'but', 'more', 'more', 'wait', 'wont', 'yours', 'cannot', 'hesitate']\n"
     ]
    }
   ],
   "source": [
    "data = ['but', 'i', 'wont', 'hesitate', 'no', 'more', 'no', 'more', 'it', 'cannot', 'wait', 'im', 'yours']\n",
    "result = sorted(data, key=lambda x : (len(x), x))\n",
    "print(result)"
   ]
  }
 ],
 "metadata": {
  "kernelspec": {
   "display_name": "Python 3 (ipykernel)",
   "language": "python",
   "name": "python3"
  },
  "language_info": {
   "codemirror_mode": {
    "name": "ipython",
    "version": 3
   },
   "file_extension": ".py",
   "mimetype": "text/x-python",
   "name": "python",
   "nbconvert_exporter": "python",
   "pygments_lexer": "ipython3",
   "version": "3.10.13"
  }
 },
 "nbformat": 4,
 "nbformat_minor": 5
}
