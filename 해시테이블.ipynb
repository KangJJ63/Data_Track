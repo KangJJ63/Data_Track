{
 "cells": [
  {
   "cell_type": "markdown",
   "id": "337f6282-c49d-4d69-97ec-da9cac8f3138",
   "metadata": {},
   "source": [
    "문자열 중에 빈도수가 높은 상위 3개의 단어와 해당 단어가 나온 개수를 출력하라.\n",
    "\n",
    "i : 10 , z : 8 ,  d : 6"
   ]
  },
  {
   "cell_type": "code",
   "execution_count": 1,
   "id": "5705d466-aabb-4475-81dd-bb8e33c8a9e9",
   "metadata": {
    "tags": []
   },
   "outputs": [
    {
     "ename": "ValueError",
     "evalue": "invalid literal for int() with base 10: ''",
     "output_type": "error",
     "traceback": [
      "\u001b[1;31m---------------------------------------------------------------------------\u001b[0m",
      "\u001b[1;31mValueError\u001b[0m                                Traceback (most recent call last)",
      "Cell \u001b[1;32mIn[1], line 4\u001b[0m\n\u001b[0;32m      1\u001b[0m \u001b[38;5;28;01mimport\u001b[39;00m \u001b[38;5;21;01msys\u001b[39;00m\n\u001b[0;32m      2\u001b[0m \u001b[38;5;28;01mfrom\u001b[39;00m \u001b[38;5;21;01mcollections\u001b[39;00m \u001b[38;5;28;01mimport\u001b[39;00m deque\n\u001b[1;32m----> 4\u001b[0m n \u001b[38;5;241m=\u001b[39m \u001b[38;5;28mint\u001b[39m(sys\u001b[38;5;241m.\u001b[39mstdin\u001b[38;5;241m.\u001b[39mreadline())\n\u001b[0;32m      5\u001b[0m balloons \u001b[38;5;241m=\u001b[39m [i \u001b[38;5;28;01mfor\u001b[39;00m i \u001b[38;5;129;01min\u001b[39;00m \u001b[38;5;28mrange\u001b[39m(\u001b[38;5;241m1\u001b[39m, n\u001b[38;5;241m+\u001b[39m\u001b[38;5;241m1\u001b[39m)]\n\u001b[0;32m      6\u001b[0m nums \u001b[38;5;241m=\u001b[39m \u001b[38;5;28mlist\u001b[39m(\u001b[38;5;28mmap\u001b[39m(\u001b[38;5;28mint\u001b[39m, \u001b[38;5;28minput\u001b[39m()\u001b[38;5;241m.\u001b[39msplit()))\n",
      "\u001b[1;31mValueError\u001b[0m: invalid literal for int() with base 10: ''"
     ]
    }
   ],
   "source": [
    "import sys\n",
    "from collections import deque\n",
    "\n",
    "n = int(sys.stdin.readline())\n",
    "balloons = [i for i in range(1, n+1)]\n",
    "nums = list(map(int, input().split()))\n",
    "\n",
    "dq = deque(balloons)\n",
    "result = []\n",
    "\n",
    "while True:\n",
    "    result.append(dq[0])\n",
    "    \n",
    "    if len(result) == n:\n",
    "        break\n",
    "    \n",
    "    dq.rotate(-nums[dq[0]-1])\n",
    "    dq.remove(result[-1])\n",
    "    \n",
    "print(*result)"
   ]
  },
  {
   "cell_type": "code",
   "execution_count": null,
   "id": "8a0a1be4-8f8a-480f-bd22-d68df7d4dfe6",
   "metadata": {},
   "outputs": [],
   "source": []
  },
  {
   "cell_type": "code",
   "execution_count": null,
   "id": "90c959ac-fbbd-4ce6-89af-18d9024c471d",
   "metadata": {},
   "outputs": [],
   "source": []
  },
  {
   "cell_type": "code",
   "execution_count": null,
   "id": "17faa4f0-8919-44f3-b1e1-c392e933aa2e",
   "metadata": {},
   "outputs": [],
   "source": []
  },
  {
   "cell_type": "code",
   "execution_count": null,
   "id": "1cc11c9c-68f3-48c2-bd55-a8cf18653309",
   "metadata": {},
   "outputs": [],
   "source": []
  },
  {
   "cell_type": "code",
   "execution_count": 6,
   "id": "3599862f-a128-4f6f-b056-72d30cbf5222",
   "metadata": {
    "tags": []
   },
   "outputs": [],
   "source": [
    "words = \"sadfsdfsdafsdfwefsdfindowiomweionwifnweifmweifwef\""
   ]
  },
  {
   "cell_type": "code",
   "execution_count": 7,
   "id": "5f5e2900-7eda-46d0-8045-50029d323be6",
   "metadata": {
    "tags": []
   },
   "outputs": [],
   "source": [
    "words_set = set(list(words))"
   ]
  },
  {
   "cell_type": "code",
   "execution_count": 16,
   "id": "39493bcb-6c57-454a-921b-86aa4a484eac",
   "metadata": {
    "tags": []
   },
   "outputs": [
    {
     "data": {
      "text/plain": [
       "{'a', 'd', 'e', 'f', 'i', 'm', 'n', 'o', 's', 'w'}"
      ]
     },
     "execution_count": 16,
     "metadata": {},
     "output_type": "execute_result"
    }
   ],
   "source": [
    "words_set"
   ]
  },
  {
   "cell_type": "code",
   "execution_count": 17,
   "id": "0a6c4c72-3c7c-4e19-9635-4182f1bd7747",
   "metadata": {
    "tags": []
   },
   "outputs": [],
   "source": [
    "from collections import defaultdict"
   ]
  },
  {
   "cell_type": "code",
   "execution_count": 23,
   "id": "9d09c35d-57dc-40dd-9c0f-39e54e1074b1",
   "metadata": {
    "tags": []
   },
   "outputs": [],
   "source": [
    "dt = defaultdict(int)"
   ]
  },
  {
   "cell_type": "code",
   "execution_count": 24,
   "id": "67473986-c7a1-429e-8e4e-5c0acb044ebb",
   "metadata": {
    "tags": []
   },
   "outputs": [],
   "source": [
    "dt['a'] += 1"
   ]
  },
  {
   "cell_type": "code",
   "execution_count": 27,
   "id": "d11e6d01-30ff-4a98-9cd1-3a18bb7a5764",
   "metadata": {
    "tags": []
   },
   "outputs": [],
   "source": [
    "dt = {i:0 for i in words_set}"
   ]
  },
  {
   "cell_type": "code",
   "execution_count": 28,
   "id": "472c443c-fe93-4a6b-87fc-9fe75c22af5a",
   "metadata": {
    "tags": []
   },
   "outputs": [
    {
     "data": {
      "text/plain": [
       "{'o': 0,\n",
       " 'w': 0,\n",
       " 'n': 0,\n",
       " 'f': 0,\n",
       " 's': 0,\n",
       " 'i': 0,\n",
       " 'a': 0,\n",
       " 'e': 0,\n",
       " 'd': 0,\n",
       " 'm': 0}"
      ]
     },
     "execution_count": 28,
     "metadata": {},
     "output_type": "execute_result"
    }
   ],
   "source": [
    "dt"
   ]
  },
  {
   "cell_type": "code",
   "execution_count": 26,
   "id": "b944a23c-0a95-47b2-beb7-a59bfb08ccc9",
   "metadata": {
    "tags": []
   },
   "outputs": [
    {
     "data": {
      "text/plain": [
       "0"
      ]
     },
     "execution_count": 26,
     "metadata": {},
     "output_type": "execute_result"
    }
   ],
   "source": [
    "dt['m']"
   ]
  },
  {
   "cell_type": "code",
   "execution_count": null,
   "id": "a23a8e92-acc5-4a19-9d7f-e0fc1036cce1",
   "metadata": {},
   "outputs": [],
   "source": []
  },
  {
   "cell_type": "code",
   "execution_count": 29,
   "id": "5f9dcd7d-8833-4f8d-8408-1ac2f0e7bb97",
   "metadata": {
    "tags": []
   },
   "outputs": [],
   "source": [
    "for word in words:\n",
    "    dt[word] += 1"
   ]
  },
  {
   "cell_type": "code",
   "execution_count": 30,
   "id": "6cfce038-a574-4217-b388-0ba1bf797b17",
   "metadata": {
    "tags": []
   },
   "outputs": [
    {
     "data": {
      "text/plain": [
       "{'o': 3,\n",
       " 'w': 7,\n",
       " 'n': 3,\n",
       " 'f': 10,\n",
       " 's': 5,\n",
       " 'i': 6,\n",
       " 'a': 2,\n",
       " 'e': 5,\n",
       " 'd': 6,\n",
       " 'm': 2}"
      ]
     },
     "execution_count": 30,
     "metadata": {},
     "output_type": "execute_result"
    }
   ],
   "source": [
    "dt"
   ]
  },
  {
   "cell_type": "code",
   "execution_count": 32,
   "id": "5575030b-6340-4b50-a10b-33ac7a57d11b",
   "metadata": {
    "tags": []
   },
   "outputs": [
    {
     "data": {
      "text/plain": [
       "['f', 'w', 'i']"
      ]
     },
     "execution_count": 32,
     "metadata": {},
     "output_type": "execute_result"
    }
   ],
   "source": [
    "sorted(dt,key = lambda x: dt[x],reverse=True)[:3]"
   ]
  },
  {
   "cell_type": "code",
   "execution_count": 33,
   "id": "57779bd4-c7c3-4737-8b8d-28674c81ac00",
   "metadata": {
    "tags": []
   },
   "outputs": [],
   "source": [
    "result = sorted(dt,key = lambda x: dt[x],reverse=True)[:3]"
   ]
  },
  {
   "cell_type": "code",
   "execution_count": 34,
   "id": "ada81ae6-5072-4c4f-a33c-5fef21390b9f",
   "metadata": {
    "tags": []
   },
   "outputs": [
    {
     "name": "stdout",
     "output_type": "stream",
     "text": [
      "f 10\n",
      "w 7\n",
      "i 6\n"
     ]
    }
   ],
   "source": [
    "for res in result:\n",
    "    print(res,dt[res])"
   ]
  },
  {
   "cell_type": "code",
   "execution_count": 35,
   "id": "efa50370-1eb1-4def-b9ca-f49097e97627",
   "metadata": {
    "tags": []
   },
   "outputs": [],
   "source": [
    "from collections import Counter"
   ]
  },
  {
   "cell_type": "code",
   "execution_count": 37,
   "id": "2c586c0f-58e0-4d29-90ae-81f4e9e35f6d",
   "metadata": {
    "tags": []
   },
   "outputs": [
    {
     "data": {
      "text/plain": [
       "Counter({'f': 10,\n",
       "         'w': 7,\n",
       "         'd': 6,\n",
       "         'i': 6,\n",
       "         's': 5,\n",
       "         'e': 5,\n",
       "         'n': 3,\n",
       "         'o': 3,\n",
       "         'a': 2,\n",
       "         'm': 2})"
      ]
     },
     "execution_count": 37,
     "metadata": {},
     "output_type": "execute_result"
    }
   ],
   "source": [
    "Counter(words).most_common()"
   ]
  },
  {
   "cell_type": "code",
   "execution_count": null,
   "id": "63abbe52-9e1c-4e75-a1df-e8a397c01342",
   "metadata": {},
   "outputs": [],
   "source": []
  },
  {
   "cell_type": "code",
   "execution_count": null,
   "id": "06e9a564-a9d9-4f88-aadf-f8730925407d",
   "metadata": {},
   "outputs": [],
   "source": []
  },
  {
   "cell_type": "code",
   "execution_count": null,
   "id": "9c84ce4b-f8ac-4ceb-94ec-682502a825cb",
   "metadata": {},
   "outputs": [],
   "source": []
  },
  {
   "cell_type": "code",
   "execution_count": 18,
   "id": "7666b6df-6703-481d-8cc1-6f1f04ff66f8",
   "metadata": {
    "tags": []
   },
   "outputs": [
    {
     "data": {
      "text/plain": [
       "[('f', 10), ('w', 7), ('d', 6)]"
      ]
     },
     "execution_count": 18,
     "metadata": {},
     "output_type": "execute_result"
    }
   ],
   "source": [
    "# 1.\n",
    "dt = {w:0 for w in set(words)}\n",
    "for w in words:\n",
    "    dt[w] += 1\n",
    "[(key,dt[key]) for key in sorted(dt,key = lambda x:dt[x],reverse = True)[:3]]"
   ]
  },
  {
   "cell_type": "code",
   "execution_count": 71,
   "id": "9c31cb72-1bb3-4820-806b-7d171334821e",
   "metadata": {
    "tags": []
   },
   "outputs": [
    {
     "data": {
      "text/plain": [
       "[('f', 10), ('w', 7), ('d', 6)]"
      ]
     },
     "execution_count": 71,
     "metadata": {},
     "output_type": "execute_result"
    }
   ],
   "source": [
    "# 2.\n",
    "words_set = set(words)\n",
    "sorted(list(map(lambda x: (x,words.count(x)),list(words_set))),key = lambda x:(-x[1],x))[:3]"
   ]
  },
  {
   "cell_type": "code",
   "execution_count": 66,
   "id": "6c74ba91-65e8-4142-80a8-5acc9c785bf4",
   "metadata": {
    "tags": []
   },
   "outputs": [
    {
     "data": {
      "text/plain": [
       "[('f', 10), ('w', 7), ('d', 6)]"
      ]
     },
     "execution_count": 66,
     "metadata": {},
     "output_type": "execute_result"
    }
   ],
   "source": [
    "# 3.\n",
    "Counter(words).most_common(3)"
   ]
  }
 ],
 "metadata": {
  "kernelspec": {
   "display_name": "Python 3 (ipykernel)",
   "language": "python",
   "name": "python3"
  },
  "language_info": {
   "codemirror_mode": {
    "name": "ipython",
    "version": 3
   },
   "file_extension": ".py",
   "mimetype": "text/x-python",
   "name": "python",
   "nbconvert_exporter": "python",
   "pygments_lexer": "ipython3",
   "version": "3.11.5"
  }
 },
 "nbformat": 4,
 "nbformat_minor": 5
}
