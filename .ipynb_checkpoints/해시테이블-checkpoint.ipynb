{
 "cells": [
  {
   "cell_type": "code",
   "execution_count": 11,
   "id": "3599862f-a128-4f6f-b056-72d30cbf5222",
   "metadata": {
    "tags": []
   },
   "outputs": [],
   "source": [
    "words = \"sadfsdfsdafsdfwefsdfindowiomweionwifnweifmweifwef\""
   ]
  },
  {
   "cell_type": "code",
   "execution_count": 18,
   "id": "7666b6df-6703-481d-8cc1-6f1f04ff66f8",
   "metadata": {
    "tags": []
   },
   "outputs": [
    {
     "data": {
      "text/plain": [
       "[('f', 10), ('w', 7), ('d', 6)]"
      ]
     },
     "execution_count": 18,
     "metadata": {},
     "output_type": "execute_result"
    }
   ],
   "source": [
    "# 1.\n",
    "dt = {w:0 for w in set(words)}\n",
    "for w in words:\n",
    "    dt[w] += 1\n",
    "[(key,dt[key]) for key in sorted(dt,key = lambda x:dt[x],reverse = True)[:3]]"
   ]
  },
  {
   "cell_type": "code",
   "execution_count": 71,
   "id": "9c31cb72-1bb3-4820-806b-7d171334821e",
   "metadata": {
    "tags": []
   },
   "outputs": [
    {
     "data": {
      "text/plain": [
       "[('f', 10), ('w', 7), ('d', 6)]"
      ]
     },
     "execution_count": 71,
     "metadata": {},
     "output_type": "execute_result"
    }
   ],
   "source": [
    "# 2.\n",
    "words_set = set(words)\n",
    "sorted(list(map(lambda x: (x,words.count(x)),list(words_set))),key = lambda x:(-x[1],x))[:3]"
   ]
  },
  {
   "cell_type": "code",
   "execution_count": 66,
   "id": "6c74ba91-65e8-4142-80a8-5acc9c785bf4",
   "metadata": {
    "tags": []
   },
   "outputs": [
    {
     "data": {
      "text/plain": [
       "[('f', 10), ('w', 7), ('d', 6)]"
      ]
     },
     "execution_count": 66,
     "metadata": {},
     "output_type": "execute_result"
    }
   ],
   "source": [
    "# 3.\n",
    "Counter(words).most_common(3)"
   ]
  }
 ],
 "metadata": {
  "kernelspec": {
   "display_name": "Python 3 (ipykernel)",
   "language": "python",
   "name": "python3"
  },
  "language_info": {
   "codemirror_mode": {
    "name": "ipython",
    "version": 3
   },
   "file_extension": ".py",
   "mimetype": "text/x-python",
   "name": "python",
   "nbconvert_exporter": "python",
   "pygments_lexer": "ipython3",
   "version": "3.11.5"
  }
 },
 "nbformat": 4,
 "nbformat_minor": 5
}
