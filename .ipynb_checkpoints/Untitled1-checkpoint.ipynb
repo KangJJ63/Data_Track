{
 "cells": [
  {
   "cell_type": "code",
   "execution_count": 3,
   "id": "6de1f7f0-c8bc-42af-b742-e96bf6319ddb",
   "metadata": {},
   "outputs": [
    {
     "name": "stdin",
     "output_type": "stream",
     "text": [
      " 1\n",
      " 13\n",
      " OOIOIOIOIIOII\n"
     ]
    },
    {
     "name": "stdout",
     "output_type": "stream",
     "text": [
      "4\n"
     ]
    }
   ],
   "source": [
    "N = int(input())\n",
    "M = int(input())\n",
    "S = input()\n",
    "start = end = 0\n",
    "result = 0\n",
    "while end + 3 <= M:\n",
    "    if S[end:end+3] == \"IOI\":\n",
    "        end += 2\n",
    "        if end-start == 2 * N:\n",
    "            result += 1\n",
    "            start += 2\n",
    "    else:\n",
    "        start = end = end + 1\n",
    "print(result)"
   ]
  },
  {
   "cell_type": "code",
   "execution_count": null,
   "id": "401f106b-00fe-477e-af1f-0ac0cb91a1ea",
   "metadata": {},
   "outputs": [],
   "source": []
  }
 ],
 "metadata": {
  "kernelspec": {
   "display_name": "Python 3 (ipykernel)",
   "language": "python",
   "name": "python3"
  },
  "language_info": {
   "codemirror_mode": {
    "name": "ipython",
    "version": 3
   },
   "file_extension": ".py",
   "mimetype": "text/x-python",
   "name": "python",
   "nbconvert_exporter": "python",
   "pygments_lexer": "ipython3",
   "version": "3.10.13"
  }
 },
 "nbformat": 4,
 "nbformat_minor": 5
}
